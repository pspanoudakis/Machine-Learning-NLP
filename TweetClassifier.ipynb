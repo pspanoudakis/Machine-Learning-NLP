{
 "cells": [
  {
   "cell_type": "code",
   "execution_count": 107,
   "metadata": {},
   "outputs": [],
   "source": [
    "TRAIN_SET_PATH = \"./vaccine_train_set.csv\"\n",
    "VALIDATION_SET_PATH = \"./vaccine_validation_set.csv\""
   ]
  },
  {
   "cell_type": "code",
   "execution_count": 108,
   "metadata": {},
   "outputs": [],
   "source": [
    "import math\n",
    "import pandas as pd\n",
    "import numpy as np\n",
    "import matplotlib.pyplot as plt\n",
    "\n",
    "from sklearn.linear_model import LogisticRegression\n",
    "from sklearn.feature_extraction.text import CountVectorizer, TfidfVectorizer\n",
    "from sklearn.metrics import f1_score, recall_score, precision_score"
   ]
  },
  {
   "cell_type": "code",
   "execution_count": 109,
   "metadata": {},
   "outputs": [
    {
     "data": {
      "text/plain": [
       "Unnamed: 0    0\n",
       "tweet         0\n",
       "label         0\n",
       "dtype: int64"
      ]
     },
     "execution_count": 109,
     "metadata": {},
     "output_type": "execute_result"
    }
   ],
   "source": [
    "trainDF = pd.read_csv(TRAIN_SET_PATH)\n",
    "trainDF.isnull().sum()"
   ]
  },
  {
   "cell_type": "code",
   "execution_count": 110,
   "metadata": {},
   "outputs": [
    {
     "data": {
      "text/plain": [
       "Unnamed: 0    0\n",
       "tweet         0\n",
       "label         0\n",
       "dtype: int64"
      ]
     },
     "execution_count": 110,
     "metadata": {},
     "output_type": "execute_result"
    }
   ],
   "source": [
    "validDF = pd.read_csv(VALIDATION_SET_PATH)\n",
    "validDF.isnull().sum()"
   ]
  },
  {
   "cell_type": "code",
   "execution_count": 111,
   "metadata": {},
   "outputs": [],
   "source": [
    "features = trainDF.drop(['label', 'Unnamed: 0'], axis=1)\n",
    "X_train = [ar[0] for ar in features.values]\n",
    "trainLabels = trainDF['label'].values\n",
    "\n",
    "features = validDF.drop(['label', 'Unnamed: 0'], axis=1)\n",
    "X_valid = [ar[0] for ar in features.values]\n",
    "validLabels = validDF['label'].values"
   ]
  },
  {
   "cell_type": "code",
   "execution_count": 112,
   "metadata": {},
   "outputs": [],
   "source": [
    "def customPreprocessor(text: str):\n",
    "    import re\n",
    "    \n",
    "    # remove url's\n",
    "    trimmedText = re.sub(r'https?://\\S+|www\\.\\S+', '', text).lower()\n",
    "\n",
    "    # remove @ mentions and numbers\n",
    "    res = list()\n",
    "    wait_whitespace = False\n",
    "    for c in trimmedText:\n",
    "        if wait_whitespace:\n",
    "            if c == \" \":\n",
    "                wait_whitespace = False\n",
    "            continue\n",
    "        elif re.match(\"[0-9]\", c) or c == \"@\":\n",
    "            wait_whitespace = True\n",
    "            continue            \n",
    "        res.append(c)\n",
    "    \n",
    "    return ''.join(res)\n",
    "\n",
    "vectorizer = TfidfVectorizer(max_df=0.85, min_df=0.01, ngram_range=(1,3))\n",
    "# vectorizer = TfidfVectorizer(preprocessor=customPreprocessor, stop_words=\"english\", max_df=0.85, min_df=0.01)\n",
    "trainSamples = vectorizer.fit_transform(X_train)\n",
    "validSamples = vectorizer.transform(X_valid)"
   ]
  },
  {
   "cell_type": "code",
   "execution_count": 113,
   "metadata": {},
   "outputs": [],
   "source": [
    "def learningCurvePredictions(classifier: LogisticRegression, trainSamples, trainLabels, startingPct, numBatches):\n",
    "    validPredictions: \"list[list[int]]\" = []\n",
    "    trainPredictions: \"list[list[int]]\" = []\n",
    "    trainSizes = [ math.floor(f*len(trainLabels)) for f in np.linspace(startingPct, 1, numBatches) ]\n",
    "    print(\"Training using train set with size:\")\n",
    "    for i in trainSizes:\n",
    "        print('\\r', i, end='')\n",
    "        currentBatch = trainSamples[:i]\n",
    "        classifier.fit(currentBatch, trainLabels[:i])\n",
    "        trainPredictions.append(classifier.predict(currentBatch))\n",
    "        validPredictions.append(classifier.predict(validSamples))\n",
    "    \n",
    "    return trainSizes, trainPredictions, validPredictions"
   ]
  },
  {
   "cell_type": "code",
   "execution_count": 114,
   "metadata": {},
   "outputs": [],
   "source": [
    "F1_KEY = \"F1\"\n",
    "PREC_KEY = \"Precision\"\n",
    "REC_KEY = \"Recall\"\n",
    "\n",
    "def metricScores(trainPredictions: \"list[list[int]]\", validPredictions: \"list[list[int]]\", trainLabels: \"list[int]\", validLabels: \"list[int]\"):\n",
    "    tScores = {\n",
    "        F1_KEY: [],\n",
    "        PREC_KEY: [],\n",
    "        REC_KEY: []\n",
    "    }\n",
    "    vScores = {\n",
    "        F1_KEY: [],\n",
    "        PREC_KEY: [],\n",
    "        REC_KEY: []\n",
    "    }\n",
    "    for tp, vp in zip(trainPredictions, validPredictions):\n",
    "        x = len(tp)\n",
    "        tScores[\"F1\"].append(round(f1_score(trainLabels[:x], tp, average=\"micro\"), 4))\n",
    "        tScores[\"Precision\"].append(round(precision_score(trainLabels[:x], tp, average=\"macro\"), 4))\n",
    "        tScores[\"Recall\"].append(round(recall_score(trainLabels[:x], tp, average=\"macro\"), 4))\n",
    "\n",
    "        vScores[\"F1\"].append(round(f1_score(validLabels, vp, average=\"micro\"), 4))\n",
    "        vScores[\"Precision\"].append(round(precision_score(validLabels, vp, average=\"macro\"), 4))\n",
    "        vScores[\"Recall\"].append(round(recall_score(validLabels, vp, average=\"macro\"), 4))\n",
    "    \n",
    "    return tScores, vScores"
   ]
  },
  {
   "cell_type": "code",
   "execution_count": 115,
   "metadata": {},
   "outputs": [],
   "source": [
    "def metricStatsDF(tScores: \"dict[str, list[int]]\", vScores: \"dict[str, list[int]]\"):\n",
    "    metricStats = {}\n",
    "    for metric in tScores.keys():\n",
    "        metricStats[metric] = [tScores[metric][-1], vScores[metric][-1]]\n",
    "    \n",
    "    return pd.DataFrame(metricStats, index=['Train', 'Validation'])\n"
   ]
  },
  {
   "cell_type": "code",
   "execution_count": 116,
   "metadata": {},
   "outputs": [],
   "source": [
    "def plotScoreGraphs(trainSizes: \"list[int]\", tScores: \"dict[str, list[int]]\", vScores: \"dict[str, list[int]]\", showExtra: bool=False):\n",
    "\n",
    "    def createMetricGraph(axes: plt.Axes, metric: str, trainSizes: \"list[int]\", tScores: \"dict[str, list[int]]\", vScores: \"dict[str, list[int]]\"):\n",
    "        axes.grid()\n",
    "        axes.set_title(f'{metric} Scoring')\n",
    "        axes.plot(trainSizes, tScores[metric], \"-\", color=\"r\", label=\"Training Set score\")\n",
    "        axes.plot(trainSizes, vScores[metric], \"-\", color=\"g\", label=\"Validation Set score\")    \n",
    "        axes.set_xlim((trainSizes[0], trainSizes[-1]))\n",
    "        axes.legend(loc=\"best\")\n",
    "\n",
    "    if showExtra:\n",
    "        _, axes = plt.subplots(1, 3, figsize=(20, 5))\n",
    "        for i, metric in enumerate(tScores.keys()):\n",
    "            createMetricGraph(axes[i], metric, trainSizes, tScores, vScores)\n",
    "    else:\n",
    "        _, axes = plt.subplots(1, 1, figsize=(7, 5))\n",
    "        createMetricGraph(axes, F1_KEY, trainSizes, tScores, vScores)\n",
    "    plt.show()"
   ]
  },
  {
   "cell_type": "code",
   "execution_count": 117,
   "metadata": {},
   "outputs": [
    {
     "name": "stdout",
     "output_type": "stream",
     "text": [
      " 15976"
     ]
    }
   ],
   "source": [
    "lrClassifier = LogisticRegression(max_iter=1000, multi_class=\"multinomial\")\n",
    "trainSizes, trainPredictions, validPredictions = learningCurvePredictions(lrClassifier, trainSamples, trainLabels, 0.025, 15)\n",
    "tScores, vScores = metricScores(trainPredictions, validPredictions, trainLabels, validLabels)"
   ]
  },
  {
   "cell_type": "code",
   "execution_count": 118,
   "metadata": {},
   "outputs": [
    {
     "data": {
      "image/png": "[encoded data removed]",
      "text/plain": [
       "<Figure size 504x360 with 1 Axes>"
      ]
     },
     "metadata": {
      "needs_background": "light"
     },
     "output_type": "display_data"
    }
   ],
   "source": [
    "plotScoreGraphs(trainSizes, tScores, vScores, False)"
   ]
  },
  {
   "cell_type": "code",
   "execution_count": 119,
   "metadata": {},
   "outputs": [
    {
     "data": {
      "text/html": [
       "<div>\n",
       "<style scoped>\n",
       "    .dataframe tbody tr th:only-of-type {\n",
       "        vertical-align: middle;\n",
       "    }\n",
       "\n",
       "    .dataframe tbody tr th {\n",
       "        vertical-align: top;\n",
       "    }\n",
       "\n",
       "    .dataframe thead th {\n",
       "        text-align: right;\n",
       "    }\n",
       "</style>\n",
       "<table border=\"1\" class=\"dataframe\">\n",
       "  <thead>\n",
       "    <tr style=\"text-align: right;\">\n",
       "      <th></th>\n",
       "      <th>F1</th>\n",
       "      <th>Precision</th>\n",
       "      <th>Recall</th>\n",
       "    </tr>\n",
       "  </thead>\n",
       "  <tbody>\n",
       "    <tr>\n",
       "      <th>Train</th>\n",
       "      <td>0.7016</td>\n",
       "      <td>0.6536</td>\n",
       "      <td>0.5973</td>\n",
       "    </tr>\n",
       "    <tr>\n",
       "      <th>Validation</th>\n",
       "      <td>0.6963</td>\n",
       "      <td>0.6436</td>\n",
       "      <td>0.5883</td>\n",
       "    </tr>\n",
       "  </tbody>\n",
       "</table>\n",
       "</div>"
      ],
      "text/plain": [
       "                F1  Precision  Recall\n",
       "Train       0.7016     0.6536  0.5973\n",
       "Validation  0.6963     0.6436  0.5883"
      ]
     },
     "execution_count": 119,
     "metadata": {},
     "output_type": "execute_result"
    }
   ],
   "source": [
    "metricStatsDF(tScores, vScores)"
   ]
  },
  {
   "cell_type": "code",
   "execution_count": 120,
   "metadata": {},
   "outputs": [
    {
     "data": {
      "text/html": [
       "<div>\n",
       "<style scoped>\n",
       "    .dataframe tbody tr th:only-of-type {\n",
       "        vertical-align: middle;\n",
       "    }\n",
       "\n",
       "    .dataframe tbody tr th {\n",
       "        vertical-align: top;\n",
       "    }\n",
       "\n",
       "    .dataframe thead th {\n",
       "        text-align: right;\n",
       "    }\n",
       "</style>\n",
       "<table border=\"1\" class=\"dataframe\">\n",
       "  <thead>\n",
       "    <tr style=\"text-align: right;\">\n",
       "      <th></th>\n",
       "      <th>a</th>\n",
       "      <th>b</th>\n",
       "      <th>c</th>\n",
       "    </tr>\n",
       "  </thead>\n",
       "  <tbody>\n",
       "    <tr>\n",
       "      <th>test</th>\n",
       "      <td>66</td>\n",
       "      <td>3</td>\n",
       "      <td>2</td>\n",
       "    </tr>\n",
       "    <tr>\n",
       "      <th>3</th>\n",
       "      <td>99</td>\n",
       "      <td>3</td>\n",
       "      <td>2</td>\n",
       "    </tr>\n",
       "    <tr>\n",
       "      <th>4</th>\n",
       "      <td>128</td>\n",
       "      <td>3</td>\n",
       "      <td>2</td>\n",
       "    </tr>\n",
       "  </tbody>\n",
       "</table>\n",
       "</div>"
      ],
      "text/plain": [
       "        a  b  c\n",
       "test   66  3  2\n",
       "3      99  3  2\n",
       "4     128  3  2"
      ]
     },
     "execution_count": 120,
     "metadata": {},
     "output_type": "execute_result"
    }
   ],
   "source": [
    "pd.DataFrame({'a':[66,99,128], 'b':3, 'c':2}, index=['test',3,4])"
   ]
  }
 ],
 "metadata": {
  "interpreter": {
   "hash": "916dbcbb3f70747c44a77c7bcd40155683ae19c65e1c03b4aa3499c5328201f1"
  },
  "kernelspec": {
   "display_name": "Python 3.8.10 64-bit",
   "language": "python",
   "name": "python3"
  },
  "language_info": {
   "codemirror_mode": {
    "name": "ipython",
    "version": 3
   },
   "file_extension": ".py",
   "mimetype": "text/x-python",
   "name": "python",
   "nbconvert_exporter": "python",
   "pygments_lexer": "ipython3",
   "version": "3.8.10"
  },
  "orig_nbformat": 4
 },
 "nbformat": 4,
 "nbformat_minor": 2
}
