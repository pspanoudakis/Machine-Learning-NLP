{
 "cells": [
  {
   "cell_type": "markdown",
   "metadata": {},
   "source": [
    "## Tweet Classification using Logistic Regression"
   ]
  },
  {
   "cell_type": "markdown",
   "metadata": {},
   "source": [
    "### Setting up data set paths"
   ]
  },
  {
   "cell_type": "code",
   "execution_count": 138,
   "metadata": {},
   "outputs": [],
   "source": [
    "TRAIN_SET_PATH = \"./vaccine_train_set.csv\"\n",
    "VALIDATION_SET_PATH = \"./vaccine_validation_set.csv\""
   ]
  },
  {
   "cell_type": "markdown",
   "metadata": {},
   "source": [
    "### Necessary Imports"
   ]
  },
  {
   "cell_type": "code",
   "execution_count": 139,
   "metadata": {},
   "outputs": [],
   "source": [
    "import math\n",
    "import pandas as pd\n",
    "import numpy as np\n",
    "import matplotlib.pyplot as plt\n",
    "\n",
    "from sklearn.linear_model import LogisticRegression\n",
    "from sklearn.feature_extraction.text import CountVectorizer, TfidfVectorizer\n",
    "from sklearn.metrics import f1_score, recall_score, precision_score, ConfusionMatrixDisplay"
   ]
  },
  {
   "cell_type": "markdown",
   "metadata": {},
   "source": [
    "### Reading data sets & checking whether all samples are valid"
   ]
  },
  {
   "cell_type": "code",
   "execution_count": 140,
   "metadata": {},
   "outputs": [
    {
     "data": {
      "text/plain": [
       "Unnamed: 0    0\n",
       "tweet         0\n",
       "label         0\n",
       "dtype: int64"
      ]
     },
     "execution_count": 140,
     "metadata": {},
     "output_type": "execute_result"
    }
   ],
   "source": [
    "trainDF = pd.read_csv(TRAIN_SET_PATH)\n",
    "trainDF.isnull().sum()"
   ]
  },
  {
   "cell_type": "code",
   "execution_count": 141,
   "metadata": {},
   "outputs": [
    {
     "data": {
      "text/plain": [
       "Unnamed: 0    0\n",
       "tweet         0\n",
       "label         0\n",
       "dtype: int64"
      ]
     },
     "execution_count": 141,
     "metadata": {},
     "output_type": "execute_result"
    }
   ],
   "source": [
    "validDF = pd.read_csv(VALIDATION_SET_PATH)\n",
    "validDF.isnull().sum()"
   ]
  },
  {
   "cell_type": "markdown",
   "metadata": {},
   "source": [
    "### Trimming the created data frames and extracting only the required data"
   ]
  },
  {
   "cell_type": "code",
   "execution_count": 142,
   "metadata": {},
   "outputs": [],
   "source": [
    "features = trainDF.drop(['label', 'Unnamed: 0'], axis=1)\n",
    "X_train = [ar[0] for ar in features.values]\n",
    "trainLabels = trainDF['label'].values\n",
    "\n",
    "features = validDF.drop(['label', 'Unnamed: 0'], axis=1)\n",
    "X_valid = [ar[0] for ar in features.values]\n",
    "validLabels = validDF['label'].values"
   ]
  },
  {
   "cell_type": "markdown",
   "metadata": {},
   "source": [
    "### Optional Preprocessor to be used during data vectorization\n",
    "- Converts the given `str` to lowercase\n",
    "- Ignores `@` mentions\n",
    "- Ignores URL's starting with `http://` or `https://`\n",
    "- Ignores any numbers or \"words\" which contain digits"
   ]
  },
  {
   "cell_type": "code",
   "execution_count": 143,
   "metadata": {},
   "outputs": [],
   "source": [
    "def customPreprocessor(text: str):\n",
    "    import re\n",
    "    \n",
    "    # remove url's\n",
    "    trimmedText = re.sub(r'https?://\\S+|www\\.\\S+', '', text).lower()\n",
    "\n",
    "    # remove @ mentions and numbers\n",
    "    res = list()\n",
    "    wait_whitespace = False\n",
    "    for c in trimmedText:\n",
    "        if wait_whitespace:\n",
    "            if c == \" \":\n",
    "                wait_whitespace = False\n",
    "            continue\n",
    "        elif re.match(\"[0-9]\", c) or c == \"@\":\n",
    "            wait_whitespace = True\n",
    "            continue            \n",
    "        res.append(c)\n",
    "    \n",
    "    return ''.join(res)"
   ]
  },
  {
   "cell_type": "markdown",
   "metadata": {},
   "source": [
    "### Training & Predicting to create the learning curve\n",
    "- We use a specific batch from the training set each time to train the classifier and\n",
    "we make predictions on this batch as well as the validation set.\n",
    "- The initial batch contains the first `len(trainSamples)*startingPct` training samples.\n",
    "We use `numBatches` batches, up to 100% of the training set,\n",
    "increasing the size (almost) equally in each iteration."
   ]
  },
  {
   "cell_type": "code",
   "execution_count": 144,
   "metadata": {},
   "outputs": [],
   "source": [
    "def learningCurvePredictions(classifier, trainSamples, trainLabels, validSamples, startingPct, numBatches):\n",
    "    validPredictions: \"list[list[int]]\" = []\n",
    "    trainPredictions: \"list[list[int]]\" = []\n",
    "    trainSizes = [ math.floor(f*len(trainLabels)) for f in np.linspace(startingPct, 1, numBatches) ]\n",
    "    print(\"Training using train set with size:\")\n",
    "    for i in trainSizes:\n",
    "        print('\\r', i, end='')\n",
    "        currentBatch = trainSamples[:i]\n",
    "        classifier.fit(currentBatch, trainLabels[:i])\n",
    "        trainPredictions.append(classifier.predict(currentBatch))\n",
    "        validPredictions.append(classifier.predict(validSamples))\n",
    "    \n",
    "    return trainSizes, trainPredictions, validPredictions"
   ]
  },
  {
   "cell_type": "markdown",
   "metadata": {},
   "source": [
    "### Calculating metric scores for the learning curve\n",
    "- For each different training set size, we calculate the **F1**, **Precision** and **Recall** scores\n",
    "of the predictions made by the classifier on the corresponding training set batch and the validation set after training with that size.\n",
    "- We store these scores in two `dict` objects which we return."
   ]
  },
  {
   "cell_type": "code",
   "execution_count": 145,
   "metadata": {},
   "outputs": [],
   "source": [
    "F1_KEY = \"F1\"\n",
    "PREC_KEY = \"Precision\"\n",
    "REC_KEY = \"Recall\"\n",
    "\n",
    "def metricScores(trainPredictions: \"list[list[int]]\", validPredictions: \"list[list[int]]\", trainLabels: \"list[int]\", validLabels: \"list[int]\"):\n",
    "    tScores = {\n",
    "        F1_KEY: [],\n",
    "        PREC_KEY: [],\n",
    "        REC_KEY: []\n",
    "    }\n",
    "    vScores = {\n",
    "        F1_KEY: [],\n",
    "        PREC_KEY: [],\n",
    "        REC_KEY: []\n",
    "    }\n",
    "    for tp, vp in zip(trainPredictions, validPredictions):\n",
    "        x = len(tp)\n",
    "        tScores[\"F1\"].append(round(f1_score(trainLabels[:x], tp, average=\"micro\"), 4))\n",
    "        tScores[\"Precision\"].append(round(precision_score(trainLabels[:x], tp, average=\"macro\"), 4))\n",
    "        tScores[\"Recall\"].append(round(recall_score(trainLabels[:x], tp, average=\"macro\"), 4))\n",
    "\n",
    "        vScores[\"F1\"].append(round(f1_score(validLabels, vp, average=\"micro\"), 4))\n",
    "        vScores[\"Precision\"].append(round(precision_score(validLabels, vp, average=\"macro\"), 4))\n",
    "        vScores[\"Recall\"].append(round(recall_score(validLabels, vp, average=\"macro\"), 4))\n",
    "    \n",
    "    return tScores, vScores"
   ]
  },
  {
   "cell_type": "markdown",
   "metadata": {},
   "source": [
    "### Plotting & Displaying the learning curve(s)\n",
    "If `showExtra`, we plot 2 more \"learning curves\" using the Precision & Recall scores as `y` values,\n",
    "otherwise we plot the F1 learning curve only."
   ]
  },
  {
   "cell_type": "code",
   "execution_count": 146,
   "metadata": {},
   "outputs": [],
   "source": [
    "def displayScoreGraphs(trainSizes: \"list[int]\", tScores: \"dict[str, list]\", vScores: \"dict[str, list]\", showExtra: bool=False):\n",
    "\n",
    "    def plotMetricGraph(axes: plt.Axes, metric: str, trainSizes: \"list[int]\", tScores: \"dict[str, list]\", vScores: \"dict[str, list]\"):\n",
    "        axes.grid()\n",
    "        axes.set_title(f'{metric} Scoring')\n",
    "        axes.plot(trainSizes, tScores[metric], \"-\", color=\"r\", label=\"Training Set score\")\n",
    "        axes.plot(trainSizes, vScores[metric], \"-\", color=\"g\", label=\"Validation Set score\")    \n",
    "        axes.set_xlim((trainSizes[0], trainSizes[-1]))\n",
    "        axes.legend(loc=\"best\")\n",
    "\n",
    "    if showExtra:\n",
    "        _, axes = plt.subplots(1, 3, figsize=(20, 5))\n",
    "        for i, metric in enumerate(tScores.keys()):\n",
    "            plotMetricGraph(axes[i], metric, trainSizes, tScores, vScores)\n",
    "    else:\n",
    "        _, axes = plt.subplots(1, 1, figsize=(7, 5))\n",
    "        plotMetricGraph(axes, F1_KEY, trainSizes, tScores, vScores)\n",
    "    plt.show()"
   ]
  },
  {
   "cell_type": "markdown",
   "metadata": {},
   "source": [
    "### Getting the final scores in a data frame\n",
    "We place the scores of the predictions made after training with 100% of\n",
    "the training set in a data frame for better readability."
   ]
  },
  {
   "cell_type": "code",
   "execution_count": 147,
   "metadata": {},
   "outputs": [],
   "source": [
    "def metricStatsDF(tScores: \"dict[str, list]\", vScores: \"dict[str, list]\"):\n",
    "    metricStats: \"dict[str, list]\" = {}\n",
    "    for metric in tScores.keys():\n",
    "        metricStats[metric] = [tScores[metric][-1], vScores[metric][-1]]\n",
    "    \n",
    "    return pd.DataFrame(metricStats, index=['Train', 'Validation'])\n"
   ]
  },
  {
   "cell_type": "markdown",
   "metadata": {},
   "source": [
    "### Displaying the confusion matrix\n",
    "We can change the displayed labels (`0` -> `Neutral`, `1` -> `Anti-Vaccine`, `2` -> `Pro-Vaccine`) if desired."
   ]
  },
  {
   "cell_type": "code",
   "execution_count": 148,
   "metadata": {},
   "outputs": [],
   "source": [
    "def plotConfusionMatrix(trueLabels: \"list[int]\", predictions:\"list[int]\", title: str, displayLabels: \"list[str]\"=None, axes: plt.Axes=None):\n",
    "    if axes is None:\n",
    "        _, axes = plt.subplots(1, 1, figsize=(6,5))\n",
    "    disp = ConfusionMatrixDisplay.from_predictions(trueLabels, predictions, cmap=plt.cm.Reds, ax=axes, colorbar=False)\n",
    "    if displayLabels is not None:\n",
    "        disp.ax_.set_xticklabels(displayLabels)\n",
    "        disp.ax_.set_yticklabels(displayLabels)\n",
    "    axes.set_xlabel('Classifier predicted labels', fontsize=11)\n",
    "    axes.set_ylabel('True labels', fontsize=11)\n",
    "    axes.set_title(title, fontsize=14)"
   ]
  },
  {
   "cell_type": "markdown",
   "metadata": {},
   "source": [
    "### Execution flow"
   ]
  },
  {
   "cell_type": "code",
   "execution_count": 149,
   "metadata": {},
   "outputs": [
    {
     "name": "stdout",
     "output_type": "stream",
     "text": [
      "Training using train set with size:\n",
      " 15976"
     ]
    }
   ],
   "source": [
    "# Data vectorization with the desired parameters\n",
    "vectorizer = TfidfVectorizer(max_df=0.85, min_df=0.01, ngram_range=(1,3))\n",
    "# vectorizer = TfidfVectorizer(preprocessor=customPreprocessor, stop_words=\"english\", max_df=0.85, min_df=0.01)\n",
    "\n",
    "# We create the vocabulary out of the *training* set only, and vectorize the training set samples accordingly\n",
    "trainSamples = vectorizer.fit_transform(X_train)\n",
    "# We vectorize the validation set samples using the existing vocabulary (for better generalization)\n",
    "validSamples = vectorizer.transform(X_valid)\n",
    "\n",
    "# Classifier initialization with the desired parameters\n",
    "lrClassifier = LogisticRegression(max_iter=1000, multi_class=\"multinomial\")\n",
    "# Making learning curve predictions\n",
    "trainSizes, trainPredictions, validPredictions = learningCurvePredictions(lrClassifier, trainSamples, trainLabels, validSamples, \n",
    "                                                                          startingPct=0.025, numBatches=15)\n",
    "# Calculating metric scores\n",
    "tScores, vScores = metricScores(trainPredictions, validPredictions, trainLabels, validLabels)"
   ]
  },
  {
   "cell_type": "code",
   "execution_count": 150,
   "metadata": {},
   "outputs": [
    {
     "data": {
      "image/png": "[encoded data removed]",
      "text/plain": [
       "<Figure size 504x360 with 1 Axes>"
      ]
     },
     "metadata": {
      "needs_background": "light"
     },
     "output_type": "display_data"
    }
   ],
   "source": [
    "displayScoreGraphs(trainSizes, tScores, vScores, False)"
   ]
  },
  {
   "cell_type": "code",
   "execution_count": 151,
   "metadata": {},
   "outputs": [
    {
     "data": {
      "text/html": [
       "<div>\n",
       "<style scoped>\n",
       "    .dataframe tbody tr th:only-of-type {\n",
       "        vertical-align: middle;\n",
       "    }\n",
       "\n",
       "    .dataframe tbody tr th {\n",
       "        vertical-align: top;\n",
       "    }\n",
       "\n",
       "    .dataframe thead th {\n",
       "        text-align: right;\n",
       "    }\n",
       "</style>\n",
       "<table border=\"1\" class=\"dataframe\">\n",
       "  <thead>\n",
       "    <tr style=\"text-align: right;\">\n",
       "      <th></th>\n",
       "      <th>F1</th>\n",
       "      <th>Precision</th>\n",
       "      <th>Recall</th>\n",
       "    </tr>\n",
       "  </thead>\n",
       "  <tbody>\n",
       "    <tr>\n",
       "      <th>Train</th>\n",
       "      <td>0.7016</td>\n",
       "      <td>0.6536</td>\n",
       "      <td>0.5973</td>\n",
       "    </tr>\n",
       "    <tr>\n",
       "      <th>Validation</th>\n",
       "      <td>0.6963</td>\n",
       "      <td>0.6436</td>\n",
       "      <td>0.5883</td>\n",
       "    </tr>\n",
       "  </tbody>\n",
       "</table>\n",
       "</div>"
      ],
      "text/plain": [
       "                F1  Precision  Recall\n",
       "Train       0.7016     0.6536  0.5973\n",
       "Validation  0.6963     0.6436  0.5883"
      ]
     },
     "execution_count": 151,
     "metadata": {},
     "output_type": "execute_result"
    }
   ],
   "source": [
    "metricStatsDF(tScores, vScores)"
   ]
  },
  {
   "cell_type": "code",
   "execution_count": 152,
   "metadata": {},
   "outputs": [
    {
     "data": {
      "image/png": "[encoded data removed]",
      "text/plain": [
       "<Figure size 936x360 with 2 Axes>"
      ]
     },
     "metadata": {
      "needs_background": "light"
     },
     "output_type": "display_data"
    }
   ],
   "source": [
    "labels = ['Neutral', 'Anti-Vaccine', 'Pro-Vaccine']\n",
    "_, ax = plt.subplots(1, 2, figsize=(13,5))\n",
    "plotConfusionMatrix(trainLabels, trainPredictions[-1], title='Train set', displayLabels=labels, axes=ax[0])\n",
    "plotConfusionMatrix(validLabels, validPredictions[-1], title='Validation set', displayLabels=labels, axes=ax[1])\n",
    "plt.show()"
   ]
  }
 ],
 "metadata": {
  "interpreter": {
   "hash": "916dbcbb3f70747c44a77c7bcd40155683ae19c65e1c03b4aa3499c5328201f1"
  },
  "kernelspec": {
   "display_name": "Python 3.8.10 64-bit",
   "language": "python",
   "name": "python3"
  },
  "language_info": {
   "codemirror_mode": {
    "name": "ipython",
    "version": 3
   },
   "file_extension": ".py",
   "mimetype": "text/x-python",
   "name": "python",
   "nbconvert_exporter": "python",
   "pygments_lexer": "ipython3",
   "version": "3.8.10"
  },
  "orig_nbformat": 4
 },
 "nbformat": 4,
 "nbformat_minor": 2
}
