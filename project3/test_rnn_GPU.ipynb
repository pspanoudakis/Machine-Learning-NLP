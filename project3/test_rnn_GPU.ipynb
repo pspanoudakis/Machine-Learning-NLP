{
  "cells": [
    {
      "cell_type": "code",
      "execution_count": 1,
      "metadata": {
        "colab": {
          "base_uri": "https://localhost:8080/"
        },
        "id": "XOxjY_vFZ7E9",
        "outputId": "009801df-b52b-4e28-a02f-004a4b16aa51"
      },
      "outputs": [
        {
          "output_type": "stream",
          "name": "stdout",
          "text": [
            "Mounted at /content/drive\n"
          ]
        }
      ],
      "source": [
        "from google.colab import drive\n",
        "drive.mount('/content/drive')"
      ]
    },
    {
      "cell_type": "code",
      "execution_count": 2,
      "metadata": {
        "colab": {
          "base_uri": "https://localhost:8080/"
        },
        "id": "OnPiCMYXBbin",
        "outputId": "2f13068a-8959-4f61-bdb8-eff7c7f3315d"
      },
      "outputs": [
        {
          "output_type": "stream",
          "name": "stdout",
          "text": [
            "Archive:  ./glove.6B.zip.1\n",
            "  inflating: glove.6B.50d.txt        \n",
            "  inflating: glove.6B.100d.txt       \n",
            "  inflating: glove.6B.200d.txt       \n",
            "  inflating: glove.6B.300d.txt       \n"
          ]
        }
      ],
      "source": [
        "!cp ./drive/MyDrive/NLP/glove.6B.zip.1 ./\n",
        "!cp ./drive/MyDrive/NLP/vaccine_train_set.csv ./\n",
        "!cp ./drive/MyDrive/NLP/vaccine_validation_set.csv ./\n",
        "!unzip ./glove.6B.zip.1"
      ]
    },
    {
      "cell_type": "markdown",
      "metadata": {
        "id": "_MI6fX9gG2SA"
      },
      "source": [
        "# Vaccine sentiment classification using PyTorch RNN\n",
        "Pavlos Spanoudakis (sdi1800184)"
      ]
    },
    {
      "cell_type": "markdown",
      "metadata": {
        "id": "NF0gSsMuG2SC"
      },
      "source": [
        "### Select one of the models presented in the report:"
      ]
    },
    {
      "cell_type": "code",
      "execution_count": 617,
      "metadata": {
        "id": "cCbBNvzzG2SC"
      },
      "outputs": [],
      "source": [
        "MODEL_1 = 1\n",
        "MODEL_2 = 2\n",
        "MODEL_3 = 3\n",
        "MODEL_4 = 4\n",
        "\n",
        "MODEL = MODEL_1"
      ]
    },
    {
      "cell_type": "markdown",
      "metadata": {
        "id": "dBG1xC34G2SD"
      },
      "source": [
        "### Setting up Data set & Word Embeddings paths"
      ]
    },
    {
      "cell_type": "code",
      "execution_count": 618,
      "metadata": {
        "id": "o4VGS3Dtbl4S"
      },
      "outputs": [],
      "source": [
        "TRAIN_SET_PATH = \"./vaccine_train_set.csv\"\n",
        "VALIDATION_SET_PATH = \"./vaccine_validation_set.csv\"\n",
        "\n",
        "if MODEL == MODEL_1:\n",
        "    EMBEDDINGS_PATH = './glove.6B.100d.txt'\n",
        "elif MODEL == MODEL_2:\n",
        "    EMBEDDINGS_PATH = './glove.6B.100d.txt'\n",
        "elif MODEL == MODEL_3:\n",
        "    EMBEDDINGS_PATH = './glove.6B.100d.txt'\n",
        "elif MODEL == MODEL_4:\n",
        "    EMBEDDINGS_PATH = './glove.6B.100d.txt'"
      ]
    },
    {
      "cell_type": "markdown",
      "metadata": {
        "id": "xzRRrsN-G2SG"
      },
      "source": [
        "### Setting-up Class-Related information"
      ]
    },
    {
      "cell_type": "code",
      "execution_count": 619,
      "metadata": {
        "id": "XosWyXExG2SH"
      },
      "outputs": [],
      "source": [
        "NUM_CLASSES = 3\n",
        "CLASS_NAMES = ['Neutral', 'Anti-Vaccine', 'Pro-Vaccine']"
      ]
    },
    {
      "cell_type": "markdown",
      "metadata": {
        "id": "-g_lMIZVG2SI"
      },
      "source": [
        "### Necessary Imports"
      ]
    },
    {
      "cell_type": "code",
      "execution_count": 620,
      "metadata": {
        "id": "f2_ciNnNbl4P"
      },
      "outputs": [],
      "source": [
        "# Built-in Python libraries\n",
        "from typing import Callable, Iterable, List, Dict\n",
        "from numbers import Number\n",
        "import re\n",
        "import random\n",
        "import os\n",
        "\n",
        "# 3rd party libraries\n",
        "import numpy as np\n",
        "import pandas as pd\n",
        "import matplotlib.pyplot as plt\n",
        "from nltk.tokenize import TweetTokenizer\n",
        "\n",
        "# PyTorch libraries\n",
        "import torch\n",
        "import torch.nn as nn\n",
        "from torch.nn.utils.rnn import pack_padded_sequence, pad_packed_sequence\n",
        "\n",
        "from torchtext.legacy.data import Field, TabularDataset, BucketIterator\n",
        "\n",
        "# scikit-learn metrics\n",
        "from sklearn.metrics import f1_score, recall_score, precision_score, \\\n",
        "                            roc_curve, auc, ConfusionMatrixDisplay"
      ]
    },
    {
      "cell_type": "markdown",
      "metadata": {
        "id": "frDcjCkiG2SK"
      },
      "source": [
        "### Setting up NN hyperparameters"
      ]
    },
    {
      "cell_type": "code",
      "execution_count": 621,
      "metadata": {
        "id": "LCZMyFwLbl4S"
      },
      "outputs": [],
      "source": [
        "if MODEL == MODEL_1:\n",
        "    RNN_TYPE = nn.GRU\n",
        "    LEARNING_RATE = 0.005\n",
        "    BATCH_SIZE = 256\n",
        "    EPOCHS = 5\n",
        "\n",
        "    HIDDEN_SIZES = [32 for _ in range(4)]\n",
        "    BIDIR = True\n",
        "    USE_SKIP = False\n",
        "    DROPOUT = 0.5\n",
        "\n",
        "    SEED = 16\n",
        "elif MODEL == MODEL_2:\n",
        "    RNN_TYPE = nn.LSTM\n",
        "    LEARNING_RATE = 0.005\n",
        "    BATCH_SIZE = 128\n",
        "    EPOCHS = 4\n",
        "\n",
        "    HIDDEN_SIZES = [32 for _ in range(4)]\n",
        "    BIDIR = True\n",
        "    USE_SKIP = False\n",
        "    DROPOUT = 0.5\n",
        "\n",
        "    SEED = 32\n",
        "elif MODEL == MODEL_3:\n",
        "    RNN_TYPE = nn.GRU\n",
        "    LEARNING_RATE = 0.005\n",
        "    BATCH_SIZE = 128\n",
        "    EPOCHS = 5\n",
        "\n",
        "    HIDDEN_SIZES = [64 for _ in range(6)]\n",
        "    BIDIR = False\n",
        "    USE_SKIP = True\n",
        "    DROPOUT = 0.5\n",
        "\n",
        "    SEED = 32\n",
        "elif MODEL == MODEL_4:\n",
        "    RNN_TYPE = nn.LSTM\n",
        "    LEARNING_RATE = 0.0055\n",
        "    HIDDEN_SIZES = [64, 32]\n",
        "    BATCH_SIZE = 256\n",
        "    EPOCHS = 13\n",
        "\n",
        "    BIDIR = False\n",
        "    USE_SKIP = False\n",
        "    DROPOUT = 0.5\n",
        "\n",
        "    SEED = 32"
      ]
    },
    {
      "cell_type": "markdown",
      "source": [
        "### Setting custom seeds in pseudo-random generators for reproducability"
      ],
      "metadata": {
        "id": "yj3kZ2BRtJC4"
      }
    },
    {
      "cell_type": "code",
      "source": [
        "random.seed(SEED)\n",
        "np.random.seed(SEED)\n",
        "torch.manual_seed(SEED)\n",
        "\n",
        "torch.cuda.manual_seed(SEED)\n",
        "torch.backends.cudnn.deterministic = True\n",
        "\n",
        "os.environ['PYTHONHASHSEED'] = str(SEED)\n",
        "\n",
        "device = 'cuda' if torch.cuda.is_available() else 'cpu'"
      ],
      "metadata": {
        "id": "0B_XZVGLtCF3"
      },
      "execution_count": 622,
      "outputs": []
    },
    {
      "cell_type": "markdown",
      "metadata": {
        "id": "niGs9FDGS7ua"
      },
      "source": [
        "### Checking the CSV's for empty/null cells"
      ]
    },
    {
      "cell_type": "code",
      "execution_count": 623,
      "metadata": {
        "colab": {
          "base_uri": "https://localhost:8080/"
        },
        "id": "T3svwaenBZsK",
        "outputId": "0ac2fb3e-5e75-4dee-900c-8e1829da7efd"
      },
      "outputs": [
        {
          "output_type": "execute_result",
          "data": {
            "text/plain": [
              "Unnamed: 0    0\n",
              "tweet         0\n",
              "label         0\n",
              "dtype: int64"
            ]
          },
          "metadata": {},
          "execution_count": 623
        }
      ],
      "source": [
        "trainDF = pd.read_csv(TRAIN_SET_PATH)\n",
        "trainDF.isnull().sum()"
      ]
    },
    {
      "cell_type": "markdown",
      "metadata": {
        "id": "cAKHggZLG2SM"
      },
      "source": [
        "We store the Validation Set labels for convenience"
      ]
    },
    {
      "cell_type": "code",
      "execution_count": 624,
      "metadata": {
        "colab": {
          "base_uri": "https://localhost:8080/"
        },
        "id": "sg6GNXGzBZsL",
        "outputId": "9af8f3d1-ca6e-4e1c-e43a-df5be81cd2e3"
      },
      "outputs": [
        {
          "output_type": "execute_result",
          "data": {
            "text/plain": [
              "Unnamed: 0    0\n",
              "tweet         0\n",
              "label         0\n",
              "dtype: int64"
            ]
          },
          "metadata": {},
          "execution_count": 624
        }
      ],
      "source": [
        "validDF = pd.read_csv(VALIDATION_SET_PATH)\n",
        "validLabels = validDF['label'].values\n",
        "validDF.isnull().sum()"
      ]
    },
    {
      "cell_type": "markdown",
      "metadata": {
        "id": "ktgb8W3eS7ug"
      },
      "source": [
        "### Creating word vectors from the given embeddings file"
      ]
    },
    {
      "cell_type": "code",
      "execution_count": 625,
      "metadata": {
        "id": "EBtXCW-kbl4T"
      },
      "outputs": [],
      "source": [
        "def createWordVectors(embeddingsPath: str):\n",
        "    wordVectors: Dict[str, np.ndarray] = {}\n",
        "    lineElements: List[str] = []\n",
        "    with open(embeddingsPath) as file:\n",
        "        # Read file line by line\n",
        "        for line in file:\n",
        "            # Remove new line and split\n",
        "            lineElements = line.replace('\\n', '').split()\n",
        "            # The first element in the line is the target word\n",
        "            word = lineElements.pop(0)\n",
        "            # The other elements represent the vector of the word\n",
        "            wordVector = np.array([float(w) for w in lineElements])\n",
        "            # Store the vector for this word\n",
        "            wordVectors[word] = wordVector\n",
        "    dimensions = len(lineElements)\n",
        "\n",
        "    return wordVectors, dimensions\n",
        "\n",
        "wordVectors, dimensions = createWordVectors(EMBEDDINGS_PATH)"
      ]
    },
    {
      "cell_type": "markdown",
      "metadata": {
        "id": "AjIhIweIS7ui"
      },
      "source": [
        "### Optional Preprocessor to be used during data vectorization\n",
        "- Converts the given `str` to lowercase\n",
        "- Ignores `@` mentions\n",
        "- Ignores URL's starting with `http://` or `https://`\n",
        "- Ignores any digits"
      ]
    },
    {
      "cell_type": "code",
      "execution_count": 626,
      "metadata": {
        "id": "Rj3-_vFJbl4T"
      },
      "outputs": [],
      "source": [
        "def customPreprocessor(text: str):    \n",
        "    # remove url's\n",
        "    trimmedText = re.sub(r'https?://\\S+|www\\.\\S+|#', '', text).lower()\n",
        "\n",
        "    # remove @ mentions and numbers\n",
        "    res = list()\n",
        "    wait_whitespace = False\n",
        "    for c in trimmedText:\n",
        "        if wait_whitespace:\n",
        "            if c == \" \":\n",
        "                wait_whitespace = False\n",
        "            continue\n",
        "        elif re.match(\"[0-9]\", c) or c == \"@\":\n",
        "            wait_whitespace = True\n",
        "            continue            \n",
        "        res.append(c)\n",
        "    \n",
        "    return ''.join(res)\n",
        "\n",
        "tokenizer = TweetTokenizer()\n",
        "def customTokenizer(text: str):\n",
        "    return tokenizer.tokenize(customPreprocessor(text))\n"
      ]
    },
    {
      "cell_type": "markdown",
      "metadata": {
        "id": "EjBovO1rS7uj"
      },
      "source": [
        "### Vectorizing Data set Samples\n",
        "- Each sentence is tokenized using `nltk.TweetVectorizer` into tokens/words.\n",
        "- We sum up the vectors of each word from the pre-trained embeddings and assign the mean vector to the current sample."
      ]
    },
    {
      "cell_type": "code",
      "execution_count": 627,
      "metadata": {
        "id": "zPrYwJbgbl4U"
      },
      "outputs": [],
      "source": [
        "# nltk.TweetTokenizer is used for tweet tokenization\n",
        "\n",
        "def vectorizeTweet(tweet: str, preprocessor: Callable[[str], str], wordVectors: Dict[str, np.ndarray], dimensions: int) -> np.ndarray:\n",
        "    # Split the tweet into words/tokens\n",
        "    words = tokenizer.tokenize(preprocessor(tweet))\n",
        "    # words = tokenizer.tokenize(tweet)\n",
        "\n",
        "    # The sum of the vectors of the tweet words is stored here\n",
        "    vector: np.ndarray = np.zeros(dimensions)\n",
        "    for word in words:\n",
        "        # Get the word/token pre-trained vector\n",
        "        wordVector = wordVectors.get(word)\n",
        "        if wordVector is not None:\n",
        "            # If found, add to the tweet vector\n",
        "            vector += wordVector\n",
        "    \n",
        "    # return the mean vector\n",
        "    return vector / len(words)\n",
        "\n",
        "def vectorizeDataSet(dataSet: Iterable[str], dimensions: int, wordVectors: Dict[str, np.ndarray]):\n",
        "    matrix: np.ndarray = np.zeros(shape=(len(dataSet), dimensions))\n",
        "    for i, sample in enumerate(dataSet):\n",
        "        matrix[i] = vectorizeTweet(sample, customPreprocessor, wordVectors, dimensions)\n",
        "    \n",
        "    return matrix"
      ]
    },
    {
      "cell_type": "markdown",
      "metadata": {
        "id": "tg1o2MiKG2SO"
      },
      "source": [
        "### Creating an Embeddings Tensor Matrix to provide to the Embedding layer"
      ]
    },
    {
      "cell_type": "code",
      "execution_count": 628,
      "metadata": {
        "id": "w9WBoi-EG2SP"
      },
      "outputs": [],
      "source": [
        "def createEmbeddingsMatrix(vocabSize: int, wordVectors: Dict[str, np.ndarray]) -> torch.Tensor:\n",
        "    embeddingsMatrix = torch.zeros(vocabSize, dimensions, dtype=torch.float)\n",
        "\n",
        "    for i, word in enumerate(tweetField.vocab.itos):\n",
        "        wordVector = wordVectors.get(word)\n",
        "\n",
        "        if wordVector is not None:\n",
        "            embeddingsMatrix[i] = torch.from_numpy(wordVector)\n",
        "    \n",
        "    return embeddingsMatrix"
      ]
    },
    {
      "cell_type": "markdown",
      "metadata": {
        "id": "oXaZ4RDiG2SP"
      },
      "source": [
        "### Creating the RNN"
      ]
    },
    {
      "cell_type": "code",
      "execution_count": 629,
      "metadata": {
        "id": "AHZkMUTgG2SP"
      },
      "outputs": [],
      "source": [
        "class SkipRNN(nn.Module):\n",
        "    def __init__(self, embeddingsMatrix, vectorDimension: int, hiddenSizes: Iterable[int]) -> None:\n",
        "        super().__init__()\n",
        "        \n",
        "        self.vectorDimension = vectorDimension\n",
        "        self.embedding = nn.Embedding.from_pretrained(embeddingsMatrix)\n",
        "        \n",
        "        if BIDIR:\n",
        "            self.hiddenSize = hiddenSizes[0]\n",
        "            self.layers = RNN_TYPE( input_size=vectorDimension,\n",
        "                                    hidden_size=self.hiddenSize,\n",
        "                                    num_layers=len(hiddenSizes),\n",
        "                                    batch_first=True,\n",
        "                                    bidirectional=True,\n",
        "                                    dropout=DROPOUT )\n",
        "            self.linear = nn.Linear(2*hiddenSizes[0], NUM_CLASSES)\n",
        "        else:        \n",
        "            self.startingLayer = RNN_TYPE(  input_size=vectorDimension,\n",
        "                                            hidden_size=hiddenSizes[0],\n",
        "                                            num_layers=1,\n",
        "                                            batch_first=True,\n",
        "                                            bidirectional=False )\n",
        "            self.lstmLayers = nn.ModuleList()\n",
        "            for i in range(1, len(hiddenSizes)):\n",
        "                self.lstmLayers.append(RNN_TYPE(input_size=hiddenSizes[i - 1],\n",
        "                                                hidden_size=hiddenSizes[i],\n",
        "                                                num_layers=1,\n",
        "                                                batch_first=True,\n",
        "                                                bidirectional=False))\n",
        "\n",
        "            self.linear = nn.Linear(hiddenSizes[-1], NUM_CLASSES)\n",
        "            self.relu = nn.ReLU()\n",
        "            self.drop = nn.Dropout(p=0.5)\n",
        "\n",
        "            if (USE_SKIP):\n",
        "                self.skip = nn.Identity()\n",
        "\n",
        "    def forward(self, input, inputLengths):\n",
        "        embout = self.embedding(input)\n",
        "\n",
        "        if BIDIR:\n",
        "            packedInput = pack_padded_sequence(embout, inputLengths, batch_first=True, enforce_sorted=False)\n",
        "            packedOutput, _ = self.layers(packedInput)\n",
        "            rnnOutput, _ = pad_packed_sequence(packedOutput, batch_first=True)\n",
        "            \n",
        "            outForward = rnnOutput[range(len(rnnOutput)), inputLengths - 1, :self.hiddenSize]\n",
        "            outReverse = rnnOutput[:, 0, self.hiddenSize:]\n",
        "            outReduced = torch.cat((outForward, outReverse), 1)\n",
        "            \n",
        "            return self.linear(outReduced)\n",
        "        else:                    \n",
        "            nextInput, _ = self.startingLayer(embout)\n",
        "            nextSkipInput = nextInput\n",
        "            for layer in self.lstmLayers:\n",
        "                output, _ = layer(self.drop(nextInput))\n",
        "                if USE_SKIP and (nextSkipInput is not None):\n",
        "                    nextInput = torch.add(output, self.skip(nextSkipInput))\n",
        "                    nextSkipInput = None\n",
        "                else:\n",
        "                    nextSkipInput = output\n",
        "                    nextInput = self.relu(output)\n",
        "\n",
        "            lstmOutput = nextInput[:, -1, :]\n",
        "            classOutput = self.linear(lstmOutput)\n",
        "            \n",
        "            return classOutput"
      ]
    },
    {
      "cell_type": "markdown",
      "metadata": {
        "id": "KafPfNY_G2SP"
      },
      "source": [
        "### Training the Model"
      ]
    },
    {
      "cell_type": "code",
      "execution_count": 630,
      "metadata": {
        "id": "lnDp2G_nG2SP"
      },
      "outputs": [],
      "source": [
        "def trainModel(model, optimizer, trainIterator, validIterator):\n",
        "    # Loss, F1 Score & Total Predictions after every epoch are stored here\n",
        "    validPredictions: np.ndarray\n",
        "    validF1: np.ndarray = np.empty(EPOCHS, dtype=float)\n",
        "    validErrors: np.ndarray = np.empty(EPOCHS, dtype=float)\n",
        "    validOutput: torch.Tensor\n",
        "\n",
        "    trainF1: np.ndarray = np.empty(EPOCHS, dtype=float)\n",
        "    trainErrors: np.ndarray = np.empty(EPOCHS, dtype=float)\n",
        "    epochTrainPredictions: List[int]\n",
        "\n",
        "    # Epochs loop\n",
        "    for epoch in range(EPOCHS):\n",
        "        # Set model to train mode\n",
        "        epochLabels = []\n",
        "        epochTrainPredictions = []\n",
        "        batchLosses = []\n",
        "        batchAccs = []\n",
        "        model.train()\n",
        "\n",
        "        # Batch loop\n",
        "        for ((tweets, tweetsLen), labels), _ in trainIterator:\n",
        "            labels = labels.to(device)\n",
        "            tweets = tweets.to(device)\n",
        "            tweetsLen = tweetsLen.cpu()\n",
        "            # Make predictions for batch samples\n",
        "            predictions = model(tweets, tweetsLen)\n",
        "\n",
        "            # Extract & store predicted labels and calculate accuracy\n",
        "            predictedLabels = getPredictedLabels(predictions)\n",
        "            epochTrainPredictions.extend(predictedLabels)\n",
        "            batchAccs.append(calculateAccuracy(predictedLabels, labels))\n",
        "\n",
        "            # Run loss function, store loss & backpropagate\n",
        "            batchLoss = lossFunction(predictions, labels.long())\n",
        "            batchLosses.append(batchLoss.item())\n",
        "\n",
        "            optimizer.zero_grad()\n",
        "\n",
        "            batchLoss.backward()\n",
        "\n",
        "            #nn.utils.clip_grad_value_(model.parameters(), 1)\n",
        "\n",
        "            optimizer.step()\n",
        "            epochLabels.extend(labels.cpu())\n",
        "            # Set model to evaluation mode\n",
        "\n",
        "        model.eval()\n",
        "        with torch.no_grad():\n",
        "            \n",
        "            for ((tweets, tweetsLen), labels), _ in validIterator:\n",
        "                labels = labels.to(device)\n",
        "                tweets = tweets.to(device)\n",
        "                tweetsLen = tweetsLen.cpu()\n",
        "                # Make predictions on the Validation set\n",
        "                validOutput = model(tweets, tweetsLen)\n",
        "\n",
        "                # Run loss function & store loss\n",
        "                validLoss = lossFunction(validOutput, labels.long())\n",
        "                validErrors[epoch] = validLoss.item()\n",
        "                \n",
        "                # Extract & store predicted labels, calculate accuracy and F1 Score\n",
        "                validPredictions = getPredictedLabels(validOutput)\n",
        "                acc = calculateAccuracy(validPredictions, labels)\n",
        "                labels = labels.cpu()\n",
        "                validF1[epoch] = f1_score(labels, validPredictions, average=\"micro\")\n",
        "\n",
        "        # Find the total epoch loss & F1 Score for the Train set\n",
        "        trainErrors[epoch] = sum(batchLosses)/len(batchLosses)\n",
        "        trainF1[epoch] = f1_score(epochLabels, epochTrainPredictions, average=\"micro\")\n",
        "        \n",
        "        print(f\"Epoch {epoch:2} Train Acc = {sum(batchAccs)/len(batchAccs):.5f} Valid Acc = {acc:.5f}\\r\")\n",
        "\n",
        "    return (labels, validPredictions, validF1, validErrors, validOutput.cpu(),\n",
        "            epochLabels, trainF1, trainErrors, epochTrainPredictions)"
      ]
    },
    {
      "cell_type": "markdown",
      "metadata": {
        "id": "MnqCBEZkXcjU"
      },
      "source": [
        "### Converting the NN output to predictions\n",
        "We apply `log_softmax` to the output vector and map each vector to the index of the maximum element of the vector."
      ]
    },
    {
      "cell_type": "code",
      "execution_count": 631,
      "metadata": {
        "id": "6VguOx9Lbl4X"
      },
      "outputs": [],
      "source": [
        "def getPredictedLabels(predictions: torch.Tensor) -> np.ndarray:\n",
        "    softmaxLayerOut = torch.log_softmax(predictions, dim = 1)\n",
        "    _, labels = torch.max(softmaxLayerOut, dim = 1)\n",
        "    return labels.cpu().detach().numpy()"
      ]
    },
    {
      "cell_type": "markdown",
      "metadata": {
        "id": "jFdbXz97S7um"
      },
      "source": [
        "### Calculating macro accuracy"
      ]
    },
    {
      "cell_type": "code",
      "execution_count": 632,
      "metadata": {
        "id": "9u1OkBcKbl4W"
      },
      "outputs": [],
      "source": [
        "def calculateAccuracy(predictedLabels: Iterable[Number], trueLabels: Iterable[Number]) -> float:    \n",
        "    correct = 0\n",
        "    for pred, true in zip(predictedLabels, trueLabels):\n",
        "        correct += int(pred == true)\n",
        "    \n",
        "    return correct/len(trueLabels)*100"
      ]
    },
    {
      "cell_type": "markdown",
      "metadata": {
        "id": "r_aRDUT_S7um"
      },
      "source": [
        "### Plotting a confusion matrix\n",
        "We can change the displayed labels (`0` -> `Neutral`, `1` -> `Anti-Vaccine`, `2` -> `Pro-Vaccine`) if desired."
      ]
    },
    {
      "cell_type": "code",
      "execution_count": 633,
      "metadata": {
        "id": "81ZBEyMaL3BA"
      },
      "outputs": [],
      "source": [
        "def plotConfusionMatrix(trueLabels: Iterable[int], predictions:Iterable[int], title: str, displayLabels: Iterable[str]=None, axes: plt.Axes=None):\n",
        "    if axes is None:\n",
        "        _, axes = plt.subplots(1, 1, figsize=(6,5))\n",
        "    disp = ConfusionMatrixDisplay.from_predictions(trueLabels, predictions, cmap=plt.cm.Reds, ax=axes, colorbar=False)\n",
        "    if displayLabels is not None:\n",
        "        disp.ax_.set_xticklabels(displayLabels)\n",
        "        disp.ax_.set_yticklabels(displayLabels)\n",
        "    axes.set_xlabel('Classifier predicted labels', fontsize=11)\n",
        "    axes.set_ylabel('True labels', fontsize=11)\n",
        "    axes.set_title(title, fontsize=14)"
      ]
    },
    {
      "cell_type": "markdown",
      "metadata": {
        "id": "PmIfHN5HS7un"
      },
      "source": [
        "### Plotting F1 learning curves\n",
        "We calculate the F1 score on the Train and Validation sets after every epoch, to create the corresponding F1 learning curves."
      ]
    },
    {
      "cell_type": "code",
      "execution_count": 634,
      "metadata": {
        "id": "ECwOGJcWMJx9"
      },
      "outputs": [],
      "source": [
        "def displayF1Curves(epochs: int, tScores: Iterable[Number], vScores: Iterable[Number]):\n",
        "\n",
        "    epochValues = [i for i in range(epochs)]\n",
        "\n",
        "    _, axes = plt.subplots(1, 1, figsize=(7, 6))\n",
        "    axes.grid()\n",
        "    axes.set_title('F1 Scores')\n",
        "    axes.plot(epochValues, tScores, \"-\", color=\"r\", label=\"Training Set score\")\n",
        "    axes.plot(epochValues, vScores, \"-\", color=\"g\", label=\"Validation Set score\")\n",
        "\n",
        "    yValues = np.concatenate((tScores, vScores))\n",
        "    axes.set_xlim((epochValues[0], epochValues[-1]))\n",
        "    axes.set_ylim(( round(min(yValues) - 0.05, 1), round(max(yValues) + 0.05, 1) ))\n",
        "    axes.legend(loc=\"best\")\n",
        "\n",
        "    plt.show()"
      ]
    },
    {
      "cell_type": "markdown",
      "metadata": {
        "id": "6Xb7hc0jS7un"
      },
      "source": [
        "### Calculating metric scores on the trained model predictions\n",
        "- For each different training set size, we calculate the **F1**, **Precision** and **Recall** scores\n",
        "of the predictions made by the classifier after the end of the train phase, on the training & validation sets.\n",
        "- We store these scores in two `dict` objects which we return."
      ]
    },
    {
      "cell_type": "code",
      "execution_count": 635,
      "metadata": {
        "id": "jiZFFV4YMWqD"
      },
      "outputs": [],
      "source": [
        "F1_KEY = \"F1\"\n",
        "PREC_KEY = \"Precision\"\n",
        "REC_KEY = \"Recall\"\n",
        "\n",
        "def metricScores(trainPredictions: Iterable[int], validPredictions: Iterable[int], trainLabels: Iterable[int], validLabels: Iterable[int]):\n",
        "    tScores = {}\n",
        "    vScores = {}\n",
        "    tScores[F1_KEY] = round(f1_score(trainLabels, trainPredictions, average=\"micro\"), 4)\n",
        "    tScores[PREC_KEY] = round(precision_score(trainLabels, trainPredictions, average=\"macro\"), 4)\n",
        "    tScores[REC_KEY] = round(recall_score(trainLabels, trainPredictions, average=\"macro\"), 4)\n",
        "\n",
        "    vScores[F1_KEY] = round(f1_score(validLabels, validPredictions, average=\"micro\"), 4)\n",
        "    vScores[PREC_KEY] = round(precision_score(validLabels, validPredictions, average=\"macro\"), 4)\n",
        "    vScores[REC_KEY] = round(recall_score(validLabels, validPredictions, average=\"macro\"), 4)\n",
        "    \n",
        "    return tScores, vScores"
      ]
    },
    {
      "cell_type": "markdown",
      "metadata": {
        "id": "jG2XAn41S7uo"
      },
      "source": [
        "### Getting the final scores in a data frame\n",
        "We place the scores of the predictions made after the end of training in a data frame for better readability."
      ]
    },
    {
      "cell_type": "code",
      "execution_count": 636,
      "metadata": {
        "id": "kYqeBKkyMXQp"
      },
      "outputs": [],
      "source": [
        "def metricStatsDF(tScores: Dict[str, Number], vScores: Dict[str, Number]):\n",
        "    metricStats: Dict[str, List[Number]] = {}\n",
        "    for metric in tScores:\n",
        "        metricStats[metric] = [tScores[metric], vScores[metric]]\n",
        "    \n",
        "    return pd.DataFrame(metricStats, index=['Train', 'Validation'])"
      ]
    },
    {
      "cell_type": "markdown",
      "metadata": {
        "id": "4Io36_pZS7up"
      },
      "source": [
        "### Plotting Loss curves for the after-training predictions on the Training & Validation sets"
      ]
    },
    {
      "cell_type": "code",
      "execution_count": 637,
      "metadata": {
        "id": "jELCfu9tMm8W"
      },
      "outputs": [],
      "source": [
        "def plotLossCurves(trainLosses: Iterable[Number], validationLosses: Iterable[Number], axes: plt.Axes = None):\n",
        "    if axes is None:\n",
        "        _, axes = plt.subplots(1, 1, figsize=(6,5))\n",
        "    \n",
        "    axes.grid()\n",
        "    axes.set_title(\"Loss Curves\", fontsize=14)\n",
        "    axes.set_xlabel('Epochs', fontsize=12)\n",
        "    axes.set_ylabel('Loss', fontsize=12)\n",
        "    \n",
        "    epochs = [i for i in range(len(validationLosses))]\n",
        "\n",
        "    axes.plot(epochs, trainLosses, label='Train Set')\n",
        "    axes.plot(epochs, validationLosses, label='Validation Set')\n",
        "\n",
        "    axes.legend(loc=\"best\")\n",
        "    plt.show()"
      ]
    },
    {
      "cell_type": "markdown",
      "metadata": {
        "id": "oDgEiYn0S7up"
      },
      "source": [
        "### Creating & Plotting ROC Curves for the Validation Set predictions\n",
        "We mirror the usage of `roc_curve` from scikit-learn for multiple classes, as demonstrated [here](https://scikit-learn.org/stable/auto_examples/model_selection/plot_roc.html#plot-roc-curves-for-the-multiclass-problem)."
      ]
    },
    {
      "cell_type": "code",
      "execution_count": 638,
      "metadata": {
        "id": "ZMswk57OMs0N"
      },
      "outputs": [],
      "source": [
        "def createRocCurves(trueLabels: Iterable[int] , predictions: torch.Tensor):\n",
        "    labels = np.zeros((len(trueLabels), NUM_CLASSES), dtype=int)\n",
        "    for index, label in enumerate(trueLabels):\n",
        "        labels[index][label] = 1\n",
        "    scores = torch.softmax(predictions, dim = 1).detach().numpy()\n",
        "\n",
        "    fpr: Dict[int, np.ndarray] = {}\n",
        "    tpr: Dict[int, np.ndarray] = {}\n",
        "    roc_auc: Dict[int, np.ndarray] = {}\n",
        "    for i in range(NUM_CLASSES):\n",
        "        fpr[i], tpr[i], _ = roc_curve(labels[:, i], scores[:, i], drop_intermediate=True)\n",
        "        roc_auc[i] = auc(fpr[i], tpr[i])\n",
        "    \n",
        "    return fpr, tpr, roc_auc\n",
        "\n",
        "def plotRocCurves(fpRates: Dict[int, np.ndarray], tpRates: Dict[int, np.ndarray], aucScores: Dict[int, np.ndarray]):\n",
        "    plt.figure(figsize=(7,7))\n",
        "    plt.grid()\n",
        "\n",
        "    for i in range(NUM_CLASSES):\n",
        "        plt.plot(\n",
        "            fpRates[i],\n",
        "            tpRates[i],\n",
        "            label=f\"{CLASS_NAMES[i]} (area = {aucScores[i]:0.2f})\"\n",
        "        )\n",
        "\n",
        "    plt.plot([0, 1], [0, 1], \"k--\")\n",
        "    plt.xlim([0.0, 1.0])\n",
        "    plt.ylim([0.0, 1.05])\n",
        "    plt.xlabel(\"False Positive Rate\")\n",
        "    plt.ylabel(\"True Positive Rate\")\n",
        "    plt.title(\"ROC Curves\")\n",
        "    plt.legend(loc=\"lower right\")\n",
        "    plt.show()\n",
        "    pass"
      ]
    },
    {
      "cell_type": "markdown",
      "metadata": {
        "id": "eyWugm8_I5tS"
      },
      "source": [
        "## Execution Flow"
      ]
    },
    {
      "cell_type": "code",
      "execution_count": 639,
      "metadata": {
        "colab": {
          "base_uri": "https://localhost:8080/"
        },
        "id": "MqI5uI7Ebl4Y",
        "outputId": "e3565a16-763c-4187-ec9b-67c657e9911e"
      },
      "outputs": [
        {
          "output_type": "stream",
          "name": "stdout",
          "text": [
            "Epoch  0 Train Acc = 61.42733 Valid Acc = 66.56442\n",
            "Epoch  1 Train Acc = 68.67750 Valid Acc = 69.50044\n",
            "Epoch  2 Train Acc = 71.81872 Valid Acc = 69.19369\n",
            "Epoch  3 Train Acc = 73.14942 Valid Acc = 70.24540\n",
            "Epoch  4 Train Acc = 74.35659 Valid Acc = 70.77125\n"
          ]
        }
      ],
      "source": [
        "labelField = Field(sequential=False, use_vocab=False, batch_first=True, dtype=torch.float)\n",
        "tweetField = Field(tokenize=customTokenizer, include_lengths=True, batch_first=True)\n",
        "fields = [('', None), ('tweet', tweetField), ('label', labelField)]\n",
        "\n",
        "trainDataset = TabularDataset(path=TRAIN_SET_PATH, format='CSV', fields=fields, skip_header=True,)\n",
        "validDataset = TabularDataset(path=VALIDATION_SET_PATH, format='CSV', fields=fields, skip_header=True)\n",
        "\n",
        "trainIterator = BucketIterator(trainDataset, batch_size=BATCH_SIZE, device=device)\n",
        "validIterator = BucketIterator(validDataset, batch_size=len(validLabels), device=device)\n",
        "\n",
        "tweetField.build_vocab(trainDataset)\n",
        "\n",
        "embeddingsMatrix = createEmbeddingsMatrix(len(tweetField.vocab), wordVectors)\n",
        "\n",
        "model = SkipRNN(embeddingsMatrix, dimensions, hiddenSizes=HIDDEN_SIZES).to(device)\n",
        "lossFunction = nn.CrossEntropyLoss()\n",
        "optimizer = torch.optim.Adam(model.parameters(), lr=LEARNING_RATE)\n",
        "\n",
        "(validItrlabels,\n",
        " validPredictions,\n",
        " validF1,\n",
        " validErrors,\n",
        " validOutput,\n",
        " trainLabels,\n",
        " trainF1,\n",
        " trainErrors,\n",
        " epochTrainPredictions) = trainModel(model, optimizer, trainIterator, validIterator)"
      ]
    },
    {
      "cell_type": "code",
      "execution_count": 640,
      "metadata": {
        "colab": {
          "base_uri": "https://localhost:8080/",
          "height": 311
        },
        "id": "A8Tj6JydLWrb",
        "outputId": "d63c1d71-e065-4f48-e983-f206629d9655"
      },
      "outputs": [
        {
          "output_type": "display_data",
          "data": {
            "image/png": "[encoded data removed]",
            "text/plain": [
              "<Figure size 936x360 with 2 Axes>"
            ]
          },
          "metadata": {
            "needs_background": "light"
          }
        }
      ],
      "source": [
        "_, ax = plt.subplots(1, 2, figsize=(13,5))\n",
        "plotConfusionMatrix(validItrlabels, validPredictions, 'Validation Set', CLASS_NAMES, ax[0])\n",
        "plotConfusionMatrix(trainLabels, epochTrainPredictions, 'Train Set', CLASS_NAMES, ax[1])\n",
        "plt.show()"
      ]
    },
    {
      "cell_type": "code",
      "execution_count": 641,
      "metadata": {
        "colab": {
          "base_uri": "https://localhost:8080/",
          "height": 390
        },
        "id": "ebOZdOGJMF-h",
        "outputId": "027ed46d-c34a-4415-b382-db9481e3207f"
      },
      "outputs": [
        {
          "output_type": "display_data",
          "data": {
            "image/png": "[encoded data removed]",
            "text/plain": [
              "<Figure size 504x432 with 1 Axes>"
            ]
          },
          "metadata": {
            "needs_background": "light"
          }
        }
      ],
      "source": [
        "displayF1Curves(EPOCHS, trainF1, validF1)"
      ]
    },
    {
      "cell_type": "code",
      "execution_count": 642,
      "metadata": {
        "colab": {
          "base_uri": "https://localhost:8080/",
          "height": 112
        },
        "id": "7v42C7FlMUNo",
        "outputId": "20d685aa-a779-4801-a6e4-d02104b6da8d"
      },
      "outputs": [
        {
          "output_type": "execute_result",
          "data": {
            "text/html": [
              "\n",
              "  <div id=\"df-a56edbe2-d348-47ae-a389-89888c71c3f3\">\n",
              "    <div class=\"colab-df-container\">\n",
              "      <div>\n",
              "<style scoped>\n",
              "    .dataframe tbody tr th:only-of-type {\n",
              "        vertical-align: middle;\n",
              "    }\n",
              "\n",
              "    .dataframe tbody tr th {\n",
              "        vertical-align: top;\n",
              "    }\n",
              "\n",
              "    .dataframe thead th {\n",
              "        text-align: right;\n",
              "    }\n",
              "</style>\n",
              "<table border=\"1\" class=\"dataframe\">\n",
              "  <thead>\n",
              "    <tr style=\"text-align: right;\">\n",
              "      <th></th>\n",
              "      <th>F1</th>\n",
              "      <th>Precision</th>\n",
              "      <th>Recall</th>\n",
              "    </tr>\n",
              "  </thead>\n",
              "  <tbody>\n",
              "    <tr>\n",
              "      <th>Train</th>\n",
              "      <td>0.7429</td>\n",
              "      <td>0.7027</td>\n",
              "      <td>0.6711</td>\n",
              "    </tr>\n",
              "    <tr>\n",
              "      <th>Validation</th>\n",
              "      <td>0.7077</td>\n",
              "      <td>0.6616</td>\n",
              "      <td>0.6619</td>\n",
              "    </tr>\n",
              "  </tbody>\n",
              "</table>\n",
              "</div>\n",
              "      <button class=\"colab-df-convert\" onclick=\"convertToInteractive('df-a56edbe2-d348-47ae-a389-89888c71c3f3')\"\n",
              "              title=\"Convert this dataframe to an interactive table.\"\n",
              "              style=\"display:none;\">\n",
              "        \n",
              "  <svg xmlns=\"http://www.w3.org/2000/svg\" height=\"24px\"viewBox=\"0 0 24 24\"\n",
              "       width=\"24px\">\n",
              "    <path d=\"M0 0h24v24H0V0z\" fill=\"none\"/>\n",
              "    <path d=\"M18.56 5.44l.94 2.06.94-2.06 2.06-.94-2.06-.94-.94-2.06-.94 2.06-2.06.94zm-11 1L8.5 8.5l.94-2.06 2.06-.94-2.06-.94L8.5 2.5l-.94 2.06-2.06.94zm10 10l.94 2.06.94-2.06 2.06-.94-2.06-.94-.94-2.06-.94 2.06-2.06.94z\"/><path d=\"M17.41 7.96l-1.37-1.37c-.4-.4-.92-.59-1.43-.59-.52 0-1.04.2-1.43.59L10.3 9.45l-7.72 7.72c-.78.78-.78 2.05 0 2.83L4 21.41c.39.39.9.59 1.41.59.51 0 1.02-.2 1.41-.59l7.78-7.78 2.81-2.81c.8-.78.8-2.07 0-2.86zM5.41 20L4 18.59l7.72-7.72 1.47 1.35L5.41 20z\"/>\n",
              "  </svg>\n",
              "      </button>\n",
              "      \n",
              "  <style>\n",
              "    .colab-df-container {\n",
              "      display:flex;\n",
              "      flex-wrap:wrap;\n",
              "      gap: 12px;\n",
              "    }\n",
              "\n",
              "    .colab-df-convert {\n",
              "      background-color: #E8F0FE;\n",
              "      border: none;\n",
              "      border-radius: 50%;\n",
              "      cursor: pointer;\n",
              "      display: none;\n",
              "      fill: #1967D2;\n",
              "      height: 32px;\n",
              "      padding: 0 0 0 0;\n",
              "      width: 32px;\n",
              "    }\n",
              "\n",
              "    .colab-df-convert:hover {\n",
              "      background-color: #E2EBFA;\n",
              "      box-shadow: 0px 1px 2px rgba(60, 64, 67, 0.3), 0px 1px 3px 1px rgba(60, 64, 67, 0.15);\n",
              "      fill: #174EA6;\n",
              "    }\n",
              "\n",
              "    [theme=dark] .colab-df-convert {\n",
              "      background-color: #3B4455;\n",
              "      fill: #D2E3FC;\n",
              "    }\n",
              "\n",
              "    [theme=dark] .colab-df-convert:hover {\n",
              "      background-color: #434B5C;\n",
              "      box-shadow: 0px 1px 3px 1px rgba(0, 0, 0, 0.15);\n",
              "      filter: drop-shadow(0px 1px 2px rgba(0, 0, 0, 0.3));\n",
              "      fill: #FFFFFF;\n",
              "    }\n",
              "  </style>\n",
              "\n",
              "      <script>\n",
              "        const buttonEl =\n",
              "          document.querySelector('#df-a56edbe2-d348-47ae-a389-89888c71c3f3 button.colab-df-convert');\n",
              "        buttonEl.style.display =\n",
              "          google.colab.kernel.accessAllowed ? 'block' : 'none';\n",
              "\n",
              "        async function convertToInteractive(key) {\n",
              "          const element = document.querySelector('#df-a56edbe2-d348-47ae-a389-89888c71c3f3');\n",
              "          const dataTable =\n",
              "            await google.colab.kernel.invokeFunction('convertToInteractive',\n",
              "                                                     [key], {});\n",
              "          if (!dataTable) return;\n",
              "\n",
              "          const docLinkHtml = 'Like what you see? Visit the ' +\n",
              "            '<a target=\"_blank\" href=https://colab.research.google.com/notebooks/data_table.ipynb>data table notebook</a>'\n",
              "            + ' to learn more about interactive tables.';\n",
              "          element.innerHTML = '';\n",
              "          dataTable['output_type'] = 'display_data';\n",
              "          await google.colab.output.renderOutput(dataTable, element);\n",
              "          const docLink = document.createElement('div');\n",
              "          docLink.innerHTML = docLinkHtml;\n",
              "          element.appendChild(docLink);\n",
              "        }\n",
              "      </script>\n",
              "    </div>\n",
              "  </div>\n",
              "  "
            ],
            "text/plain": [
              "                F1  Precision  Recall\n",
              "Train       0.7429     0.7027  0.6711\n",
              "Validation  0.7077     0.6616  0.6619"
            ]
          },
          "metadata": {},
          "execution_count": 642
        }
      ],
      "source": [
        "scores = metricScores(epochTrainPredictions, validPredictions, trainLabels, validItrlabels)\n",
        "metricStatsDF(*scores)"
      ]
    },
    {
      "cell_type": "code",
      "execution_count": 643,
      "metadata": {
        "colab": {
          "base_uri": "https://localhost:8080/",
          "height": 354
        },
        "id": "FBm1_QAFMlAd",
        "outputId": "7befb54f-5010-4a1b-a576-a93b8fcc50ac"
      },
      "outputs": [
        {
          "output_type": "display_data",
          "data": {
            "image/png": "[encoded data removed]",
            "text/plain": [
              "<Figure size 432x360 with 1 Axes>"
            ]
          },
          "metadata": {
            "needs_background": "light"
          }
        }
      ],
      "source": [
        "plotLossCurves(trainErrors, validErrors)"
      ]
    },
    {
      "cell_type": "code",
      "execution_count": 644,
      "metadata": {
        "colab": {
          "base_uri": "https://localhost:8080/",
          "height": 458
        },
        "id": "FvcK45lCMvoW",
        "outputId": "0dc265f1-7593-4171-9b51-c624130035e7"
      },
      "outputs": [
        {
          "output_type": "display_data",
          "data": {
            "image/png": "[encoded data removed]",
            "text/plain": [
              "<Figure size 504x504 with 1 Axes>"
            ]
          },
          "metadata": {
            "needs_background": "light"
          }
        }
      ],
      "source": [
        "rocScores = createRocCurves(validItrlabels.int(), validOutput)\n",
        "plotRocCurves(*rocScores)"
      ]
    }
  ],
  "metadata": {
    "colab": {
      "collapsed_sections": [],
      "name": "test_rnn.ipynb",
      "provenance": []
    },
    "interpreter": {
      "hash": "916dbcbb3f70747c44a77c7bcd40155683ae19c65e1c03b4aa3499c5328201f1"
    },
    "kernelspec": {
      "display_name": "Python 3.8.10 64-bit",
      "language": "python",
      "name": "python3"
    },
    "language_info": {
      "codemirror_mode": {
        "name": "ipython",
        "version": 3
      },
      "file_extension": ".py",
      "mimetype": "text/x-python",
      "name": "python",
      "nbconvert_exporter": "python",
      "pygments_lexer": "ipython3",
      "version": "3.8.10"
    },
    "orig_nbformat": 4,
    "accelerator": "GPU"
  },
  "nbformat": 4,
  "nbformat_minor": 0
}