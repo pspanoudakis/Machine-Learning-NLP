{
 "cells": [
  {
   "cell_type": "markdown",
   "metadata": {},
   "source": [
    "# Vaccine sentiment classification using Feed-Forward Neural Network\n",
    "Pavlos Spanoudakis (sdi1800184)"
   ]
  },
  {
   "cell_type": "markdown",
   "metadata": {},
   "source": [
    "### Select one of the models presented in the report:"
   ]
  },
  {
   "cell_type": "code",
   "execution_count": 1,
   "metadata": {},
   "outputs": [],
   "source": [
    "MODEL_1 = 1\n",
    "MODEL_2 = 2\n",
    "MODEL_3 = 3\n",
    "\n",
    "MODEL = MODEL_1"
   ]
  },
  {
   "cell_type": "markdown",
   "metadata": {},
   "source": [
    "### Setting up Data set & Word Embeddings paths"
   ]
  },
  {
   "cell_type": "code",
   "execution_count": 2,
   "metadata": {},
   "outputs": [],
   "source": [
    "TRAIN_SET_PATH = \"./vaccine_train_set.csv\"\n",
    "VALIDATION_SET_PATH = \"./vaccine_validation_set.csv\"\n",
    "\n",
    "if MODEL is MODEL_1:\n",
    "    EMBEDDINGS_PATH = '/mnt/c/Users/pavlo/Downloads/glove.6B.200d.txt'\n",
    "elif MODEL is MODEL_2:\n",
    "    EMBEDDINGS_PATH = '/mnt/c/Users/pavlo/Downloads/glove.6B.300d.txt'\n",
    "elif MODEL is MODEL_3:\n",
    "    EMBEDDINGS_PATH = '/mnt/c/Users/pavlo/Downloads/glove.6B.50d.txt'"
   ]
  },
  {
   "cell_type": "markdown",
   "metadata": {},
   "source": [
    "### Setting up NN hyperparameters"
   ]
  },
  {
   "cell_type": "code",
   "execution_count": 3,
   "metadata": {},
   "outputs": [],
   "source": [
    "if MODEL is MODEL_1:\n",
    "    LEARNING_RATE = 0.0045\n",
    "    BATCH_SIZE = 64\n",
    "    EPOCHS = 175\n",
    "\n",
    "    LAYER_SIZES = [128, 32, 8]\n",
    "    USE_RELU = True\n",
    "    USE_DROPOUT = False\n",
    "elif MODEL is MODEL_2:\n",
    "    LEARNING_RATE = 0.0001\n",
    "    BATCH_SIZE = 128\n",
    "    EPOCHS = 30\n",
    "\n",
    "    LAYER_SIZES = [256, 64, 16]\n",
    "    USE_RELU = True\n",
    "    USE_DROPOUT = False\n",
    "elif MODEL is MODEL_3:\n",
    "    LEARNING_RATE = 0.004\n",
    "    BATCH_SIZE = 32\n",
    "    EPOCHS = 100\n",
    "\n",
    "    LAYER_SIZES = [64, 32, 16, 8]\n",
    "    USE_RELU = False\n",
    "    USE_DROPOUT = False"
   ]
  },
  {
   "cell_type": "markdown",
   "metadata": {},
   "source": [
    "### Setting-up Class-Related information"
   ]
  },
  {
   "cell_type": "code",
   "execution_count": 4,
   "metadata": {},
   "outputs": [],
   "source": [
    "NUM_CLASSES = 3\n",
    "CLASS_NAMES = ['Neutral', 'Anti-Vaccine', 'Pro-Vaccine']"
   ]
  },
  {
   "cell_type": "markdown",
   "metadata": {},
   "source": [
    "### Necessary Imports"
   ]
  },
  {
   "cell_type": "code",
   "execution_count": 5,
   "metadata": {},
   "outputs": [],
   "source": [
    "from typing import Callable, Iterable, List, Dict\n",
    "from numbers import Number\n",
    "\n",
    "import random\n",
    "import re\n",
    "\n",
    "from nltk.tokenize import TweetTokenizer\n",
    "import numpy as np\n",
    "import pandas as pd\n",
    "import matplotlib.pyplot as plt\n",
    "import torch\n",
    "import torch.nn as nn\n",
    "from torch.utils.data import TensorDataset, DataLoader\n",
    "\n",
    "from sklearn.metrics import f1_score, recall_score, precision_score, \\\n",
    "                            roc_curve, auc, ConfusionMatrixDisplay"
   ]
  },
  {
   "cell_type": "markdown",
   "metadata": {},
   "source": [
    "### Setting custom seeds in pseudo-random generators for reproducability"
   ]
  },
  {
   "cell_type": "code",
   "execution_count": 6,
   "metadata": {},
   "outputs": [],
   "source": [
    "SEED = 32\n",
    "random.seed(SEED)\n",
    "np.random.seed(SEED)\n",
    "_ = torch.manual_seed(SEED)"
   ]
  },
  {
   "cell_type": "markdown",
   "metadata": {},
   "source": [
    "### Reading data sets & checking whether all samples are valid"
   ]
  },
  {
   "cell_type": "code",
   "execution_count": 7,
   "metadata": {},
   "outputs": [
    {
     "data": {
      "text/plain": [
       "Unnamed: 0    0\n",
       "tweet         0\n",
       "label         0\n",
       "dtype: int64"
      ]
     },
     "execution_count": 7,
     "metadata": {},
     "output_type": "execute_result"
    }
   ],
   "source": [
    "trainDF = pd.read_csv(TRAIN_SET_PATH)\n",
    "trainDF.isnull().sum()"
   ]
  },
  {
   "cell_type": "code",
   "execution_count": 8,
   "metadata": {},
   "outputs": [
    {
     "data": {
      "text/plain": [
       "Unnamed: 0    0\n",
       "tweet         0\n",
       "label         0\n",
       "dtype: int64"
      ]
     },
     "execution_count": 8,
     "metadata": {},
     "output_type": "execute_result"
    }
   ],
   "source": [
    "validDF = pd.read_csv(VALIDATION_SET_PATH)\n",
    "validDF.isnull().sum()"
   ]
  },
  {
   "cell_type": "markdown",
   "metadata": {},
   "source": [
    "### Trimming the created data frames and extracting only the required data"
   ]
  },
  {
   "cell_type": "code",
   "execution_count": 9,
   "metadata": {},
   "outputs": [],
   "source": [
    "features = trainDF.drop(['label', 'Unnamed: 0'], axis=1)\n",
    "X_train = np.array([ar[0] for ar in features.values])\n",
    "trainLabels = trainDF['label'].values\n",
    "\n",
    "features = validDF.drop(['label', 'Unnamed: 0'], axis=1)\n",
    "X_valid = np.array([ar[0] for ar in features.values])\n",
    "validLabels = validDF['label'].values"
   ]
  },
  {
   "cell_type": "markdown",
   "metadata": {},
   "source": [
    "### Creating word vectors from the given embeddings file"
   ]
  },
  {
   "cell_type": "code",
   "execution_count": 10,
   "metadata": {},
   "outputs": [],
   "source": [
    "def createWordVectors(embeddingsPath: str):\n",
    "    wordVectors: Dict[str, np.ndarray] = {}\n",
    "    lineElements: List[str] = []\n",
    "    with open(embeddingsPath) as file:\n",
    "        # Read file line by line\n",
    "        for line in file:\n",
    "            # Remove new line and split\n",
    "            lineElements = line.replace('\\n', '').split()\n",
    "            # The first element in the line is the target word\n",
    "            word = lineElements.pop(0)\n",
    "            # The other elements represent the vector of the word\n",
    "            wordVector = np.array([float(w) for w in lineElements])\n",
    "            # Store the vector for this word\n",
    "            wordVectors[word] = wordVector\n",
    "    dimensions = len(lineElements)\n",
    "\n",
    "    return wordVectors, dimensions"
   ]
  },
  {
   "cell_type": "markdown",
   "metadata": {},
   "source": [
    "### Optional Preprocessor to be used during data vectorization\n",
    "- Converts the given `str` to lowercase\n",
    "- Ignores `@` mentions\n",
    "- Ignores URL's starting with `http://` or `https://`\n",
    "- Ignores any digits"
   ]
  },
  {
   "cell_type": "code",
   "execution_count": 11,
   "metadata": {},
   "outputs": [],
   "source": [
    "def customPreprocessor(text: str):    \n",
    "    # remove url's\n",
    "    trimmedText = re.sub(r'https?://\\S+|www\\.\\S+|#', '', text).lower()\n",
    "\n",
    "    # remove @ mentions and numbers\n",
    "    res = list()\n",
    "    wait_whitespace = False\n",
    "    for c in trimmedText:\n",
    "        if wait_whitespace:\n",
    "            if c == \" \":\n",
    "                wait_whitespace = False\n",
    "            continue\n",
    "        elif re.match(\"[0-9]\", c) or c == \"@\":\n",
    "            wait_whitespace = True\n",
    "            continue            \n",
    "        res.append(c)\n",
    "    \n",
    "    return ''.join(res)"
   ]
  },
  {
   "cell_type": "markdown",
   "metadata": {},
   "source": [
    "### Vectorizing Data set Samples\n",
    "- Each sentence is tokenized using `nltk.TweetVectorizer` into tokens/words.\n",
    "- We sum up the vectors of each word from the pre-trained embeddings and assign the mean vector to the current sample."
   ]
  },
  {
   "cell_type": "code",
   "execution_count": 12,
   "metadata": {},
   "outputs": [],
   "source": [
    "# nltk.TweetTokenizer is used for tweet tokenization\n",
    "tokenizer = TweetTokenizer()\n",
    "def vectorizeTweet(tweet: str, preprocessor: Callable[[str], str], wordVectors: Dict[str, np.ndarray], dimensions: int) -> np.ndarray:\n",
    "    # Split the tweet into words/tokens\n",
    "    words = tokenizer.tokenize(preprocessor(tweet))\n",
    "    # words = tokenizer.tokenize(tweet)\n",
    "\n",
    "    # The sum of the vectors of the tweet words is stored here\n",
    "    vector: np.ndarray = np.zeros(dimensions)\n",
    "    for word in words:\n",
    "        # Get the word/token pre-trained vector\n",
    "        wordVector = wordVectors.get(word)\n",
    "        if wordVector is not None:\n",
    "            # If found, add to the tweet vector\n",
    "            vector += wordVector\n",
    "    \n",
    "    # return the mean vector\n",
    "    return vector / len(words)\n",
    "\n",
    "def vectorizeDataSet(dataSet: Iterable[str], dimensions: int, wordVectors: Dict[str, np.ndarray]):\n",
    "    matrix: np.ndarray = np.zeros(shape=(len(dataSet), dimensions))\n",
    "    for i, sample in enumerate(dataSet):\n",
    "        matrix[i] = vectorizeTweet(sample, customPreprocessor, wordVectors, dimensions)\n",
    "    \n",
    "    return matrix"
   ]
  },
  {
   "cell_type": "markdown",
   "metadata": {},
   "source": [
    "### Creating the Neural Network\n",
    "We create a network with an Input layer, an Output layer and a number of hidden layers (`len(hidden_sizes) - 1`).\\\n",
    "e.g. if `hidden_sizes = [16, 8, 4]` then the neural network will look like this:\n",
    "- Input Layer (in -> `n_features`, out -> 16)\n",
    "- Hidden Layer 1 (in -> 16, out -> 8)\n",
    "- Hidden Layer 2 (in -> 8, out -> 4)\n",
    "- Output Layer (in -> 4, out -> `n_classes`)\n"
   ]
  },
  {
   "cell_type": "code",
   "execution_count": 13,
   "metadata": {},
   "outputs": [],
   "source": [
    "class Network(nn.Module):\n",
    "    def __init__(self, n_features: int, hidden_sizes: Iterable[int], n_classes: int) -> None:\n",
    "        super(Network, self).__init__()\n",
    "        \n",
    "        if len(hidden_sizes) > 0:\n",
    "            next_in = hidden_sizes[0]\n",
    "        else:\n",
    "            next_in = n_features\n",
    "        self.layerIn = nn.Linear(n_features, next_in)\n",
    "        self.hiddenLayers = nn.ModuleList()        \n",
    "        for size in hidden_sizes[1:]:\n",
    "            self.hiddenLayers.append(nn.Linear(next_in, size))\n",
    "            next_in = size\n",
    "        self.layerOut = nn.Linear(next_in, n_classes)\n",
    "        self.relu = nn.ReLU()\n",
    "        self.dropout = nn.Dropout()\n",
    "    \n",
    "    def forward(self, input):\n",
    "        last_out = self.layerIn(input)\n",
    "        for layer in self.hiddenLayers:\n",
    "            last_out = layer(last_out)\n",
    "            if USE_RELU:\n",
    "                last_out = self.relu(last_out)\n",
    "            if USE_DROPOUT:\n",
    "                last_out = self.dropout(last_out)\n",
    "        \n",
    "        return self.layerOut(last_out)"
   ]
  },
  {
   "cell_type": "markdown",
   "metadata": {},
   "source": [
    "### Converting the NN output to predictions\n",
    "We apply `log_softmax` to the output vector and map each vector to the index of the maximum element of the vector."
   ]
  },
  {
   "cell_type": "code",
   "execution_count": 14,
   "metadata": {},
   "outputs": [],
   "source": [
    "def getPredictedLabels(predictions: torch.Tensor) -> np.ndarray:\n",
    "    softmaxLayerOut = torch.log_softmax(predictions, dim = 1)\n",
    "    _, labels = torch.max(softmaxLayerOut, dim = 1)\n",
    "    return labels.detach().numpy()"
   ]
  },
  {
   "cell_type": "markdown",
   "metadata": {},
   "source": [
    "### Calculating macro accuracy"
   ]
  },
  {
   "cell_type": "code",
   "execution_count": 15,
   "metadata": {},
   "outputs": [],
   "source": [
    "def calculateAccuracy(predictedLabels: Iterable[Number], trueLabels: Iterable[Number]) -> float:    \n",
    "    correct = 0\n",
    "    for pred, true in zip(predictedLabels, trueLabels):\n",
    "        correct += int(pred == true)\n",
    "    \n",
    "    return correct/len(trueLabels)*100"
   ]
  },
  {
   "cell_type": "markdown",
   "metadata": {},
   "source": [
    "### Plotting a confusion matrix\n",
    "We can change the displayed labels (`0` -> `Neutral`, `1` -> `Anti-Vaccine`, `2` -> `Pro-Vaccine`) if desired."
   ]
  },
  {
   "cell_type": "code",
   "execution_count": 16,
   "metadata": {},
   "outputs": [],
   "source": [
    "def plotConfusionMatrix(trueLabels: Iterable[int], predictions:Iterable[int], title: str, displayLabels: Iterable[str]=None, axes: plt.Axes=None):\n",
    "    if axes is None:\n",
    "        _, axes = plt.subplots(1, 1, figsize=(6,5))\n",
    "    disp = ConfusionMatrixDisplay.from_predictions(trueLabels, predictions, cmap=plt.cm.Reds, ax=axes, colorbar=False)\n",
    "    if displayLabels is not None:\n",
    "        disp.ax_.set_xticklabels(displayLabels)\n",
    "        disp.ax_.set_yticklabels(displayLabels)\n",
    "    axes.set_xlabel('Classifier predicted labels', fontsize=11)\n",
    "    axes.set_ylabel('True labels', fontsize=11)\n",
    "    axes.set_title(title, fontsize=14)"
   ]
  },
  {
   "cell_type": "markdown",
   "metadata": {},
   "source": [
    "### Plotting F1 learning curves\n",
    "We calculate the F1 score on the Train and Validation sets after every epoch, to create the corresponding F1 learning curves."
   ]
  },
  {
   "cell_type": "code",
   "execution_count": 17,
   "metadata": {},
   "outputs": [],
   "source": [
    "def displayF1Curves(epochs: int, tScores: Iterable[Number], vScores: Iterable[Number]):\n",
    "\n",
    "    epochValues = [i for i in range(epochs)]\n",
    "\n",
    "    _, axes = plt.subplots(1, 1, figsize=(7, 6))\n",
    "    axes.grid()\n",
    "    axes.set_title('F1 Scores')\n",
    "    axes.plot(epochValues, tScores, \"-\", color=\"r\", label=\"Training Set score\")\n",
    "    axes.plot(epochValues, vScores, \"-\", color=\"g\", label=\"Validation Set score\")\n",
    "\n",
    "    yValues = np.concatenate((tScores, vScores))\n",
    "    axes.set_xlim((epochValues[0], epochValues[-1]))\n",
    "    axes.set_ylim(( round(min(yValues) - 0.05, 1), round(max(yValues) + 0.05, 1) ))\n",
    "    axes.legend(loc=\"best\")\n",
    "\n",
    "    plt.show()"
   ]
  },
  {
   "cell_type": "markdown",
   "metadata": {},
   "source": [
    "### Calculating metric scores on the trained model predictions\n",
    "- For each different training set size, we calculate the **F1**, **Precision** and **Recall** scores\n",
    "of the predictions made by the classifier after the end of the train phase, on the training & validation sets.\n",
    "- We store these scores in two `dict` objects which we return."
   ]
  },
  {
   "cell_type": "code",
   "execution_count": 18,
   "metadata": {},
   "outputs": [],
   "source": [
    "F1_KEY = \"F1\"\n",
    "PREC_KEY = \"Precision\"\n",
    "REC_KEY = \"Recall\"\n",
    "\n",
    "def metricScores(trainPredictions: Iterable[int], validPredictions: Iterable[int], trainLabels: Iterable[int], validLabels: Iterable[int]):\n",
    "    tScores = {}\n",
    "    vScores = {}\n",
    "    tScores[F1_KEY] = round(f1_score(trainLabels, trainPredictions, average=\"micro\"), 4)\n",
    "    tScores[PREC_KEY] = round(precision_score(trainLabels, trainPredictions, average=\"macro\"), 4)\n",
    "    tScores[REC_KEY] = round(recall_score(trainLabels, trainPredictions, average=\"macro\"), 4)\n",
    "\n",
    "    vScores[F1_KEY] = round(f1_score(validLabels, validPredictions, average=\"micro\"), 4)\n",
    "    vScores[PREC_KEY] = round(precision_score(validLabels, validPredictions, average=\"macro\"), 4)\n",
    "    vScores[REC_KEY] = round(recall_score(validLabels, validPredictions, average=\"macro\"), 4)\n",
    "    \n",
    "    return tScores, vScores"
   ]
  },
  {
   "cell_type": "markdown",
   "metadata": {},
   "source": [
    "### Getting the final scores in a data frame\n",
    "We place the scores of the predictions made after training with 100% of\n",
    "the training set in a data frame for better readability."
   ]
  },
  {
   "cell_type": "code",
   "execution_count": 19,
   "metadata": {},
   "outputs": [],
   "source": [
    "def metricStatsDF(tScores: Dict[str, Number], vScores: Dict[str, Number]):\n",
    "    metricStats: Dict[str, List[Number]] = {}\n",
    "    for metric in tScores:\n",
    "        metricStats[metric] = [tScores[metric], vScores[metric]]\n",
    "    \n",
    "    return pd.DataFrame(metricStats, index=['Train', 'Validation'])"
   ]
  },
  {
   "cell_type": "markdown",
   "metadata": {},
   "source": [
    "### Plotting Loss curves for the after-training predictions on the Training & Validation sets"
   ]
  },
  {
   "cell_type": "code",
   "execution_count": 20,
   "metadata": {},
   "outputs": [],
   "source": [
    "def plotLossCurves(trainLosses: Iterable[Number], validationLosses: Iterable[Number], axes: plt.Axes = None):\n",
    "    if axes is None:\n",
    "        _, axes = plt.subplots(1, 1, figsize=(6,5))\n",
    "    \n",
    "    axes.grid()\n",
    "    axes.set_title(\"Loss Curves\", fontsize=14)\n",
    "    axes.set_xlabel('Epochs', fontsize=12)\n",
    "    axes.set_ylabel('Loss', fontsize=12)\n",
    "    \n",
    "    epochs = [i for i in range(len(validationLosses))]\n",
    "\n",
    "    axes.plot(epochs, trainLosses, label='Train Set')\n",
    "    axes.plot(epochs, validationLosses, label='Validation Set')\n",
    "\n",
    "    axes.legend(loc=\"best\")\n",
    "    plt.show()"
   ]
  },
  {
   "cell_type": "markdown",
   "metadata": {},
   "source": [
    "### Creating & Plotting ROC Curves for the Validation Set predictions\n",
    "We mirror the usage of `roc_curve` from scikit-learn for multiple classes, as demonstrated [here](https://scikit-learn.org/stable/auto_examples/model_selection/plot_roc.html#plot-roc-curves-for-the-multiclass-problem)."
   ]
  },
  {
   "cell_type": "code",
   "execution_count": 21,
   "metadata": {},
   "outputs": [],
   "source": [
    "def createRocCurves(trueLabels: Iterable[int] , predictions: torch.Tensor):\n",
    "    labels = np.zeros((len(trueLabels), NUM_CLASSES), dtype=int)\n",
    "    for index, label in enumerate(trueLabels):\n",
    "        labels[index][label] = 1\n",
    "    scores = torch.softmax(predictions, dim = 1).detach().numpy()\n",
    "\n",
    "    fpr: Dict[int, np.ndarray] = {}\n",
    "    tpr: Dict[int, np.ndarray] = {}\n",
    "    roc_auc: Dict[int, np.ndarray] = {}\n",
    "    for i in range(NUM_CLASSES):\n",
    "        fpr[i], tpr[i], _ = roc_curve(labels[:, i], scores[:, i], drop_intermediate=True)\n",
    "        roc_auc[i] = auc(fpr[i], tpr[i])\n",
    "    \n",
    "    return fpr, tpr, roc_auc\n",
    "\n",
    "def plotRocCurves(fpRates: Dict[int, np.ndarray], tpRates: Dict[int, np.ndarray], aucScores: Dict[int, np.ndarray]):\n",
    "    plt.figure(figsize=(7,7))\n",
    "    plt.grid()\n",
    "\n",
    "    for i in range(NUM_CLASSES):\n",
    "        plt.plot(\n",
    "            fpRates[i],\n",
    "            tpRates[i],\n",
    "            label=f\"{CLASS_NAMES[i]} (area = {aucScores[i]:0.2f})\"\n",
    "        )\n",
    "\n",
    "    plt.plot([0, 1], [0, 1], \"k--\")\n",
    "    plt.xlim([0.0, 1.0])\n",
    "    plt.ylim([0.0, 1.05])\n",
    "    plt.xlabel(\"False Positive Rate\")\n",
    "    plt.ylabel(\"True Positive Rate\")\n",
    "    plt.title(\"ROC Curves\")\n",
    "    plt.legend(loc=\"lower right\")\n",
    "    plt.show()\n",
    "    pass"
   ]
  },
  {
   "cell_type": "markdown",
   "metadata": {},
   "source": [
    "# Execution flow"
   ]
  },
  {
   "cell_type": "markdown",
   "metadata": {},
   "source": [
    "Creating pre-trained word vectors & sample vectors:"
   ]
  },
  {
   "cell_type": "code",
   "execution_count": 22,
   "metadata": {},
   "outputs": [],
   "source": [
    "wordVectors, dimensions = createWordVectors(EMBEDDINGS_PATH)\n",
    "\n",
    "trainSetVectors: np.ndarray = vectorizeDataSet(X_train, dimensions, wordVectors)\n",
    "validSetVectors: np.ndarray = vectorizeDataSet(X_valid, dimensions, wordVectors)"
   ]
  },
  {
   "cell_type": "markdown",
   "metadata": {},
   "source": [
    "Creating the Neural Network & Preparing for training phase:"
   ]
  },
  {
   "cell_type": "code",
   "execution_count": 23,
   "metadata": {},
   "outputs": [],
   "source": [
    "network = Network(dimensions, LAYER_SIZES, NUM_CLASSES)\n",
    "\n",
    "Y_trainTensor = torch.tensor(trainLabels, dtype=torch.float)\n",
    "X_trainTensor = torch.tensor(trainSetVectors, dtype=torch.float)\n",
    "\n",
    "dataset = TensorDataset(X_trainTensor, Y_trainTensor)\n",
    "trainSetLoader = DataLoader(dataset, batch_size=BATCH_SIZE, shuffle=False)\n",
    "\n",
    "Y_validTensor = torch.tensor(validLabels, dtype=torch.float).long()\n",
    "X_validTensor = torch.tensor(validSetVectors, dtype=torch.float)\n",
    "\n",
    "lossFunction = nn.CrossEntropyLoss()\n",
    "\n",
    "if MODEL is MODEL_1 or MODEL_3:\n",
    "    optimizer = torch.optim.SGD(network.parameters(), lr=LEARNING_RATE)\n",
    "elif MODEL is MODEL_2:\n",
    "    optimizer = torch.optim.Adam(network.parameters(), lr=LEARNING_RATE)"
   ]
  },
  {
   "cell_type": "markdown",
   "metadata": {},
   "source": [
    "### Training the Neural Network\n",
    "- We perform batch training for the given number of epochs.\n",
    "- At the end of each epoch, we calculate the total accuracy of the model on the Train and Validation sets.\n",
    "- We also store the total loss of the model predictions after each epoch, to create the loss curves later."
   ]
  },
  {
   "cell_type": "code",
   "execution_count": 24,
   "metadata": {},
   "outputs": [
    {
     "name": "stdout",
     "output_type": "stream",
     "text": [
      "Epoch 174 Train Acc = 68.05625 Valid Acc = 67.79141\r"
     ]
    }
   ],
   "source": [
    "# Loss, F1 Score & Total Predictions after every epoch are stored here\n",
    "validPredictions: np.ndarray\n",
    "validF1: np.ndarray = np.empty(EPOCHS, dtype=float)\n",
    "validErrors: np.ndarray = np.empty(EPOCHS, dtype=float)\n",
    "validOutput: torch.Tensor\n",
    "\n",
    "trainF1: np.ndarray = np.empty(EPOCHS, dtype=float)\n",
    "trainErrors: np.ndarray = np.empty(EPOCHS, dtype=float)\n",
    "epochTrainPredictions: List[int]\n",
    "\n",
    "# Epochs loop\n",
    "for epoch in range(EPOCHS):\n",
    "    # Set model to train mode\n",
    "    network.train()\n",
    "    epochTrainPredictions = []\n",
    "    batchLosses = []\n",
    "    batchAccs = []\n",
    "\n",
    "    # Batch loop\n",
    "    for batchSamples, batchLabels in trainSetLoader:\n",
    "        \n",
    "        # Make predictions for batch samples\n",
    "        predictions = network(batchSamples)\n",
    "\n",
    "        # Extract & store predicted labels and calculate accuracy\n",
    "        predictedLabels = getPredictedLabels(predictions)\n",
    "        epochTrainPredictions.extend(predictedLabels)\n",
    "        batchAccs.append(calculateAccuracy(predictedLabels, batchLabels))\n",
    "\n",
    "        # Run loss function, store loss & backpropagate\n",
    "        batchLoss = lossFunction(predictions, batchLabels.long())\n",
    "        batchLosses.append(batchLoss.item())\n",
    "\n",
    "        optimizer.zero_grad()\n",
    "\n",
    "        batchLoss.backward()\n",
    "\n",
    "        optimizer.step()\n",
    "    \n",
    "    # Find the total epoch loss & F1 Score for the Train set\n",
    "    trainErrors[epoch] = sum(batchLosses)/len(batchLosses)\n",
    "    trainF1[epoch] = f1_score(trainLabels, epochTrainPredictions, average=\"micro\")\n",
    "    \n",
    "    # Set model to evaluation mode\n",
    "    network.eval()\n",
    "    with torch.no_grad():\n",
    "\n",
    "        # Make predictions on the Validation set\n",
    "        validOutput = network(X_validTensor)\n",
    "\n",
    "        # Run loss function & store loss\n",
    "        validLoss = lossFunction(validOutput, Y_validTensor)\n",
    "        validErrors[epoch] = validLoss.item()\n",
    "        \n",
    "        # Extract & store predicted labels, calculate accuracy and F1 Score\n",
    "        validPredictions = getPredictedLabels(validOutput)\n",
    "        acc = calculateAccuracy(validPredictions, validLabels)\n",
    "        validF1[epoch] = f1_score(validLabels, validPredictions, average=\"micro\")\n",
    "    \n",
    "    print(f\"Epoch {epoch:3} Train Acc = {sum(batchAccs)/len(batchAccs):.5f} Valid Acc = {acc:.5f}\\r\", end='')\n"
   ]
  },
  {
   "cell_type": "markdown",
   "metadata": {},
   "source": [
    "### Displaying model performance results & curves"
   ]
  },
  {
   "cell_type": "code",
   "execution_count": 25,
   "metadata": {},
   "outputs": [
    {
     "data": {
      "image/png": "[encoded data removed]",
      "text/plain": [
       "<Figure size 936x360 with 2 Axes>"
      ]
     },
     "metadata": {
      "needs_background": "light"
     },
     "output_type": "display_data"
    }
   ],
   "source": [
    "_, ax = plt.subplots(1, 2, figsize=(13,5))\n",
    "plotConfusionMatrix(validLabels, validPredictions, 'Validation Set', CLASS_NAMES, ax[0])\n",
    "plotConfusionMatrix(trainLabels, epochTrainPredictions, 'Train Set', CLASS_NAMES, ax[1])\n",
    "plt.show()"
   ]
  },
  {
   "cell_type": "code",
   "execution_count": 26,
   "metadata": {},
   "outputs": [
    {
     "data": {
      "image/png": "[encoded data removed]",
      "text/plain": [
       "<Figure size 504x432 with 1 Axes>"
      ]
     },
     "metadata": {
      "needs_background": "light"
     },
     "output_type": "display_data"
    }
   ],
   "source": [
    "displayF1Curves(EPOCHS, trainF1, validF1)"
   ]
  },
  {
   "cell_type": "code",
   "execution_count": 27,
   "metadata": {},
   "outputs": [
    {
     "data": {
      "text/html": [
       "<div>\n",
       "<style scoped>\n",
       "    .dataframe tbody tr th:only-of-type {\n",
       "        vertical-align: middle;\n",
       "    }\n",
       "\n",
       "    .dataframe tbody tr th {\n",
       "        vertical-align: top;\n",
       "    }\n",
       "\n",
       "    .dataframe thead th {\n",
       "        text-align: right;\n",
       "    }\n",
       "</style>\n",
       "<table border=\"1\" class=\"dataframe\">\n",
       "  <thead>\n",
       "    <tr style=\"text-align: right;\">\n",
       "      <th></th>\n",
       "      <th>F1</th>\n",
       "      <th>Precision</th>\n",
       "      <th>Recall</th>\n",
       "    </tr>\n",
       "  </thead>\n",
       "  <tbody>\n",
       "    <tr>\n",
       "      <th>Train</th>\n",
       "      <td>0.6806</td>\n",
       "      <td>0.6240</td>\n",
       "      <td>0.5605</td>\n",
       "    </tr>\n",
       "    <tr>\n",
       "      <th>Validation</th>\n",
       "      <td>0.6779</td>\n",
       "      <td>0.6185</td>\n",
       "      <td>0.5641</td>\n",
       "    </tr>\n",
       "  </tbody>\n",
       "</table>\n",
       "</div>"
      ],
      "text/plain": [
       "                F1  Precision  Recall\n",
       "Train       0.6806     0.6240  0.5605\n",
       "Validation  0.6779     0.6185  0.5641"
      ]
     },
     "execution_count": 27,
     "metadata": {},
     "output_type": "execute_result"
    }
   ],
   "source": [
    "scores = metricScores(epochTrainPredictions, validPredictions, trainLabels, validLabels)\n",
    "metricStatsDF(*scores)"
   ]
  },
  {
   "cell_type": "code",
   "execution_count": 28,
   "metadata": {},
   "outputs": [
    {
     "data": {
      "image/png": "[encoded data removed]",
      "text/plain": [
       "<Figure size 432x360 with 1 Axes>"
      ]
     },
     "metadata": {
      "needs_background": "light"
     },
     "output_type": "display_data"
    }
   ],
   "source": [
    "plotLossCurves(trainErrors, validErrors)"
   ]
  },
  {
   "cell_type": "code",
   "execution_count": 29,
   "metadata": {},
   "outputs": [
    {
     "data": {
      "image/png": "[encoded data removed]",
      "text/plain": [
       "<Figure size 504x504 with 1 Axes>"
      ]
     },
     "metadata": {
      "needs_background": "light"
     },
     "output_type": "display_data"
    }
   ],
   "source": [
    "rocScores = createRocCurves(validLabels, validOutput)\n",
    "plotRocCurves(*rocScores)"
   ]
  }
 ],
 "metadata": {
  "interpreter": {
   "hash": "916dbcbb3f70747c44a77c7bcd40155683ae19c65e1c03b4aa3499c5328201f1"
  },
  "kernelspec": {
   "display_name": "Python 3.8.10 64-bit",
   "language": "python",
   "name": "python3"
  },
  "language_info": {
   "codemirror_mode": {
    "name": "ipython",
    "version": 3
   },
   "file_extension": ".py",
   "mimetype": "text/x-python",
   "name": "python",
   "nbconvert_exporter": "python",
   "pygments_lexer": "ipython3",
   "version": "3.8.10"
  },
  "orig_nbformat": 4
 },
 "nbformat": 4,
 "nbformat_minor": 2
}
