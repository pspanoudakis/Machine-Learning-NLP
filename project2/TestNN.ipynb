{
 "cells": [
  {
   "cell_type": "code",
   "execution_count": 287,
   "metadata": {},
   "outputs": [],
   "source": [
    "import math\n",
    "import re\n",
    "\n",
    "from nltk.tokenize import TweetTokenizer, word_tokenize\n",
    "import matplotlib.pyplot as plt\n",
    "import numpy as np\n",
    "import pandas as pd\n",
    "import torch\n",
    "import torch.nn as nn\n",
    "from torch.utils.data import TensorDataset, DataLoader, WeightedRandomSampler\n",
    "from sklearn.metrics import f1_score, recall_score, precision_score, ConfusionMatrixDisplay\n",
    "from sklearn.metrics import roc_curve, auc\n",
    "\n",
    "from typing import Callable, Iterable"
   ]
  },
  {
   "cell_type": "code",
   "execution_count": 288,
   "metadata": {},
   "outputs": [],
   "source": [
    "LEARNING_RATE = 0.004\n",
    "BATCH_SIZE = 64\n",
    "EPOCHS = 200\n",
    "NUM_CLASSES = 3"
   ]
  },
  {
   "cell_type": "code",
   "execution_count": 289,
   "metadata": {},
   "outputs": [],
   "source": [
    "TRAIN_SET_PATH = \"./vaccine_train_set.csv\"\n",
    "VALIDATION_SET_PATH = \"./vaccine_validation_set.csv\"\n",
    "EMBEDDINGS_PATH = './glove.6B.50d.txt'"
   ]
  },
  {
   "cell_type": "code",
   "execution_count": 290,
   "metadata": {},
   "outputs": [],
   "source": [
    "wordVectors: \"dict[str, np.ndarray]\" = {}\n",
    "lineElements: \"list[str]\" = []\n",
    "with open(EMBEDDINGS_PATH) as file:\n",
    "    for line in file:\n",
    "        lineElements = line.replace('\\n', '').split()\n",
    "        word = lineElements.pop(0)\n",
    "        wordVector = np.array([float(w) for w in lineElements])\n",
    "        wordVectors[word] = wordVector\n",
    "dimensions = len(lineElements)"
   ]
  },
  {
   "cell_type": "code",
   "execution_count": 291,
   "metadata": {},
   "outputs": [
    {
     "data": {
      "text/plain": [
       "Unnamed: 0    0\n",
       "tweet         0\n",
       "label         0\n",
       "dtype: int64"
      ]
     },
     "execution_count": 291,
     "metadata": {},
     "output_type": "execute_result"
    }
   ],
   "source": [
    "trainDF = pd.read_csv(TRAIN_SET_PATH)\n",
    "trainDF.isnull().sum()"
   ]
  },
  {
   "cell_type": "code",
   "execution_count": 292,
   "metadata": {},
   "outputs": [
    {
     "data": {
      "text/plain": [
       "Unnamed: 0    0\n",
       "tweet         0\n",
       "label         0\n",
       "dtype: int64"
      ]
     },
     "execution_count": 292,
     "metadata": {},
     "output_type": "execute_result"
    }
   ],
   "source": [
    "validDF = pd.read_csv(VALIDATION_SET_PATH)\n",
    "validDF.isnull().sum()"
   ]
  },
  {
   "cell_type": "code",
   "execution_count": 293,
   "metadata": {},
   "outputs": [],
   "source": [
    "features = trainDF.drop(['label', 'Unnamed: 0'], axis=1)\n",
    "X_train = np.array([ar[0] for ar in features.values])\n",
    "trainLabels = trainDF['label'].values\n",
    "\n",
    "features = validDF.drop(['label', 'Unnamed: 0'], axis=1)\n",
    "X_valid = np.array([ar[0] for ar in features.values])\n",
    "validLabels = validDF['label'].values"
   ]
  },
  {
   "cell_type": "code",
   "execution_count": 294,
   "metadata": {},
   "outputs": [],
   "source": [
    "def customPreprocessor(text: str):    \n",
    "    # remove url's\n",
    "    trimmedText = re.sub(r'https?://\\S+|www\\.\\S+|#', '', text).lower()\n",
    "\n",
    "    # remove @ mentions and numbers\n",
    "    res = list()\n",
    "    wait_whitespace = False\n",
    "    for c in trimmedText:\n",
    "        if wait_whitespace:\n",
    "            if c == \" \":\n",
    "                wait_whitespace = False\n",
    "            continue\n",
    "        elif re.match(\"[0-9]\", c) or c == \"@\":\n",
    "            wait_whitespace = True\n",
    "            continue            \n",
    "        res.append(c)\n",
    "    \n",
    "    return ''.join(res)"
   ]
  },
  {
   "cell_type": "code",
   "execution_count": 295,
   "metadata": {},
   "outputs": [],
   "source": [
    "tokenizer = TweetTokenizer()\n",
    "def vectorizeTweet(tweet: str, preprocessor: Callable[[str], str], wordVectors: \"dict[str, np.ndarray]\", dimensions: int) -> np.ndarray:\n",
    "    # words = preprocessor(tweet).split()\n",
    "    words = tokenizer.tokenize(preprocessor(tweet))\n",
    "    # words = tokenizer.tokenize(tweet)\n",
    "    vector: np.ndarray = np.zeros(dimensions)\n",
    "    for word in words:\n",
    "        wordVector = wordVectors.get(word)\n",
    "        if wordVector is not None:\n",
    "            vector += wordVector        \n",
    "    return vector / len(words)"
   ]
  },
  {
   "cell_type": "code",
   "execution_count": 296,
   "metadata": {},
   "outputs": [],
   "source": [
    "trainSet_X: np.ndarray = np.zeros(shape=(len(X_train), dimensions))\n",
    "for i, sample in enumerate(X_train):\n",
    "    trainSet_X[i] = vectorizeTweet(sample, customPreprocessor, wordVectors, dimensions)\n",
    "\n",
    "validSet_X: np.ndarray = np.zeros(shape=(len(X_valid), dimensions))\n",
    "for i, sample in enumerate(X_valid):\n",
    "    validSet_X[i] = vectorizeTweet(sample, customPreprocessor, wordVectors, dimensions)\n"
   ]
  },
  {
   "cell_type": "code",
   "execution_count": 297,
   "metadata": {},
   "outputs": [],
   "source": [
    "class Network(nn.Module):\n",
    "    def __init__(self, n_features: int, hidden_sizes: Iterable[int], n_classes: int) -> None:\n",
    "        super(Network, self).__init__()\n",
    "        \n",
    "        self.layers = nn.ModuleList()\n",
    "        n_in = n_features\n",
    "        for size in hidden_sizes:\n",
    "            self.layers.append(nn.Linear(n_in, size))\n",
    "            self.layers.append(nn.ReLU())\n",
    "            n_in = size\n",
    "        self.layers.append(nn.Linear(n_in, n_classes))\n",
    "    \n",
    "    def forward(self, input):\n",
    "        last_out = input\n",
    "        for layer in self.layers:\n",
    "            last_out = layer(last_out)\n",
    "        return last_out\n"
   ]
  },
  {
   "cell_type": "code",
   "execution_count": 298,
   "metadata": {},
   "outputs": [
    {
     "data": {
      "text/plain": [
       "ModuleList(\n",
       "  (0): Linear(in_features=50, out_features=64, bias=True)\n",
       "  (1): ReLU()\n",
       "  (2): Linear(in_features=64, out_features=32, bias=True)\n",
       "  (3): ReLU()\n",
       "  (4): Linear(in_features=32, out_features=16, bias=True)\n",
       "  (5): ReLU()\n",
       "  (6): Linear(in_features=16, out_features=3, bias=True)\n",
       ")"
      ]
     },
     "execution_count": 298,
     "metadata": {},
     "output_type": "execute_result"
    }
   ],
   "source": [
    "network = Network(dimensions, [64, 32, 16], NUM_CLASSES)\n",
    "network.layers"
   ]
  },
  {
   "cell_type": "code",
   "execution_count": 299,
   "metadata": {},
   "outputs": [],
   "source": [
    "def createClassWeights(sampleLabels, numClasses):\n",
    "    classCounts = [0 for _ in range(numClasses)]\n",
    "    for label in sampleLabels:\n",
    "        classCounts[label] += 1\n",
    "\n",
    "    weights = []\n",
    "    for count in classCounts:\n",
    "        weights.append(len(sampleLabels)/count)\n",
    "    \n",
    "    return weights"
   ]
  },
  {
   "cell_type": "code",
   "execution_count": 300,
   "metadata": {},
   "outputs": [],
   "source": [
    "def plotConfusionMatrix(trueLabels: Iterable[int], predictions:Iterable[int], title: str, displayLabels: Iterable[str]=None, axes: plt.Axes=None):\n",
    "    if axes is None:\n",
    "        _, axes = plt.subplots(1, 1, figsize=(6,5))\n",
    "    disp = ConfusionMatrixDisplay.from_predictions(trueLabels, predictions, cmap=plt.cm.Reds, ax=axes, colorbar=False)\n",
    "    if displayLabels is not None:\n",
    "        disp.ax_.set_xticklabels(displayLabels)\n",
    "        disp.ax_.set_yticklabels(displayLabels)\n",
    "    axes.set_xlabel('Classifier predicted labels', fontsize=11)\n",
    "    axes.set_ylabel('True labels', fontsize=11)\n",
    "    axes.set_title(title, fontsize=14)"
   ]
  },
  {
   "cell_type": "code",
   "execution_count": 301,
   "metadata": {},
   "outputs": [],
   "source": [
    "y = torch.tensor(trainLabels, dtype=torch.float)\n",
    "x = torch.tensor(trainSet_X, dtype=torch.float)\n",
    "\n",
    "dataset = TensorDataset(x, y)\n",
    "trainSetLoader = DataLoader(dataset, batch_size=BATCH_SIZE, shuffle=False)\n",
    "\n",
    "y = torch.tensor(validLabels, dtype=torch.float)\n",
    "x = torch.tensor(validSet_X, dtype=torch.float)\n",
    "\n",
    "weights = createClassWeights(trainLabels, NUM_CLASSES)\n",
    "sampler = WeightedRandomSampler(weights, len(trainLabels))\n",
    "dataset = TensorDataset(x, y)\n",
    "validSetLoader = DataLoader(dataset, batch_size=BATCH_SIZE, shuffle=False, sampler=None)\n",
    "\n",
    "lossFunction = nn.CrossEntropyLoss()\n",
    "optimizer = torch.optim.SGD(network.parameters(), lr=LEARNING_RATE)"
   ]
  },
  {
   "cell_type": "code",
   "execution_count": 302,
   "metadata": {},
   "outputs": [],
   "source": [
    "# device = \"cuda\" if torch.cuda.is_available() else \"cpu\"\n",
    "# network.to(device)"
   ]
  },
  {
   "cell_type": "code",
   "execution_count": 303,
   "metadata": {},
   "outputs": [],
   "source": [
    "def getPredictedLabels(predictions):\n",
    "    softmaxLayerOut = torch.log_softmax(predictions, dim = 1)\n",
    "    _, labels = torch.max(softmaxLayerOut, dim = 1)\n",
    "    return labels.detach().numpy()"
   ]
  },
  {
   "cell_type": "code",
   "execution_count": 304,
   "metadata": {},
   "outputs": [],
   "source": [
    "def calculateAccuracy(y_pred, y_true):\n",
    "    softmaxLayerOut = torch.log_softmax(y_pred, dim = 1)\n",
    "    _, predictions = torch.max(softmaxLayerOut, dim = 1)\n",
    "    #_, predictions = torch.max(y_pred, dim = 1)\n",
    "    \n",
    "    correct = 0\n",
    "    for pred, true in zip(predictions, y_true):\n",
    "        correct += int(pred == true)\n",
    "    \n",
    "    return correct/len(y_true)*100"
   ]
  },
  {
   "cell_type": "code",
   "execution_count": 305,
   "metadata": {},
   "outputs": [
    {
     "name": "stdout",
     "output_type": "stream",
     "text": [
      "Epoch 199 Train Acc = 66.10000 Valid Acc = 64.46100\n"
     ]
    }
   ],
   "source": [
    "# x = x.to(device)\n",
    "\n",
    "for epoch in range(EPOCHS):\n",
    "    network.train()\n",
    "    batchLosses = []\n",
    "    batchAccs = []\n",
    "\n",
    "    for batchSamples, batchLabels in trainSetLoader:\n",
    "        # batchSamples = batchSamples.to(device)\n",
    "        # batchLabels = batchLabels.to(device)\n",
    "        predictions = network(batchSamples)\n",
    "\n",
    "        batchLoss = lossFunction(predictions, batchLabels.long())\n",
    "        batchLosses.append(batchLoss.item())\n",
    "\n",
    "        batchAccs.append(calculateAccuracy(predictions, batchLabels))        \n",
    "\n",
    "        optimizer.zero_grad()\n",
    "\n",
    "        batchLoss.backward()\n",
    "\n",
    "        optimizer.step()\n",
    "    \n",
    "    network.eval()\n",
    "    pred = network(x)\n",
    "    acc = calculateAccuracy(pred, y)\n",
    "    \n",
    "    print(f\"Epoch {epoch:3} Train Acc = {sum(batchAccs)/len(batchAccs):.5f} Valid Acc = {acc:.5f}\\r\", end='')\n",
    "print()"
   ]
  },
  {
   "cell_type": "code",
   "execution_count": 306,
   "metadata": {},
   "outputs": [
    {
     "data": {
      "image/png": "[encoded data removed]",
      "text/plain": [
       "<Figure size 900x360 with 2 Axes>"
      ]
     },
     "metadata": {
      "needs_background": "light"
     },
     "output_type": "display_data"
    }
   ],
   "source": [
    "labels = ['Neutral', 'Anti-Vaccine', 'Pro-Vaccine']\n",
    "_, ax = plt.subplots(1, 2, figsize=(12.5,5))\n",
    "plotConfusionMatrix(y.int().detach().numpy(), getPredictedLabels(pred), 'Validation Set', labels, ax[0])\n",
    "x = torch.tensor(trainSet_X, dtype=torch.float)\n",
    "pred = network(x)\n",
    "plotConfusionMatrix(trainLabels, getPredictedLabels(pred), 'Train Set', labels, ax[1])"
   ]
  }
 ],
 "metadata": {
  "interpreter": {
   "hash": "916dbcbb3f70747c44a77c7bcd40155683ae19c65e1c03b4aa3499c5328201f1"
  },
  "kernelspec": {
   "display_name": "Python 3.8.10 64-bit",
   "language": "python",
   "name": "python3"
  },
  "language_info": {
   "codemirror_mode": {
    "name": "ipython",
    "version": 3
   },
   "file_extension": ".py",
   "mimetype": "text/x-python",
   "name": "python",
   "nbconvert_exporter": "python",
   "pygments_lexer": "ipython3",
   "version": "3.8.10"
  },
  "orig_nbformat": 4
 },
 "nbformat": 4,
 "nbformat_minor": 2
}
