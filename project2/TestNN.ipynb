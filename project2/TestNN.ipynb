{
 "cells": [
  {
   "cell_type": "code",
   "execution_count": 2,
   "metadata": {},
   "outputs": [],
   "source": [
    "import math\n",
    "import re\n",
    "\n",
    "from nltk.tokenize import TweetTokenizer, word_tokenize\n",
    "import matplotlib.pyplot as plt\n",
    "import numpy as np\n",
    "import pandas as pd\n",
    "import torch\n",
    "import torch.nn as nn\n",
    "from torch.utils.data import TensorDataset, DataLoader, WeightedRandomSampler\n",
    "from sklearn.metrics import f1_score, recall_score, precision_score, ConfusionMatrixDisplay\n",
    "from sklearn.metrics import roc_curve, auc, confusion_matrix, RocCurveDisplay\n",
    "\n",
    "from typing import Callable, Iterable, List, Dict, Tuple, Any\n",
    "from numbers import Number"
   ]
  },
  {
   "cell_type": "code",
   "execution_count": 3,
   "metadata": {},
   "outputs": [],
   "source": [
    "LEARNING_RATE = 0.0035\n",
    "BATCH_SIZE = 64\n",
    "EPOCHS = 200\n",
    "\n",
    "LAYER_SIZES = [64, 32, 16]\n",
    "USE_RELU = True\n",
    "USE_DROPOUT = False\n",
    "\n",
    "NUM_CLASSES = 3\n",
    "TRY_GPU = False"
   ]
  },
  {
   "cell_type": "code",
   "execution_count": 4,
   "metadata": {},
   "outputs": [],
   "source": [
    "TRAIN_SET_PATH = \"./vaccine_train_set.csv\"\n",
    "VALIDATION_SET_PATH = \"./vaccine_validation_set.csv\"\n",
    "EMBEDDINGS_PATH = '/mnt/c/Users/pavlo/Downloads/glove.6B.200d.txt'"
   ]
  },
  {
   "cell_type": "code",
   "execution_count": 5,
   "metadata": {},
   "outputs": [],
   "source": [
    "wordVectors: Dict[str, np.ndarray] = {}\n",
    "lineElements: List[str] = []\n",
    "with open(EMBEDDINGS_PATH) as file:\n",
    "    for line in file:\n",
    "        lineElements = line.replace('\\n', '').split()\n",
    "        word = lineElements.pop(0)\n",
    "        wordVector = np.array([float(w) for w in lineElements])\n",
    "        wordVectors[word] = wordVector\n",
    "dimensions = len(lineElements)"
   ]
  },
  {
   "cell_type": "code",
   "execution_count": 6,
   "metadata": {},
   "outputs": [
    {
     "data": {
      "text/plain": [
       "Unnamed: 0    0\n",
       "tweet         0\n",
       "label         0\n",
       "dtype: int64"
      ]
     },
     "execution_count": 6,
     "metadata": {},
     "output_type": "execute_result"
    }
   ],
   "source": [
    "trainDF = pd.read_csv(TRAIN_SET_PATH)\n",
    "trainDF.isnull().sum()"
   ]
  },
  {
   "cell_type": "code",
   "execution_count": 7,
   "metadata": {},
   "outputs": [
    {
     "data": {
      "text/plain": [
       "Unnamed: 0    0\n",
       "tweet         0\n",
       "label         0\n",
       "dtype: int64"
      ]
     },
     "execution_count": 7,
     "metadata": {},
     "output_type": "execute_result"
    }
   ],
   "source": [
    "validDF = pd.read_csv(VALIDATION_SET_PATH)\n",
    "validDF.isnull().sum()"
   ]
  },
  {
   "cell_type": "code",
   "execution_count": 8,
   "metadata": {},
   "outputs": [],
   "source": [
    "features = trainDF.drop(['label', 'Unnamed: 0'], axis=1)\n",
    "X_train = np.array([ar[0] for ar in features.values])\n",
    "trainLabels = trainDF['label'].values\n",
    "\n",
    "features = validDF.drop(['label', 'Unnamed: 0'], axis=1)\n",
    "X_valid = np.array([ar[0] for ar in features.values])\n",
    "validLabels = validDF['label'].values"
   ]
  },
  {
   "cell_type": "code",
   "execution_count": 9,
   "metadata": {},
   "outputs": [],
   "source": [
    "def customPreprocessor(text: str):    \n",
    "    # remove url's\n",
    "    trimmedText = re.sub(r'https?://\\S+|www\\.\\S+|#', '', text).lower()\n",
    "\n",
    "    # remove @ mentions and numbers\n",
    "    res = list()\n",
    "    wait_whitespace = False\n",
    "    for c in trimmedText:\n",
    "        if wait_whitespace:\n",
    "            if c == \" \":\n",
    "                wait_whitespace = False\n",
    "            continue\n",
    "        elif re.match(\"[0-9]\", c) or c == \"@\":\n",
    "            wait_whitespace = True\n",
    "            continue            \n",
    "        res.append(c)\n",
    "    \n",
    "    return ''.join(res)"
   ]
  },
  {
   "cell_type": "code",
   "execution_count": 10,
   "metadata": {},
   "outputs": [],
   "source": [
    "tokenizer = TweetTokenizer()\n",
    "def vectorizeTweet(tweet: str, preprocessor: Callable[[str], str], wordVectors: Dict[str, np.ndarray], dimensions: int) -> np.ndarray:\n",
    "    # words = preprocessor(tweet).split()\n",
    "    words = tokenizer.tokenize(preprocessor(tweet))\n",
    "    # words = tokenizer.tokenize(tweet)\n",
    "    vector: np.ndarray = np.zeros(dimensions)\n",
    "    for word in words:\n",
    "        wordVector = wordVectors.get(word)\n",
    "        if wordVector is not None:\n",
    "            vector += wordVector        \n",
    "    return vector / len(words)\n",
    "\n",
    "def vectorizeDataSet(dataSet: Iterable[str], dimensions: int):\n",
    "    matrix: np.ndarray = np.zeros(shape=(len(dataSet), dimensions))\n",
    "    for i, sample in enumerate(dataSet):\n",
    "        matrix[i] = vectorizeTweet(sample, customPreprocessor, wordVectors, dimensions)\n",
    "    \n",
    "    return matrix"
   ]
  },
  {
   "cell_type": "code",
   "execution_count": 11,
   "metadata": {},
   "outputs": [],
   "source": [
    "trainSet_X: np.ndarray = vectorizeDataSet(X_train, dimensions)\n",
    "validSet_X: np.ndarray = vectorizeDataSet(X_valid, dimensions)"
   ]
  },
  {
   "cell_type": "code",
   "execution_count": 12,
   "metadata": {},
   "outputs": [],
   "source": [
    "class Network(nn.Module):\n",
    "    def __init__(self, n_features: int, hidden_sizes: Iterable[int], n_classes: int) -> None:\n",
    "        super(Network, self).__init__()\n",
    "        \n",
    "        self.layers = nn.ModuleList()\n",
    "        n_in = n_features\n",
    "        for size in hidden_sizes:\n",
    "            self.layers.append(nn.Linear(n_in, size))\n",
    "            n_in = size\n",
    "        self.layerOut = nn.Linear(n_in, n_classes)\n",
    "        self.relu = nn.ReLU()\n",
    "        self.dropout = nn.Dropout()\n",
    "    \n",
    "    def forward(self, input):\n",
    "        last_out = input\n",
    "        for layer in self.layers:\n",
    "            last_out = layer(last_out)\n",
    "            if USE_RELU:\n",
    "                last_out = self.relu(last_out)\n",
    "            if USE_DROPOUT:\n",
    "                last_out = self.dropout(last_out)\n",
    "        \n",
    "        return self.layerOut(last_out)\n"
   ]
  },
  {
   "cell_type": "code",
   "execution_count": 13,
   "metadata": {},
   "outputs": [
    {
     "data": {
      "text/plain": [
       "ModuleList(\n",
       "  (0): Linear(in_features=200, out_features=64, bias=True)\n",
       "  (1): Linear(in_features=64, out_features=32, bias=True)\n",
       "  (2): Linear(in_features=32, out_features=16, bias=True)\n",
       ")"
      ]
     },
     "execution_count": 13,
     "metadata": {},
     "output_type": "execute_result"
    }
   ],
   "source": [
    "network = Network(dimensions, LAYER_SIZES, NUM_CLASSES)\n",
    "network.layers"
   ]
  },
  {
   "cell_type": "code",
   "execution_count": 14,
   "metadata": {},
   "outputs": [],
   "source": [
    "def createClassWeights(sampleLabels, numClasses):\n",
    "    classCounts = [0 for _ in range(numClasses)]\n",
    "    for label in sampleLabels:\n",
    "        classCounts[label] += 1\n",
    "\n",
    "    weights = []\n",
    "    for count in classCounts:\n",
    "        rate = len(sampleLabels)/count\n",
    "        weights.append(rate*rate)\n",
    "    \n",
    "    return weights"
   ]
  },
  {
   "cell_type": "code",
   "execution_count": 15,
   "metadata": {},
   "outputs": [],
   "source": [
    "def plotConfusionMatrix(trueLabels: Iterable[int], predictions:Iterable[int], title: str, displayLabels: Iterable[str]=None, axes: plt.Axes=None):\n",
    "    if axes is None:\n",
    "        _, axes = plt.subplots(1, 1, figsize=(6,5))\n",
    "    disp = ConfusionMatrixDisplay.from_predictions(trueLabels, predictions, cmap=plt.cm.Reds, ax=axes, colorbar=False)\n",
    "    if displayLabels is not None:\n",
    "        disp.ax_.set_xticklabels(displayLabels)\n",
    "        disp.ax_.set_yticklabels(displayLabels)\n",
    "    axes.set_xlabel('Classifier predicted labels', fontsize=11)\n",
    "    axes.set_ylabel('True labels', fontsize=11)\n",
    "    axes.set_title(title, fontsize=14)"
   ]
  },
  {
   "cell_type": "code",
   "execution_count": 16,
   "metadata": {},
   "outputs": [],
   "source": [
    "y = torch.tensor(trainLabels, dtype=torch.float)\n",
    "x = torch.tensor(trainSet_X, dtype=torch.float)\n",
    "\n",
    "dataset = TensorDataset(x, y)\n",
    "trainSetLoader = DataLoader(dataset, batch_size=BATCH_SIZE, shuffle=False)\n",
    "\n",
    "Y_validTensor = torch.tensor(validLabels, dtype=torch.float)\n",
    "X_validTensor = torch.tensor(validSet_X, dtype=torch.float)\n",
    "\n",
    "weights = createClassWeights(trainLabels, NUM_CLASSES)\n",
    "sampler = WeightedRandomSampler(weights, len(trainLabels))\n",
    "dataset = TensorDataset(X_validTensor, Y_validTensor)\n",
    "validSetLoader = DataLoader(dataset, batch_size=BATCH_SIZE)\n",
    "\n",
    "lossFunction = nn.CrossEntropyLoss()\n",
    "optimizer = torch.optim.SGD(network.parameters(), lr=LEARNING_RATE)"
   ]
  },
  {
   "cell_type": "code",
   "execution_count": 17,
   "metadata": {},
   "outputs": [],
   "source": [
    "if TRY_GPU:\n",
    "    device = \"cuda\" if torch.cuda.is_available() else \"cpu\"\n",
    "    network.to(device)"
   ]
  },
  {
   "cell_type": "code",
   "execution_count": 18,
   "metadata": {},
   "outputs": [],
   "source": [
    "def getPredictedLabels(predictions: torch.Tensor) -> np.ndarray:\n",
    "    softmaxLayerOut = torch.log_softmax(predictions, dim = 1)\n",
    "    _, labels = torch.max(softmaxLayerOut, dim = 1)\n",
    "    return labels.detach().numpy()"
   ]
  },
  {
   "cell_type": "code",
   "execution_count": 19,
   "metadata": {},
   "outputs": [],
   "source": [
    "def calculateAccuracy(predictedLabels: Iterable[Number], trueLabels: Iterable[Number]) -> float:    \n",
    "    correct = 0\n",
    "    for pred, true in zip(predictedLabels, trueLabels):\n",
    "        correct += int(pred == true)\n",
    "    \n",
    "    return correct/len(trueLabels)*100"
   ]
  },
  {
   "cell_type": "code",
   "execution_count": 20,
   "metadata": {},
   "outputs": [
    {
     "name": "stdout",
     "output_type": "stream",
     "text": [
      "Epoch   0 Train Acc = 40.34125 Valid Acc = 40.35933\n"
     ]
    }
   ],
   "source": [
    "validPredictions: np.ndarray = np.empty(EPOCHS, dtype=np.ndarray)\n",
    "validErrors: List[Number] = []\n",
    "trainErrors: List[Number] = []\n",
    "for epoch in range(EPOCHS):\n",
    "    network.train()\n",
    "    batchLosses = []\n",
    "    batchAccs = []\n",
    "\n",
    "    for batchSamples, batchLabels in trainSetLoader:\n",
    "\n",
    "        if TRY_GPU:\n",
    "            batchSamples = batchSamples.to(device)\n",
    "            batchLabels = batchLabels.to(device)\n",
    "        \n",
    "        predictions = network(batchSamples)\n",
    "\n",
    "        batchLoss = lossFunction(predictions, batchLabels.long())\n",
    "        batchLosses.append(batchLoss.item())\n",
    "\n",
    "        batchAccs.append(calculateAccuracy(getPredictedLabels(predictions), batchLabels))        \n",
    "\n",
    "        optimizer.zero_grad()\n",
    "\n",
    "        batchLoss.backward()\n",
    "\n",
    "        optimizer.step()\n",
    "    \n",
    "    trainErrors.append(sum(batchLosses)/len(batchLosses))\n",
    "    \n",
    "    network.eval()\n",
    "    with torch.no_grad():\n",
    "        validOutput = network(X_validTensor)\n",
    "\n",
    "        validLoss = lossFunction(validOutput, Y_validTensor.long())\n",
    "        validErrors.append(validLoss.item())\n",
    "        \n",
    "        validEpochPredictions = getPredictedLabels(validOutput)\n",
    "        validPredictions[epoch] = validEpochPredictions\n",
    "        acc = calculateAccuracy(validEpochPredictions, validLabels)\n",
    "    \n",
    "    print(f\"Epoch {epoch:3} Train Acc = {sum(batchAccs)/len(batchAccs):.5f} Valid Acc = {acc:.5f}\\r\", end='')\n",
    "print()"
   ]
  },
  {
   "cell_type": "code",
   "execution_count": 21,
   "metadata": {},
   "outputs": [
    {
     "data": {
      "image/png": "[encoded data removed]",
      "text/plain": [
       "<Figure size 900x360 with 2 Axes>"
      ]
     },
     "metadata": {
      "needs_background": "light"
     },
     "output_type": "display_data"
    }
   ],
   "source": [
    "labels = ['Neutral', 'Anti-Vaccine', 'Pro-Vaccine']\n",
    "_, ax = plt.subplots(1, 2, figsize=(12.5,5))\n",
    "plotConfusionMatrix(Y_validTensor.int().detach().numpy(), validPredictions[-1], 'Validation Set', labels, ax[0])\n",
    "x = torch.tensor(trainSet_X, dtype=torch.float)\n",
    "pred = network(x)\n",
    "plotConfusionMatrix(trainLabels, getPredictedLabels(pred), 'Train Set', labels, ax[1])"
   ]
  },
  {
   "cell_type": "code",
   "execution_count": 22,
   "metadata": {},
   "outputs": [],
   "source": [
    "def calculateROCScores(trueLabels: Iterable[Number], predictedLabels: Iterable[Number], numClasses: int) -> Dict[int, Tuple[Number, Number]]:\n",
    "    scores: Dict[int, Tuple[Number, Number]] = {}\n",
    "    confMatrix = confusion_matrix(trueLabels, predictedLabels)\n",
    "    for c in range(numClasses):\n",
    "        tn = 0\n",
    "        fp = 0\n",
    "        fn = 0\n",
    "        for i in range(len(confMatrix)):\n",
    "            if c == i:\n",
    "                for j in range(len(confMatrix[i])):\n",
    "                    if i == j:\n",
    "                        tp = confMatrix[i][j]\n",
    "                    else:\n",
    "                        fn += confMatrix[i][j]\n",
    "            else:\n",
    "                for j in range(len(confMatrix[i])):\n",
    "                    if j == c:\n",
    "                        fp += confMatrix[i][j]\n",
    "                    else:\n",
    "                        tn += confMatrix[i][j]\n",
    "        fpRate = 0\n",
    "        tpRate = 0\n",
    "        if fp + tn > 0:\n",
    "            fpRate = fp/(fp + tn)\n",
    "        if tp + fn > 0:\n",
    "            tpRate = tp/(tp + fn)\n",
    "        scores[c] = (tpRate, fpRate)\n",
    "    \n",
    "    return scores"
   ]
  },
  {
   "cell_type": "code",
   "execution_count": 23,
   "metadata": {},
   "outputs": [
    {
     "data": {
      "image/png": "[encoded data removed]",
      "text/plain": [
       "<Figure size 720x720 with 1 Axes>"
      ]
     },
     "metadata": {
      "needs_background": "light"
     },
     "output_type": "display_data"
    }
   ],
   "source": [
    "def plotROCCurves(y_true: Iterable[Number], predictions: Iterable[Iterable[Number]], classNames: Iterable[str], axes: plt.Axes = None):\n",
    "\n",
    "    def plotClassROC(axes: plt.Axes, className: str, rates: List[Tuple[Number, Number]]):        \n",
    "        axes.plot([rate[1] for rate in rates], [rate[0] for rate in rates], label=className)\n",
    "\n",
    "    if axes is None:\n",
    "        _, axes = plt.subplots(1, 1, figsize=(10,10))\n",
    "    \n",
    "    axes.grid()\n",
    "    axes.set_title(\"ROC Curve\", fontsize=14)\n",
    "    axes.set_xlabel('False Positives', fontsize=12)\n",
    "    axes.set_ylabel('True Positives', fontsize=12)\n",
    "    axes.plot([0., 1.], [0, 1.], color='k', linestyle=\"dashed\", label=\"Random Classifier\")\n",
    "    \n",
    "    rocScores: List[Dict[int, Tuple[Number, Number]]] = []\n",
    "    for epochPredictions in predictions:\n",
    "        rocScores.append(calculateROCScores(y_true, epochPredictions, len(classNames)))\n",
    "    \n",
    "    for index, name in enumerate(classNames):\n",
    "        plotClassROC(axes, name, [rates[index] for rates in rocScores])\n",
    "    \n",
    "    axes.legend(loc=\"lower right\")\n",
    "    plt.show()\n",
    "\n",
    "# preds = validPredictions[np.round(np.linspace(0, len(validPredictions) - 1, 25)).astype(int)]\n",
    "plotROCCurves(validLabels, validPredictions, ['Neutral', 'Anti-Vaccine', 'Pro-Vaccine'])\n",
    "        "
   ]
  },
  {
   "cell_type": "code",
   "execution_count": 24,
   "metadata": {},
   "outputs": [
    {
     "data": {
      "image/png": "[encoded data removed]",
      "text/plain": [
       "<Figure size 432x360 with 1 Axes>"
      ]
     },
     "metadata": {
      "needs_background": "light"
     },
     "output_type": "display_data"
    }
   ],
   "source": [
    "def plotLossCurves(trainLosses: Iterable[Number], validationLosses: Iterable[Number], axes: plt.Axes = None):\n",
    "\n",
    "    if axes is None:\n",
    "        _, axes = plt.subplots(1, 1, figsize=(6,5))\n",
    "    \n",
    "    axes.grid()\n",
    "    axes.set_title(\"Loss Curves\", fontsize=14)\n",
    "    axes.set_xlabel('Epochs', fontsize=12)\n",
    "    axes.set_ylabel('Loss', fontsize=12)\n",
    "    \n",
    "    epochs = [i for i in range(len(validationLosses))]\n",
    "\n",
    "    axes.plot(epochs, trainLosses, label='Train Set')\n",
    "    axes.plot(epochs, validationLosses, label='Validation Set')\n",
    "\n",
    "    axes.legend(loc=\"best\")\n",
    "    plt.show()\n",
    "\n",
    "# preds = validPredictions[np.round(np.linspace(0, len(validPredictions) - 1, 25)).astype(int)]\n",
    "plotLossCurves(trainErrors, validErrors)"
   ]
  },
  {
   "cell_type": "code",
   "execution_count": 25,
   "metadata": {},
   "outputs": [],
   "source": [
    "labels = np.zeros((len(validLabels), NUM_CLASSES), dtype=int)\n",
    "for index, label in enumerate(validLabels):\n",
    "    labels[index][label] = 1\n",
    "\n",
    "scores = np.zeros((len(validLabels), NUM_CLASSES), dtype=int)\n",
    "for index, pred in enumerate(getPredictedLabels(validOutput)):\n",
    "    scores[index][pred] = 1\n",
    "fpr = dict()\n",
    "tpr = dict()\n",
    "roc_auc = dict()\n",
    "for i in range(NUM_CLASSES):\n",
    "    fpr[i], tpr[i], _ = roc_curve(labels[:, i], scores[:, i], drop_intermediate=True)\n",
    "    roc_auc[i] = auc(fpr[i], tpr[i])\n",
    "\n",
    "# Compute micro-average ROC curve and ROC area\n",
    "fpr[\"micro\"], tpr[\"micro\"], _ = roc_curve(labels.ravel(), scores.ravel())\n",
    "roc_auc[\"micro\"] = auc(fpr[\"micro\"], tpr[\"micro\"])"
   ]
  },
  {
   "cell_type": "code",
   "execution_count": null,
   "metadata": {},
   "outputs": [],
   "source": []
  },
  {
   "cell_type": "code",
   "execution_count": 26,
   "metadata": {},
   "outputs": [
    {
     "data": {
      "image/png": "[encoded data removed]",
      "text/plain": [
       "<Figure size 432x288 with 1 Axes>"
      ]
     },
     "metadata": {
      "needs_background": "light"
     },
     "output_type": "display_data"
    }
   ],
   "source": [
    "from itertools import cycle\n",
    "\n",
    "# First aggregate all false positive rates\n",
    "all_fpr = np.unique(np.concatenate([fpr[i] for i in range(NUM_CLASSES)]))\n",
    "\n",
    "# Then interpolate all ROC curves at this points\n",
    "mean_tpr = np.zeros_like(all_fpr)\n",
    "for i in range(NUM_CLASSES):\n",
    "    mean_tpr += np.interp(all_fpr, fpr[i], tpr[i])\n",
    "\n",
    "# Finally average it and compute AUC\n",
    "mean_tpr /= NUM_CLASSES\n",
    "\n",
    "fpr[\"macro\"] = all_fpr\n",
    "tpr[\"macro\"] = mean_tpr\n",
    "roc_auc[\"macro\"] = auc(fpr[\"macro\"], tpr[\"macro\"])\n",
    "\n",
    "# Plot all ROC curves\n",
    "# plt.figure()\n",
    "# plt.plot(\n",
    "#     fpr[\"micro\"],\n",
    "#     tpr[\"micro\"],\n",
    "#     label=\"micro-average ROC curve (area = {0:0.2f})\".format(roc_auc[\"micro\"]),\n",
    "#     color=\"deeppink\",\n",
    "#     linestyle=\":\",\n",
    "#     linewidth=4,\n",
    "# )\n",
    "\n",
    "# plt.plot(\n",
    "#     fpr[\"macro\"],\n",
    "#     tpr[\"macro\"],\n",
    "#     label=\"macro-average ROC curve (area = {0:0.2f})\".format(roc_auc[\"macro\"]),\n",
    "#     color=\"navy\",\n",
    "#     linestyle=\":\",\n",
    "#     linewidth=4,\n",
    "# )\n",
    "\n",
    "colors = cycle([\"aqua\", \"darkorange\", \"cornflowerblue\"])\n",
    "for i, color in zip(range(NUM_CLASSES), colors):\n",
    "    plt.plot(\n",
    "        fpr[i],\n",
    "        tpr[i],\n",
    "        color=color,\n",
    "        label=\"ROC curve of class {0} (area = {1:0.2f})\".format(i, roc_auc[i]),\n",
    "    )\n",
    "\n",
    "plt.plot([0, 1], [0, 1], \"k--\")\n",
    "plt.xlim([0.0, 1.0])\n",
    "plt.ylim([0.0, 1.05])\n",
    "plt.xlabel(\"False Positive Rate\")\n",
    "plt.ylabel(\"True Positive Rate\")\n",
    "plt.title(\"ROC Curves\")\n",
    "plt.legend(loc=\"lower right\")\n",
    "plt.show()"
   ]
  }
 ],
 "metadata": {
  "interpreter": {
   "hash": "916dbcbb3f70747c44a77c7bcd40155683ae19c65e1c03b4aa3499c5328201f1"
  },
  "kernelspec": {
   "display_name": "Python 3.8.10 64-bit",
   "language": "python",
   "name": "python3"
  },
  "language_info": {
   "codemirror_mode": {
    "name": "ipython",
    "version": 3
   },
   "file_extension": ".py",
   "mimetype": "text/x-python",
   "name": "python",
   "nbconvert_exporter": "python",
   "pygments_lexer": "ipython3",
   "version": "3.8.10"
  },
  "orig_nbformat": 4
 },
 "nbformat": 4,
 "nbformat_minor": 2
}
