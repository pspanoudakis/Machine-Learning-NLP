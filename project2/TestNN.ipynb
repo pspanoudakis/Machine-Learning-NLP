{
 "cells": [
  {
   "cell_type": "markdown",
   "metadata": {},
   "source": [
    "## Vaccine sentiment classification using Feed-Forward Neural Network\n",
    "Pavlos Spanoudakis (sdi1800184)"
   ]
  },
  {
   "cell_type": "markdown",
   "metadata": {},
   "source": [
    "### Setting up Data set & Word Embeddings paths"
   ]
  },
  {
   "cell_type": "code",
   "execution_count": 1,
   "metadata": {},
   "outputs": [],
   "source": [
    "TRAIN_SET_PATH = \"./vaccine_train_set.csv\"\n",
    "VALIDATION_SET_PATH = \"./vaccine_validation_set.csv\"\n",
    "EMBEDDINGS_PATH = '/mnt/c/Users/pavlo/Downloads/glove.6B.200d.txt'"
   ]
  },
  {
   "cell_type": "markdown",
   "metadata": {},
   "source": [
    "### Setting-up Class-Related information"
   ]
  },
  {
   "cell_type": "code",
   "execution_count": 2,
   "metadata": {},
   "outputs": [],
   "source": [
    "NUM_CLASSES = 3\n",
    "CLASS_NAMES = ['Neutral', 'Anti-Vaccine', 'Pro-Vaccine']"
   ]
  },
  {
   "cell_type": "markdown",
   "metadata": {},
   "source": [
    "### Necessary Imports"
   ]
  },
  {
   "cell_type": "code",
   "execution_count": 3,
   "metadata": {},
   "outputs": [],
   "source": [
    "from typing import Callable, Iterable, List, Dict, Tuple\n",
    "from numbers import Number\n",
    "\n",
    "import random\n",
    "import re\n",
    "from nltk.tokenize import TweetTokenizer\n",
    "\n",
    "import numpy as np\n",
    "import pandas as pd\n",
    "import torch\n",
    "import torch.nn as nn\n",
    "from torch.utils.data import TensorDataset, DataLoader, WeightedRandomSampler\n",
    "\n",
    "from sklearn.metrics import f1_score, recall_score, precision_score, ConfusionMatrixDisplay\n",
    "from sklearn.metrics import roc_curve, auc, confusion_matrix\n",
    "import matplotlib.pyplot as plt"
   ]
  },
  {
   "cell_type": "markdown",
   "metadata": {},
   "source": [
    "### Setting custom seeds in pseudo-random generators for reproducability"
   ]
  },
  {
   "cell_type": "code",
   "execution_count": 4,
   "metadata": {},
   "outputs": [
    {
     "data": {
      "text/plain": [
       "<torch._C.Generator at 0x7fe862dcfe70>"
      ]
     },
     "execution_count": 4,
     "metadata": {},
     "output_type": "execute_result"
    }
   ],
   "source": [
    "SEED = 32\n",
    "random.seed(SEED)\n",
    "np.random.seed(SEED)\n",
    "torch.manual_seed(SEED)"
   ]
  },
  {
   "cell_type": "code",
   "execution_count": 5,
   "metadata": {},
   "outputs": [],
   "source": [
    "LEARNING_RATE = 0.004\n",
    "BATCH_SIZE = 64\n",
    "EPOCHS = 175\n",
    "\n",
    "LAYER_SIZES = [64, 32, 16]\n",
    "USE_RELU = True\n",
    "USE_DROPOUT = False"
   ]
  },
  {
   "cell_type": "code",
   "execution_count": 6,
   "metadata": {},
   "outputs": [],
   "source": [
    "wordVectors: Dict[str, np.ndarray] = {}\n",
    "lineElements: List[str] = []\n",
    "with open(EMBEDDINGS_PATH) as file:\n",
    "    for line in file:\n",
    "        lineElements = line.replace('\\n', '').split()\n",
    "        word = lineElements.pop(0)\n",
    "        wordVector = np.array([float(w) for w in lineElements])\n",
    "        wordVectors[word] = wordVector\n",
    "dimensions = len(lineElements)"
   ]
  },
  {
   "cell_type": "code",
   "execution_count": 7,
   "metadata": {},
   "outputs": [
    {
     "data": {
      "text/plain": [
       "Unnamed: 0    0\n",
       "tweet         0\n",
       "label         0\n",
       "dtype: int64"
      ]
     },
     "execution_count": 7,
     "metadata": {},
     "output_type": "execute_result"
    }
   ],
   "source": [
    "trainDF = pd.read_csv(TRAIN_SET_PATH)\n",
    "trainDF.isnull().sum()"
   ]
  },
  {
   "cell_type": "code",
   "execution_count": 8,
   "metadata": {},
   "outputs": [
    {
     "data": {
      "text/plain": [
       "Unnamed: 0    0\n",
       "tweet         0\n",
       "label         0\n",
       "dtype: int64"
      ]
     },
     "execution_count": 8,
     "metadata": {},
     "output_type": "execute_result"
    }
   ],
   "source": [
    "validDF = pd.read_csv(VALIDATION_SET_PATH)\n",
    "validDF.isnull().sum()"
   ]
  },
  {
   "cell_type": "code",
   "execution_count": 9,
   "metadata": {},
   "outputs": [],
   "source": [
    "features = trainDF.drop(['label', 'Unnamed: 0'], axis=1)\n",
    "X_train = np.array([ar[0] for ar in features.values])\n",
    "trainLabels = trainDF['label'].values\n",
    "\n",
    "features = validDF.drop(['label', 'Unnamed: 0'], axis=1)\n",
    "X_valid = np.array([ar[0] for ar in features.values])\n",
    "validLabels = validDF['label'].values"
   ]
  },
  {
   "cell_type": "code",
   "execution_count": 10,
   "metadata": {},
   "outputs": [],
   "source": [
    "def customPreprocessor(text: str):    \n",
    "    # remove url's\n",
    "    trimmedText = re.sub(r'https?://\\S+|www\\.\\S+|#', '', text).lower()\n",
    "\n",
    "    # remove @ mentions and numbers\n",
    "    res = list()\n",
    "    wait_whitespace = False\n",
    "    for c in trimmedText:\n",
    "        if wait_whitespace:\n",
    "            if c == \" \":\n",
    "                wait_whitespace = False\n",
    "            continue\n",
    "        elif re.match(\"[0-9]\", c) or c == \"@\":\n",
    "            wait_whitespace = True\n",
    "            continue            \n",
    "        res.append(c)\n",
    "    \n",
    "    return ''.join(res)"
   ]
  },
  {
   "cell_type": "code",
   "execution_count": 11,
   "metadata": {},
   "outputs": [],
   "source": [
    "tokenizer = TweetTokenizer()\n",
    "def vectorizeTweet(tweet: str, preprocessor: Callable[[str], str], wordVectors: Dict[str, np.ndarray], dimensions: int) -> np.ndarray:\n",
    "    # words = preprocessor(tweet).split()\n",
    "    words = tokenizer.tokenize(preprocessor(tweet))\n",
    "    # words = tokenizer.tokenize(tweet)\n",
    "    vector: np.ndarray = np.zeros(dimensions)\n",
    "    for word in words:\n",
    "        wordVector = wordVectors.get(word)\n",
    "        if wordVector is not None:\n",
    "            vector += wordVector        \n",
    "    return vector / len(words)\n",
    "\n",
    "def vectorizeDataSet(dataSet: Iterable[str], dimensions: int):\n",
    "    matrix: np.ndarray = np.zeros(shape=(len(dataSet), dimensions))\n",
    "    for i, sample in enumerate(dataSet):\n",
    "        matrix[i] = vectorizeTweet(sample, customPreprocessor, wordVectors, dimensions)\n",
    "    \n",
    "    return matrix"
   ]
  },
  {
   "cell_type": "code",
   "execution_count": 12,
   "metadata": {},
   "outputs": [],
   "source": [
    "trainSet_X: np.ndarray = vectorizeDataSet(X_train, dimensions)\n",
    "validSet_X: np.ndarray = vectorizeDataSet(X_valid, dimensions)"
   ]
  },
  {
   "cell_type": "code",
   "execution_count": 13,
   "metadata": {},
   "outputs": [],
   "source": [
    "class Network(nn.Module):\n",
    "    def __init__(self, n_features: int, hidden_sizes: Iterable[int], n_classes: int) -> None:\n",
    "        super(Network, self).__init__()\n",
    "        \n",
    "        self.layers = nn.ModuleList()\n",
    "        n_in = n_features\n",
    "        for size in hidden_sizes:\n",
    "            self.layers.append(nn.Linear(n_in, size))\n",
    "            n_in = size\n",
    "        self.layerOut = nn.Linear(n_in, n_classes)\n",
    "        self.relu = nn.ReLU()\n",
    "        self.dropout = nn.Dropout()\n",
    "    \n",
    "    def forward(self, input):\n",
    "        last_out = input\n",
    "        for layer in self.layers:\n",
    "            last_out = layer(last_out)\n",
    "            if USE_RELU:\n",
    "                last_out = self.relu(last_out)\n",
    "            if USE_DROPOUT:\n",
    "                last_out = self.dropout(last_out)\n",
    "        \n",
    "        return self.layerOut(last_out)\n"
   ]
  },
  {
   "cell_type": "code",
   "execution_count": 14,
   "metadata": {},
   "outputs": [
    {
     "data": {
      "text/plain": [
       "ModuleList(\n",
       "  (0): Linear(in_features=200, out_features=64, bias=True)\n",
       "  (1): Linear(in_features=64, out_features=32, bias=True)\n",
       "  (2): Linear(in_features=32, out_features=16, bias=True)\n",
       ")"
      ]
     },
     "execution_count": 14,
     "metadata": {},
     "output_type": "execute_result"
    }
   ],
   "source": [
    "network = Network(dimensions, LAYER_SIZES, NUM_CLASSES)\n",
    "network.layers"
   ]
  },
  {
   "cell_type": "code",
   "execution_count": 15,
   "metadata": {},
   "outputs": [],
   "source": [
    "def createClassWeights(sampleLabels, numClasses):\n",
    "    classCounts = [0 for _ in range(numClasses)]\n",
    "    for label in sampleLabels:\n",
    "        classCounts[label] += 1\n",
    "\n",
    "    weights = []\n",
    "    for count in classCounts:\n",
    "        rate = len(sampleLabels)/count\n",
    "        weights.append(rate*rate)\n",
    "    \n",
    "    return weights"
   ]
  },
  {
   "cell_type": "code",
   "execution_count": 16,
   "metadata": {},
   "outputs": [],
   "source": [
    "def plotConfusionMatrix(trueLabels: Iterable[int], predictions:Iterable[int], title: str, displayLabels: Iterable[str]=None, axes: plt.Axes=None):\n",
    "    if axes is None:\n",
    "        _, axes = plt.subplots(1, 1, figsize=(6,5))\n",
    "    disp = ConfusionMatrixDisplay.from_predictions(trueLabels, predictions, cmap=plt.cm.Reds, ax=axes, colorbar=False)\n",
    "    if displayLabels is not None:\n",
    "        disp.ax_.set_xticklabels(displayLabels)\n",
    "        disp.ax_.set_yticklabels(displayLabels)\n",
    "    axes.set_xlabel('Classifier predicted labels', fontsize=11)\n",
    "    axes.set_ylabel('True labels', fontsize=11)\n",
    "    axes.set_title(title, fontsize=14)"
   ]
  },
  {
   "cell_type": "code",
   "execution_count": 17,
   "metadata": {},
   "outputs": [],
   "source": [
    "y = torch.tensor(trainLabels, dtype=torch.float)\n",
    "x = torch.tensor(trainSet_X, dtype=torch.float)\n",
    "\n",
    "dataset = TensorDataset(x, y)\n",
    "trainSetLoader = DataLoader(dataset, batch_size=BATCH_SIZE, shuffle=False)\n",
    "\n",
    "Y_validTensor = torch.tensor(validLabels, dtype=torch.float)\n",
    "X_validTensor = torch.tensor(validSet_X, dtype=torch.float)\n",
    "\n",
    "weights = createClassWeights(trainLabels, NUM_CLASSES)\n",
    "sampler = WeightedRandomSampler(weights, len(trainLabels))\n",
    "dataset = TensorDataset(X_validTensor, Y_validTensor)\n",
    "validSetLoader = DataLoader(dataset, batch_size=BATCH_SIZE)\n",
    "\n",
    "lossFunction = nn.CrossEntropyLoss()\n",
    "optimizer = torch.optim.SGD(network.parameters(), lr=LEARNING_RATE)"
   ]
  },
  {
   "cell_type": "code",
   "execution_count": 18,
   "metadata": {},
   "outputs": [],
   "source": [
    "def getPredictedLabels(predictions: torch.Tensor) -> np.ndarray:\n",
    "    softmaxLayerOut = torch.log_softmax(predictions, dim = 1)\n",
    "    _, labels = torch.max(softmaxLayerOut, dim = 1)\n",
    "    return labels.detach().numpy()"
   ]
  },
  {
   "cell_type": "code",
   "execution_count": 19,
   "metadata": {},
   "outputs": [],
   "source": [
    "def calculateAccuracy(predictedLabels: Iterable[Number], trueLabels: Iterable[Number]) -> float:    \n",
    "    correct = 0\n",
    "    for pred, true in zip(predictedLabels, trueLabels):\n",
    "        correct += int(pred == true)\n",
    "    \n",
    "    return correct/len(trueLabels)*100"
   ]
  },
  {
   "cell_type": "code",
   "execution_count": 20,
   "metadata": {},
   "outputs": [
    {
     "name": "stdout",
     "output_type": "stream",
     "text": [
      "Epoch 174 Train Acc = 69.91250 Valid Acc = 68.36109\n"
     ]
    }
   ],
   "source": [
    "validPredictions: np.ndarray = np.empty(EPOCHS, dtype=np.ndarray)\n",
    "validErrors: List[Number] = []\n",
    "trainErrors: List[Number] = []\n",
    "for epoch in range(EPOCHS):\n",
    "    network.train()\n",
    "    batchLosses = []\n",
    "    batchAccs = []\n",
    "\n",
    "    for batchSamples, batchLabels in trainSetLoader:\n",
    "        \n",
    "        predictions = network(batchSamples)\n",
    "\n",
    "        batchLoss = lossFunction(predictions, batchLabels.long())\n",
    "        batchLosses.append(batchLoss.item())\n",
    "\n",
    "        batchAccs.append(calculateAccuracy(getPredictedLabels(predictions), batchLabels))        \n",
    "\n",
    "        optimizer.zero_grad()\n",
    "\n",
    "        batchLoss.backward()\n",
    "\n",
    "        optimizer.step()\n",
    "    \n",
    "    trainErrors.append(sum(batchLosses)/len(batchLosses))\n",
    "    \n",
    "    network.eval()\n",
    "    with torch.no_grad():\n",
    "        validOutput = network(X_validTensor)\n",
    "\n",
    "        validLoss = lossFunction(validOutput, Y_validTensor.long())\n",
    "        validErrors.append(validLoss.item())\n",
    "        \n",
    "        validEpochPredictions = getPredictedLabels(validOutput)\n",
    "        validPredictions[epoch] = validEpochPredictions\n",
    "        acc = calculateAccuracy(validEpochPredictions, validLabels)\n",
    "    \n",
    "    print(f\"Epoch {epoch:3} Train Acc = {sum(batchAccs)/len(batchAccs):.5f} Valid Acc = {acc:.5f}\\r\", end='')\n",
    "print()"
   ]
  },
  {
   "cell_type": "code",
   "execution_count": 21,
   "metadata": {},
   "outputs": [],
   "source": [
    "def calculateROCScores(trueLabels: Iterable[Number], predictedLabels: Iterable[Number], numClasses: int) -> Dict[int, Tuple[Number, Number]]:\n",
    "    scores: Dict[int, Tuple[Number, Number]] = {}\n",
    "    confMatrix = confusion_matrix(trueLabels, predictedLabels)\n",
    "    for c in range(numClasses):\n",
    "        tn = 0\n",
    "        fp = 0\n",
    "        fn = 0\n",
    "        for i in range(len(confMatrix)):\n",
    "            if c == i:\n",
    "                for j in range(len(confMatrix[i])):\n",
    "                    if i == j:\n",
    "                        tp = confMatrix[i][j]\n",
    "                    else:\n",
    "                        fn += confMatrix[i][j]\n",
    "            else:\n",
    "                for j in range(len(confMatrix[i])):\n",
    "                    if j == c:\n",
    "                        fp += confMatrix[i][j]\n",
    "                    else:\n",
    "                        tn += confMatrix[i][j]\n",
    "        fpRate = 0\n",
    "        tpRate = 0\n",
    "        if fp + tn > 0:\n",
    "            fpRate = fp/(fp + tn)\n",
    "        if tp + fn > 0:\n",
    "            tpRate = tp/(tp + fn)\n",
    "        scores[c] = (tpRate, fpRate)\n",
    "    \n",
    "    return scores"
   ]
  },
  {
   "cell_type": "code",
   "execution_count": 35,
   "metadata": {},
   "outputs": [],
   "source": [
    "F1_KEY = \"F1\"\n",
    "PREC_KEY = \"Precision\"\n",
    "REC_KEY = \"Recall\"\n",
    "\n",
    "def metricScores(trainPredictions: Iterable[int], validPredictions: Iterable[int], trainLabels: Iterable[int], validLabels: Iterable[int]):\n",
    "    tScores = {}\n",
    "    vScores = {}\n",
    "    tScores[F1_KEY] = round(f1_score(trainLabels, trainPredictions, average=\"micro\"), 4)\n",
    "    tScores[PREC_KEY] = round(precision_score(trainLabels, trainPredictions, average=\"macro\"), 4)\n",
    "    tScores[REC_KEY] = round(recall_score(trainLabels, trainPredictions, average=\"macro\"), 4)\n",
    "\n",
    "    vScores[F1_KEY] = round(f1_score(validLabels, validPredictions, average=\"micro\"), 4)\n",
    "    vScores[PREC_KEY] = round(precision_score(validLabels, validPredictions, average=\"macro\"), 4)\n",
    "    vScores[REC_KEY] = round(recall_score(validLabels, validPredictions, average=\"macro\"), 4)\n",
    "    \n",
    "    return tScores, vScores\n",
    "\n",
    "def metricStatsDF(tScores: Dict[str, Number], vScores: Dict[str, Number]):\n",
    "    metricStats: \"dict[str, list]\" = {}\n",
    "    for metric in tScores:\n",
    "        metricStats[metric] = [tScores[metric], vScores[metric]]\n",
    "    \n",
    "    return pd.DataFrame(metricStats, index=['Train', 'Validation'])"
   ]
  },
  {
   "cell_type": "code",
   "execution_count": 22,
   "metadata": {},
   "outputs": [],
   "source": [
    "def plotLossCurves(trainLosses: Iterable[Number], validationLosses: Iterable[Number], axes: plt.Axes = None):\n",
    "\n",
    "    if axes is None:\n",
    "        _, axes = plt.subplots(1, 1, figsize=(6,5))\n",
    "    \n",
    "    axes.grid()\n",
    "    axes.set_title(\"Loss Curves\", fontsize=14)\n",
    "    axes.set_xlabel('Epochs', fontsize=12)\n",
    "    axes.set_ylabel('Loss', fontsize=12)\n",
    "    \n",
    "    epochs = [i for i in range(len(validationLosses))]\n",
    "\n",
    "    axes.plot(epochs, trainLosses, label='Train Set')\n",
    "    axes.plot(epochs, validationLosses, label='Validation Set')\n",
    "\n",
    "    axes.legend(loc=\"best\")\n",
    "    plt.show()"
   ]
  },
  {
   "cell_type": "code",
   "execution_count": 23,
   "metadata": {},
   "outputs": [],
   "source": [
    "def createRocCurves(trueLabels: Iterable[int] , predictions: torch.Tensor):\n",
    "    labels = np.zeros((len(trueLabels), NUM_CLASSES), dtype=int)\n",
    "    for index, label in enumerate(trueLabels):\n",
    "        labels[index][label] = 1\n",
    "    scores = torch.softmax(predictions, dim = 1).detach().numpy()\n",
    "\n",
    "    fpr: Dict[int, np.ndarray] = dict()\n",
    "    tpr: Dict[int, np.ndarray] = dict()\n",
    "    roc_auc: Dict[int, np.ndarray] = dict()\n",
    "    for i in range(NUM_CLASSES):\n",
    "        fpr[i], tpr[i], _ = roc_curve(labels[:, i], scores[:, i], drop_intermediate=True)\n",
    "        roc_auc[i] = auc(fpr[i], tpr[i])\n",
    "    \n",
    "    return fpr, tpr, roc_auc\n",
    "\n",
    "def plotRocCurves(fpRates: Dict[int, np.ndarray], tpRates: Dict[int, np.ndarray], aucScores: Dict[int, np.ndarray]):\n",
    "    plt.figure(figsize=(7,7))\n",
    "    plt.grid()\n",
    "\n",
    "    for i in range(NUM_CLASSES):\n",
    "        plt.plot(\n",
    "            fpRates[i],\n",
    "            tpRates[i],\n",
    "            label=f\"{CLASS_NAMES[i]} (area = {aucScores[i]:0.2f})\"\n",
    "        )\n",
    "\n",
    "    plt.plot([0, 1], [0, 1], \"k--\")\n",
    "    plt.xlim([0.0, 1.0])\n",
    "    plt.ylim([0.0, 1.05])\n",
    "    plt.xlabel(\"False Positive Rate\")\n",
    "    plt.ylabel(\"True Positive Rate\")\n",
    "    plt.title(\"ROC Curves\")\n",
    "    plt.legend(loc=\"lower right\")\n",
    "    plt.show()\n",
    "    pass"
   ]
  },
  {
   "cell_type": "code",
   "execution_count": 24,
   "metadata": {},
   "outputs": [
    {
     "data": {
      "image/png": "[encoded data removed]",
      "text/plain": [
       "<Figure size 936x360 with 2 Axes>"
      ]
     },
     "metadata": {
      "needs_background": "light"
     },
     "output_type": "display_data"
    }
   ],
   "source": [
    "_, ax = plt.subplots(1, 2, figsize=(13,5))\n",
    "plotConfusionMatrix(validLabels, validPredictions[-1], 'Validation Set', CLASS_NAMES, ax[0])\n",
    "trainPredictions = getPredictedLabels(network(torch.tensor(trainSet_X, dtype=torch.float)))\n",
    "plotConfusionMatrix(trainLabels, trainPredictions, 'Train Set', CLASS_NAMES, ax[1])"
   ]
  },
  {
   "cell_type": "code",
   "execution_count": 41,
   "metadata": {},
   "outputs": [
    {
     "data": {
      "text/html": [
       "<div>\n",
       "<style scoped>\n",
       "    .dataframe tbody tr th:only-of-type {\n",
       "        vertical-align: middle;\n",
       "    }\n",
       "\n",
       "    .dataframe tbody tr th {\n",
       "        vertical-align: top;\n",
       "    }\n",
       "\n",
       "    .dataframe thead th {\n",
       "        text-align: right;\n",
       "    }\n",
       "</style>\n",
       "<table border=\"1\" class=\"dataframe\">\n",
       "  <thead>\n",
       "    <tr style=\"text-align: right;\">\n",
       "      <th></th>\n",
       "      <th>F1</th>\n",
       "      <th>Precision</th>\n",
       "      <th>Recall</th>\n",
       "    </tr>\n",
       "  </thead>\n",
       "  <tbody>\n",
       "    <tr>\n",
       "      <th>Train</th>\n",
       "      <td>0.7041</td>\n",
       "      <td>0.6519</td>\n",
       "      <td>0.5843</td>\n",
       "    </tr>\n",
       "    <tr>\n",
       "      <th>Validation</th>\n",
       "      <td>0.6836</td>\n",
       "      <td>0.6314</td>\n",
       "      <td>0.5694</td>\n",
       "    </tr>\n",
       "  </tbody>\n",
       "</table>\n",
       "</div>"
      ],
      "text/plain": [
       "                F1  Precision  Recall\n",
       "Train       0.7041     0.6519  0.5843\n",
       "Validation  0.6836     0.6314  0.5694"
      ]
     },
     "execution_count": 41,
     "metadata": {},
     "output_type": "execute_result"
    }
   ],
   "source": [
    "scores = metricScores(trainPredictions, validPredictions[-1], trainLabels, validLabels)\n",
    "metricStatsDF(*scores)"
   ]
  },
  {
   "cell_type": "code",
   "execution_count": 25,
   "metadata": {},
   "outputs": [
    {
     "data": {
      "image/png": "[encoded data removed]",
      "text/plain": [
       "<Figure size 432x360 with 1 Axes>"
      ]
     },
     "metadata": {
      "needs_background": "light"
     },
     "output_type": "display_data"
    }
   ],
   "source": [
    "plotLossCurves(trainErrors, validErrors)"
   ]
  },
  {
   "cell_type": "code",
   "execution_count": 26,
   "metadata": {},
   "outputs": [
    {
     "data": {
      "image/png": "[encoded data removed]",
      "text/plain": [
       "<Figure size 504x504 with 1 Axes>"
      ]
     },
     "metadata": {
      "needs_background": "light"
     },
     "output_type": "display_data"
    }
   ],
   "source": [
    "fpr, tpr, aucScores = createRocCurves(validLabels, validOutput)\n",
    "plotRocCurves(fpr, tpr, aucScores)"
   ]
  }
 ],
 "metadata": {
  "interpreter": {
   "hash": "916dbcbb3f70747c44a77c7bcd40155683ae19c65e1c03b4aa3499c5328201f1"
  },
  "kernelspec": {
   "display_name": "Python 3.8.10 64-bit",
   "language": "python",
   "name": "python3"
  },
  "language_info": {
   "codemirror_mode": {
    "name": "ipython",
    "version": 3
   },
   "file_extension": ".py",
   "mimetype": "text/x-python",
   "name": "python",
   "nbconvert_exporter": "python",
   "pygments_lexer": "ipython3",
   "version": "3.8.10"
  },
  "orig_nbformat": 4
 },
 "nbformat": 4,
 "nbformat_minor": 2
}
