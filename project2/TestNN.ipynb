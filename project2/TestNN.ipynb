{
 "cells": [
  {
   "cell_type": "code",
   "execution_count": 50,
   "metadata": {},
   "outputs": [],
   "source": [
    "import math\n",
    "import re\n",
    "\n",
    "import numpy as np\n",
    "import pandas as pd\n",
    "import torch\n",
    "import torch.nn as nn\n",
    "\n",
    "from typing import Callable, Iterable"
   ]
  },
  {
   "cell_type": "code",
   "execution_count": 51,
   "metadata": {},
   "outputs": [],
   "source": [
    "TRAIN_SET_PATH = \"./vaccine_train_set.csv\"\n",
    "VALIDATION_SET_PATH = \"./vaccine_validation_set.csv\"\n",
    "EMBEDDINGS_PATH = './glove.6B.50d.txt'"
   ]
  },
  {
   "cell_type": "code",
   "execution_count": 52,
   "metadata": {},
   "outputs": [],
   "source": [
    "wordVectors: \"dict[str, np.ndarray]\" = {}\n",
    "lineElements: \"list[str]\" = []\n",
    "with open(EMBEDDINGS_PATH) as file:\n",
    "    for line in file:\n",
    "        lineElements = line.replace('\\n', '').split()\n",
    "        word = lineElements.pop(0)\n",
    "        wordVector = np.array([float(w) for w in lineElements])\n",
    "        wordVectors[word] = wordVector\n",
    "dimensions = len(lineElements)"
   ]
  },
  {
   "cell_type": "code",
   "execution_count": 53,
   "metadata": {},
   "outputs": [
    {
     "data": {
      "text/plain": [
       "Unnamed: 0    0\n",
       "tweet         0\n",
       "label         0\n",
       "dtype: int64"
      ]
     },
     "execution_count": 53,
     "metadata": {},
     "output_type": "execute_result"
    }
   ],
   "source": [
    "trainDF = pd.read_csv('./vaccine_train_set.csv')\n",
    "trainDF.isnull().sum()"
   ]
  },
  {
   "cell_type": "code",
   "execution_count": 54,
   "metadata": {},
   "outputs": [
    {
     "data": {
      "text/plain": [
       "Unnamed: 0    0\n",
       "tweet         0\n",
       "label         0\n",
       "dtype: int64"
      ]
     },
     "execution_count": 54,
     "metadata": {},
     "output_type": "execute_result"
    }
   ],
   "source": [
    "validDF = pd.read_csv(VALIDATION_SET_PATH)\n",
    "validDF.isnull().sum()"
   ]
  },
  {
   "cell_type": "code",
   "execution_count": 55,
   "metadata": {},
   "outputs": [],
   "source": [
    "features = trainDF.drop(['label', 'Unnamed: 0'], axis=1)\n",
    "X_train = [ar[0] for ar in features.values]\n",
    "trainLabels = trainDF['label'].values\n",
    "\n",
    "features = validDF.drop(['label', 'Unnamed: 0'], axis=1)\n",
    "X_valid = [ar[0] for ar in features.values]\n",
    "validLabels = validDF['label'].values"
   ]
  },
  {
   "cell_type": "code",
   "execution_count": 56,
   "metadata": {},
   "outputs": [],
   "source": [
    "def customPreprocessor(text: str):    \n",
    "    # remove url's\n",
    "    trimmedText = re.sub(r'https?://\\S+|www\\.\\S+|#', '', text).lower()\n",
    "\n",
    "    # remove @ mentions and numbers\n",
    "    res = list()\n",
    "    wait_whitespace = False\n",
    "    for c in trimmedText:\n",
    "        if wait_whitespace:\n",
    "            if c == \" \":\n",
    "                wait_whitespace = False\n",
    "            continue\n",
    "        elif re.match(\"[0-9]\", c) or c == \"@\":\n",
    "            wait_whitespace = True\n",
    "            continue            \n",
    "        res.append(c)\n",
    "    \n",
    "    return ''.join(res)"
   ]
  },
  {
   "cell_type": "code",
   "execution_count": 57,
   "metadata": {},
   "outputs": [],
   "source": [
    "def vectorizeTweet(tweet: str, preprocessor: Callable[[str], str], wordVectors: \"dict[str, np.ndarray]\", dimensions: int) -> np.ndarray:\n",
    "    words = preprocessor(tweet).split()\n",
    "    vector: np.ndarray = np.zeros(dimensions)\n",
    "    for word in words:\n",
    "        vector += wordVectors[word]\n",
    "    return vector / len(words)"
   ]
  },
  {
   "cell_type": "code",
   "execution_count": 64,
   "metadata": {},
   "outputs": [],
   "source": [
    "class Network(nn.Module):\n",
    "    def __init__(self, n_features: int, n_classes: int, hidden_sizes: Iterable[int]) -> None:\n",
    "        super(Network, self).__init__()\n",
    "        \n",
    "        self.layers: \"list[nn.Linear]\" = []\n",
    "        n_in = n_features\n",
    "        for size in hidden_sizes:\n",
    "            self.layers.append(nn.Linear(n_in, size))\n",
    "            n_in = size\n",
    "        self.layers.append(nn.Linear(n_in, n_classes))\n",
    "    \n",
    "    def forward(self, input):\n",
    "        last_out = input\n",
    "        for layer in self.layers:\n",
    "            last_out = layer(last_out)\n",
    "        return last_out\n"
   ]
  },
  {
   "cell_type": "code",
   "execution_count": 65,
   "metadata": {},
   "outputs": [
    {
     "data": {
      "text/plain": [
       "[Linear(in_features=50, out_features=3, bias=True)]"
      ]
     },
     "execution_count": 65,
     "metadata": {},
     "output_type": "execute_result"
    }
   ],
   "source": [
    "network = Network(50, 3, [])\n",
    "network.layers"
   ]
  },
  {
   "cell_type": "code",
   "execution_count": null,
   "metadata": {},
   "outputs": [],
   "source": [
    "vectorizeTweet('the 68 world', customPreprocessor, wordVectors, dimensions)"
   ]
  },
  {
   "cell_type": "code",
   "execution_count": 61,
   "metadata": {},
   "outputs": [],
   "source": [
    "# df = pd.DataFrame([[1, 2, 3, 4], [0, 0, 4, 8]])\n",
    "# Min = df.min()\n",
    "# df = (df-Min)/(df.max() - Min)\n",
    "# df"
   ]
  },
  {
   "cell_type": "code",
   "execution_count": 62,
   "metadata": {},
   "outputs": [],
   "source": [
    "# l = [1, 2, 3, 4]\n",
    "# Max = max(l)\n",
    "# Min = min(l)\n",
    "# for i, element in enumerate(l):\n",
    "#     l[i] = (element - Min)/(Max - Min)\n",
    "# l"
   ]
  }
 ],
 "metadata": {
  "interpreter": {
   "hash": "916dbcbb3f70747c44a77c7bcd40155683ae19c65e1c03b4aa3499c5328201f1"
  },
  "kernelspec": {
   "display_name": "Python 3.8.10 64-bit",
   "language": "python",
   "name": "python3"
  },
  "language_info": {
   "codemirror_mode": {
    "name": "ipython",
    "version": 3
   },
   "file_extension": ".py",
   "mimetype": "text/x-python",
   "name": "python",
   "nbconvert_exporter": "python",
   "pygments_lexer": "ipython3",
   "version": "3.8.10"
  },
  "orig_nbformat": 4
 },
 "nbformat": 4,
 "nbformat_minor": 2
}
