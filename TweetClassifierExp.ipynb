{
 "cells": [
  {
   "cell_type": "code",
   "execution_count": 153,
   "metadata": {},
   "outputs": [],
   "source": [
    "import pandas as pd\n",
    "from sklearn.model_selection import train_test_split\n",
    "from sklearn.linear_model import LogisticRegression\n",
    "import numpy as np\n",
    "import math\n",
    "\n",
    "import matplotlib.pyplot as plt"
   ]
  },
  {
   "cell_type": "code",
   "execution_count": 154,
   "metadata": {},
   "outputs": [
    {
     "data": {
      "text/plain": [
       "Unnamed: 0    0\n",
       "tweet         0\n",
       "label         0\n",
       "dtype: int64"
      ]
     },
     "execution_count": 154,
     "metadata": {},
     "output_type": "execute_result"
    }
   ],
   "source": [
    "trainDF = pd.read_csv(\"./vaccine_train_set.csv\")\n",
    "trainDF.isnull().sum()"
   ]
  },
  {
   "cell_type": "code",
   "execution_count": 155,
   "metadata": {},
   "outputs": [
    {
     "data": {
      "text/plain": [
       "Unnamed: 0    0\n",
       "tweet         0\n",
       "label         0\n",
       "dtype: int64"
      ]
     },
     "execution_count": 155,
     "metadata": {},
     "output_type": "execute_result"
    }
   ],
   "source": [
    "validDF = pd.read_csv(\"./vaccine_validation_set.csv\")\n",
    "validDF.isnull().sum()"
   ]
  },
  {
   "cell_type": "code",
   "execution_count": 156,
   "metadata": {},
   "outputs": [],
   "source": [
    "features = trainDF.drop(['label', 'Unnamed: 0'], axis=1)\n",
    "X_train = [ar[0] for ar in features.values]\n",
    "trainLabels = trainDF['label'].values\n",
    "\n",
    "features = validDF.drop(['label', 'Unnamed: 0'], axis=1)\n",
    "X_valid = [ar[0] for ar in features.values]\n",
    "validLabels = validDF['label'].values"
   ]
  },
  {
   "cell_type": "code",
   "execution_count": 157,
   "metadata": {},
   "outputs": [],
   "source": [
    "from sklearn.feature_extraction.text import CountVectorizer, TfidfVectorizer\n",
    "\n",
    "def customPreprocessor(text: str):\n",
    "    import re\n",
    "    \n",
    "    # remove url's\n",
    "    trimmedText = re.sub(r'https?://\\S+|www\\.\\S+', '', text).lower()\n",
    "\n",
    "    # remove @ mentions and numbers\n",
    "    res = list()\n",
    "    wait_whitespace = False\n",
    "    for c in trimmedText:\n",
    "        if wait_whitespace:\n",
    "            if c == \" \":\n",
    "                wait_whitespace = False\n",
    "            continue\n",
    "        elif re.match(\"[0-9]\", c) or c == \"@\":\n",
    "            wait_whitespace = True\n",
    "            continue            \n",
    "        res.append(c)\n",
    "    \n",
    "    return ''.join(res)\n",
    "\n",
    "vectorizer = TfidfVectorizer(max_df=0.85, min_df=0.01)\n",
    "#vectorizer = TfidfVectorizer(preprocessor=customPreprocessor, stop_words=\"english\", max_df=0.85, min_df=0.01)\n",
    "trainSamples = vectorizer.fit_transform(X_train)\n",
    "validSamples = vectorizer.transform(X_valid)"
   ]
  },
  {
   "cell_type": "code",
   "execution_count": 158,
   "metadata": {},
   "outputs": [
    {
     "name": "stdout",
     "output_type": "stream",
     "text": [
      " 15510"
     ]
    }
   ],
   "source": [
    "from sklearn.metrics import f1_score\n",
    "\n",
    "validPredictions = []\n",
    "trainPredictions = []\n",
    "trainSizes = []\n",
    "lrClassifier = LogisticRegression(max_iter=math.inf)\n",
    "for i in range(10, len(trainLabels), 500):\n",
    "    print('\\r', i, end='')\n",
    "    trainSizes.append(i)\n",
    "    currentBatch = trainSamples[:i]\n",
    "    lrClassifier.fit(currentBatch, trainLabels[:i])\n",
    "    trainPredictions.append(lrClassifier.predict(currentBatch))\n",
    "    validPredictions.append(lrClassifier.predict(validSamples))"
   ]
  },
  {
   "cell_type": "code",
   "execution_count": 159,
   "metadata": {},
   "outputs": [],
   "source": [
    "trainF1Scores = []\n",
    "validF1Scores = []\n",
    "for tp, vp in zip(trainPredictions, validPredictions):\n",
    "    x = len(tp)\n",
    "    trainF1Scores.append(round(f1_score(trainLabels[:x], tp, average=\"micro\"), 4))\n",
    "    validF1Scores.append(round(f1_score(validLabels, vp, average=\"micro\"), 4))"
   ]
  },
  {
   "cell_type": "code",
   "execution_count": 160,
   "metadata": {},
   "outputs": [
    {
     "data": {
      "image/png": "[encoded data removed]",
      "text/plain": [
       "<Figure size 576x360 with 1 Axes>"
      ]
     },
     "metadata": {
      "needs_background": "light"
     },
     "output_type": "display_data"
    }
   ],
   "source": [
    "_, axes = plt.subplots(1, 1, figsize=(8, 5))\n",
    "axes.grid()\n",
    "axes.set_title('Scoring')\n",
    "axes.plot(trainSizes, trainF1Scores, \"o-\", color=\"r\", label=\"Training Set score\")\n",
    "axes.plot(trainSizes, validF1Scores, \"o-\", color=\"g\", label=\"Validation Set score\")\n",
    "axes.set_ylim((0.6, 0.75))\n",
    "axes.set_xlim((500, trainSizes[len(trainSizes) - 1]))\n",
    "axes.legend(loc=\"best\")\n",
    "plt.show()"
   ]
  }
 ],
 "metadata": {
  "interpreter": {
   "hash": "916dbcbb3f70747c44a77c7bcd40155683ae19c65e1c03b4aa3499c5328201f1"
  },
  "kernelspec": {
   "display_name": "Python 3.8.10 64-bit",
   "language": "python",
   "name": "python3"
  },
  "language_info": {
   "codemirror_mode": {
    "name": "ipython",
    "version": 3
   },
   "file_extension": ".py",
   "mimetype": "text/x-python",
   "name": "python",
   "nbconvert_exporter": "python",
   "pygments_lexer": "ipython3",
   "version": "3.8.10"
  },
  "orig_nbformat": 4
 },
 "nbformat": 4,
 "nbformat_minor": 2
}
