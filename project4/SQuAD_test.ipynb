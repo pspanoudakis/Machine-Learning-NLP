{
  "nbformat": 4,
  "nbformat_minor": 0,
  "metadata": {
    "colab": {
      "name": "SQuAD_test.ipynb",
      "provenance": [],
      "collapsed_sections": []
    },
    "kernelspec": {
      "name": "python3",
      "display_name": "Python 3"
    },
    "language_info": {
      "name": "python"
    },
    "accelerator": "GPU"
  },
  "cells": [
    {
      "cell_type": "code",
      "source": [
        "!pip install transformers"
      ],
      "metadata": {
        "colab": {
          "base_uri": "https://localhost:8080/"
        },
        "id": "F371cZOMmCax",
        "outputId": "24690e64-4f01-4ce6-e753-41b3b6959c9f"
      },
      "execution_count": 43,
      "outputs": [
        {
          "output_type": "stream",
          "name": "stdout",
          "text": [
            "Requirement already satisfied: transformers in /usr/local/lib/python3.7/dist-packages (4.17.0)\n",
            "Requirement already satisfied: filelock in /usr/local/lib/python3.7/dist-packages (from transformers) (3.6.0)\n",
            "Requirement already satisfied: requests in /usr/local/lib/python3.7/dist-packages (from transformers) (2.23.0)\n",
            "Requirement already satisfied: huggingface-hub<1.0,>=0.1.0 in /usr/local/lib/python3.7/dist-packages (from transformers) (0.4.0)\n",
            "Requirement already satisfied: packaging>=20.0 in /usr/local/lib/python3.7/dist-packages (from transformers) (21.3)\n",
            "Requirement already satisfied: regex!=2019.12.17 in /usr/local/lib/python3.7/dist-packages (from transformers) (2019.12.20)\n",
            "Requirement already satisfied: importlib-metadata in /usr/local/lib/python3.7/dist-packages (from transformers) (4.11.2)\n",
            "Requirement already satisfied: pyyaml>=5.1 in /usr/local/lib/python3.7/dist-packages (from transformers) (6.0)\n",
            "Requirement already satisfied: sacremoses in /usr/local/lib/python3.7/dist-packages (from transformers) (0.0.47)\n",
            "Requirement already satisfied: tokenizers!=0.11.3,>=0.11.1 in /usr/local/lib/python3.7/dist-packages (from transformers) (0.11.6)\n",
            "Requirement already satisfied: tqdm>=4.27 in /usr/local/lib/python3.7/dist-packages (from transformers) (4.63.0)\n",
            "Requirement already satisfied: numpy>=1.17 in /usr/local/lib/python3.7/dist-packages (from transformers) (1.21.5)\n",
            "Requirement already satisfied: typing-extensions>=3.7.4.3 in /usr/local/lib/python3.7/dist-packages (from huggingface-hub<1.0,>=0.1.0->transformers) (3.10.0.2)\n",
            "Requirement already satisfied: pyparsing!=3.0.5,>=2.0.2 in /usr/local/lib/python3.7/dist-packages (from packaging>=20.0->transformers) (3.0.7)\n",
            "Requirement already satisfied: zipp>=0.5 in /usr/local/lib/python3.7/dist-packages (from importlib-metadata->transformers) (3.7.0)\n",
            "Requirement already satisfied: certifi>=2017.4.17 in /usr/local/lib/python3.7/dist-packages (from requests->transformers) (2021.10.8)\n",
            "Requirement already satisfied: idna<3,>=2.5 in /usr/local/lib/python3.7/dist-packages (from requests->transformers) (2.10)\n",
            "Requirement already satisfied: chardet<4,>=3.0.2 in /usr/local/lib/python3.7/dist-packages (from requests->transformers) (3.0.4)\n",
            "Requirement already satisfied: urllib3!=1.25.0,!=1.25.1,<1.26,>=1.21.1 in /usr/local/lib/python3.7/dist-packages (from requests->transformers) (1.24.3)\n",
            "Requirement already satisfied: six in /usr/local/lib/python3.7/dist-packages (from sacremoses->transformers) (1.15.0)\n",
            "Requirement already satisfied: click in /usr/local/lib/python3.7/dist-packages (from sacremoses->transformers) (7.1.2)\n",
            "Requirement already satisfied: joblib in /usr/local/lib/python3.7/dist-packages (from sacremoses->transformers) (1.1.0)\n"
          ]
        }
      ]
    },
    {
      "cell_type": "code",
      "source": [
        "LEARNING_RATE=5e-5\n",
        "EPOCHS=20\n",
        "BATCH_SIZE=3"
      ],
      "metadata": {
        "id": "wmeMeTrXUqvn"
      },
      "execution_count": 162,
      "outputs": []
    },
    {
      "cell_type": "code",
      "execution_count": 163,
      "metadata": {
        "id": "UzYM4_DLLGtD"
      },
      "outputs": [],
      "source": [
        "import json\n",
        "\n",
        "import numpy as np\n",
        "import torch\n",
        "import torch.nn as nn\n",
        "from torch.utils.data import DataLoader\n",
        "from torch.optim import Adam\n",
        "\n",
        "from transformers import BertTokenizer, BertForQuestionAnswering\n",
        "from transformers.tokenization_utils_base import PaddingStrategy\n",
        "\n",
        "from pprint import pprint\n",
        "import textwrap\n",
        "\n",
        "# Wrap text to 80 characters.\n",
        "wrapper = textwrap.TextWrapper(width=80) "
      ]
    },
    {
      "cell_type": "code",
      "source": [
        "CPU_DEVICE = 'cpu'\n",
        "CUDA_DEVICE = 'cuda'\n",
        "DEVICE = CUDA_DEVICE if torch.cuda.is_available() else CPU_DEVICE"
      ],
      "metadata": {
        "id": "hkVdzsJK_Lje"
      },
      "execution_count": 164,
      "outputs": []
    },
    {
      "cell_type": "code",
      "source": [
        "class Question:\n",
        "    def __init__(self, text, answer, context, isImpossible = False) -> None:\n",
        "        self.text = text\n",
        "        self.context = context\n",
        "        if isImpossible:\n",
        "            self.answer = (-1, -1)\n",
        "        else:\n",
        "            endCharIndex = answer['answer_start'] + len(answer['text']) - 1\n",
        "            whitespacesBeforeAnswer = 0\n",
        "            whitespacesInAnswer = 0\n",
        "            for i in context.whitespaces:\n",
        "                if i >= answer['answer_start']:\n",
        "                    if i < endCharIndex:\n",
        "                        whitespacesInAnswer += 1\n",
        "                    else:\n",
        "                        break\n",
        "                else:\n",
        "                    whitespacesBeforeAnswer += 1\n",
        "            noWhitespaceStart = answer['answer_start'] - whitespacesBeforeAnswer\n",
        "            noWhitespaceEnd = noWhitespaceStart + len(answer['text']) - 1 - whitespacesInAnswer\n",
        "            self.answer = context.getAnswerTokenIndexes(noWhitespaceStart, noWhitespaceEnd)\n",
        "\n",
        "    def __repr__(self) -> str:\n",
        "        return str({\n",
        "            \"text\": self.text,\n",
        "            \"answer_start\": self.answer[0],\n",
        "            \"answer_end\": self.answer[1],\n",
        "            \"answer\": ' '.join(self.context.tokens[self.answer[0]:self.answer[1]+1])\n",
        "        })\n",
        "\n",
        "class QuestionContext:\n",
        "    def __init__(self, text, tokenizer) -> None:\n",
        "        self.text = text\n",
        "        self.tokenIds = tokenizer(text)['input_ids']\n",
        "        self.tokens = tokenizer.convert_ids_to_tokens(self.tokenIds)\n",
        "        whitespaces = []\n",
        "        for i, c in enumerate(text):\n",
        "            if c == ' ':\n",
        "                whitespaces.append(i)\n",
        "        \n",
        "        self.whitespaces = tuple(whitespaces)\n",
        "\n",
        "    def getAnswerTokenIndexes(self, startCharIndex, endCharIndex):\n",
        "        answerStart = -1\n",
        "        answerEnd = -1\n",
        "        currChar = 0\n",
        "        for index, token in enumerate(self.tokens):\n",
        "            if (index != 0) and (index != len(self.tokens) - 1):\n",
        "                cleanToken = token.replace('##', '')\n",
        "                for c in cleanToken:\n",
        "                    if currChar == startCharIndex:\n",
        "                        answerStart = index\n",
        "                    if currChar == endCharIndex:\n",
        "                        answerEnd = index\n",
        "                        return (answerStart, answerEnd)\n",
        "                    currChar += 1"
      ],
      "metadata": {
        "id": "QTAGsLf0ZnH4"
      },
      "execution_count": 165,
      "outputs": []
    },
    {
      "cell_type": "code",
      "source": [
        "questions = []\n",
        "tokenizer = BertTokenizer.from_pretrained('bert-base-uncased')\n",
        "\n",
        "with open('sample.json') as samplesFile:\n",
        "    samplesRaw = json.load(samplesFile)['data']\n",
        "    for group in samplesRaw:\n",
        "        for paragraph in group['paragraphs']:\n",
        "            context = QuestionContext(paragraph['context'], tokenizer)\n",
        "            for qa in paragraph['qas']:\n",
        "                questions.append(Question(qa['question'], qa['answers'][0], context, qa['is_impossible']))\n",
        "#pprint(questions)"
      ],
      "metadata": {
        "id": "W_2J2jMaLj5B"
      },
      "execution_count": 166,
      "outputs": []
    },
    {
      "cell_type": "code",
      "source": [
        "class QuestionsDataset(torch.utils.data.Dataset):\n",
        "    def __init__(self, questions) -> None:\n",
        "        super().__init__()\n",
        "        self.questions = [q.text for q in questions]\n",
        "        self.contexts = [q.context.text for q in questions]\n",
        "        self.answers = [torch.tensor(q.answer) for q in questions]\n",
        "\n",
        "    def __len__(self):\n",
        "        return len(self.questions)\n",
        "\n",
        "    def __getitem__(self, index):\n",
        "        return self.questions[index], self.contexts[index], self.answers[index]"
      ],
      "metadata": {
        "id": "E7Rs6zeENvJk"
      },
      "execution_count": 167,
      "outputs": []
    },
    {
      "cell_type": "code",
      "source": [
        "#ret = tokenizer._batch_encode_plus([['is', 'hi oops'], ['of', 'hello'], ['i am good, thanks', 'haha']], max_length=10, padding_strategy=PaddingStrategy.MAX_LENGTH)\n",
        "#for id in ret[\"input_ids\"][2]:\n",
        "#    print(tokenizer.convert_ids_to_tokens(id))"
      ],
      "metadata": {
        "id": "dj4uKKl4_k8b"
      },
      "execution_count": 168,
      "outputs": []
    },
    {
      "cell_type": "code",
      "source": [
        "trainDataset = QuestionsDataset(questions)\n",
        "trainSetLoader = DataLoader(trainDataset, batch_size=BATCH_SIZE, shuffle=False)\n",
        "model = BertForQuestionAnswering.from_pretrained('bert-base-uncased').to(DEVICE)\n",
        "optimizer = torch.optim.Adam(model.parameters(), lr=LEARNING_RATE)"
      ],
      "metadata": {
        "colab": {
          "base_uri": "https://localhost:8080/"
        },
        "id": "ZoxQAYdROoKE",
        "outputId": "cedd1b7e-d692-4103-d798-8c99df369bac"
      },
      "execution_count": 169,
      "outputs": [
        {
          "output_type": "stream",
          "name": "stderr",
          "text": [
            "Some weights of the model checkpoint at bert-base-uncased were not used when initializing BertForQuestionAnswering: ['cls.predictions.transform.dense.weight', 'cls.predictions.bias', 'cls.seq_relationship.weight', 'cls.predictions.transform.LayerNorm.weight', 'cls.seq_relationship.bias', 'cls.predictions.transform.dense.bias', 'cls.predictions.transform.LayerNorm.bias', 'cls.predictions.decoder.weight']\n",
            "- This IS expected if you are initializing BertForQuestionAnswering from the checkpoint of a model trained on another task or with another architecture (e.g. initializing a BertForSequenceClassification model from a BertForPreTraining model).\n",
            "- This IS NOT expected if you are initializing BertForQuestionAnswering from the checkpoint of a model that you expect to be exactly identical (initializing a BertForSequenceClassification model from a BertForSequenceClassification model).\n",
            "Some weights of BertForQuestionAnswering were not initialized from the model checkpoint at bert-base-uncased and are newly initialized: ['qa_outputs.bias', 'qa_outputs.weight']\n",
            "You should probably TRAIN this model on a down-stream task to be able to use it for predictions and inference.\n"
          ]
        }
      ]
    },
    {
      "cell_type": "code",
      "source": [
        "def predictionsF1Score(modelAnswers, trueAnswers):\n",
        "\n",
        "    def findAnswerF1(modelAnswer, trueAnswer):\n",
        "        modelSequence = range(modelAnswer[0], modelAnswer[1] + 1 )\n",
        "        trueSequence = range(trueAnswer[0], trueAnswer[1] + 1 )\n",
        "        numCommon = len(set(trueSequence).intersection(modelSequence))\n",
        "\n",
        "        if numCommon == 0:\n",
        "            return 0\n",
        "        \n",
        "        precision = 1.0 * numCommon / len(trueSequence)\n",
        "        recall = 1.0 * numCommon / len(modelSequence)\n",
        "        f1 = (2 * precision * recall) / (precision + recall)\n",
        "        return f1\n",
        "\n",
        "    totalF1 = 0\n",
        "    for model, gold in zip(modelAnswers, trueAnswers):\n",
        "        totalF1 += findAnswerF1(model, gold)\n",
        "\n",
        "    return totalF1/len(trueAnswers)\n",
        "\n",
        "def predictionsExactScore(modelAnswers, trueAnswers):\n",
        "    correct = 0\n",
        "    for model, true in zip(modelAnswers, trueAnswers):\n",
        "        correct += int( (model[0] == true[0]) and (model[1] == true[1]) )\n",
        "    \n",
        "    return correct/len(trueAnswers)\n",
        "\n",
        "def getPredictedAnswers(startLogits, endLogits):\n",
        "    softmaxStart = torch.log_softmax(startLogits, dim = 1)\n",
        "    _, start = torch.max(softmaxStart, dim = 1)\n",
        "\n",
        "    softmaxEnd = torch.log_softmax(endLogits, dim = 1)\n",
        "    _, end = torch.max(softmaxEnd, dim = 1)\n",
        "    return (start.cpu().detach().numpy(), end.cpu().detach().numpy())"
      ],
      "metadata": {
        "id": "qZw2MOKoVj-1"
      },
      "execution_count": 170,
      "outputs": []
    },
    {
      "cell_type": "code",
      "source": [
        "for epoch in range(EPOCHS):\n",
        "    model.train()\n",
        "    epochExactBatchScores = []\n",
        "    epochBatchLosses = []\n",
        "    epochBatchF1 = []\n",
        "    for batchQuestions, batchContexts, batchAnswers in trainSetLoader:\n",
        "        qaPairs = [[question, answer] for question, answer in zip(batchQuestions, batchContexts)]\n",
        "        tok = tokenizer._batch_encode_plus(qaPairs, padding_strategy=PaddingStrategy.LONGEST, return_tensors=\"pt\")\n",
        "        inputIds = tok['input_ids'].to(DEVICE)\n",
        "        segmentIds = tok['token_type_ids'].to(DEVICE)\n",
        "        attentionMask = tok['attention_mask'].to(DEVICE)\n",
        "        startPositions = batchAnswers[:, 0].to(DEVICE)\n",
        "        endPositions = batchAnswers[:, 1].to(DEVICE)\n",
        "        \n",
        "        outputs = model(input_ids=inputIds, token_type_ids=segmentIds, attention_mask=attentionMask, start_positions=startPositions, end_positions=endPositions)    \n",
        "        batchLoss = outputs[0]\n",
        "\n",
        "        optimizer.zero_grad()\n",
        "\n",
        "        batchLoss.backward()\n",
        "\n",
        "        optimizer.step()\n",
        "\n",
        "        startPredictions, endPredictions = getPredictedAnswers(outputs.start_logits, outputs.end_logits)\n",
        "        modelAnswers = np.vstack((startPredictions, endPredictions)).T\n",
        "        \n",
        "        epochExactBatchScores.append(predictionsExactScore(modelAnswers, batchAnswers))\n",
        "        epochBatchLosses.append(batchLoss.item())\n",
        "        epochBatchF1.append(predictionsF1Score(modelAnswers, batchAnswers))\n",
        "    \n",
        "    print(f\"Exact: {sum(epochExactBatchScores)/len(epochExactBatchScores)}\")\n",
        "    print(f\"F1: {sum(epochBatchF1)/len(epochBatchF1)}\")\n",
        "    print(f\"Loss: {sum(epochBatchLosses)/len(epochBatchLosses)}\")"
      ],
      "metadata": {
        "colab": {
          "base_uri": "https://localhost:8080/"
        },
        "id": "EsL_ERhbVUIN",
        "outputId": "ec1c0019-e2a0-467c-9339-e7e5069fbf47"
      },
      "execution_count": 171,
      "outputs": [
        {
          "output_type": "stream",
          "name": "stdout",
          "text": [
            "Exact: 0.0\n",
            "F1: 0.03068988553926689\n",
            "Loss: 4.978862285614014\n",
            "Exact: 0.0\n",
            "F1: 0.05583333499787404\n",
            "Loss: 3.8857779502868652\n",
            "Exact: 0.0\n",
            "F1: 0.053619466994532364\n",
            "Loss: 3.3339975357055662\n",
            "Exact: 0.0\n",
            "F1: 0.05793304125304495\n",
            "Loss: 2.9933157444000242\n",
            "Exact: 0.06666666666666667\n",
            "F1: 0.14472502120291963\n",
            "Loss: 2.6169959545135497\n",
            "Exact: 0.0\n",
            "F1: 0.10071221140063616\n",
            "Loss: 2.6307623386383057\n",
            "Exact: 0.06666666666666667\n",
            "F1: 0.23193998092303175\n",
            "Loss: 2.3168453216552733\n",
            "Exact: 0.13333333333333333\n",
            "F1: 0.3329004329004329\n",
            "Loss: 2.1080045223236086\n",
            "Exact: 0.26666666666666666\n",
            "F1: 0.4761604010025063\n",
            "Loss: 1.7295691251754761\n",
            "Exact: 0.26666666666666666\n",
            "F1: 0.4208080227396123\n",
            "Loss: 1.5060613632202149\n",
            "Exact: 0.6\n",
            "F1: 0.7871264367816091\n",
            "Loss: 1.2938761115074158\n",
            "Exact: 0.2\n",
            "F1: 0.47111111111111104\n",
            "Loss: 1.6968835592269897\n",
            "Exact: 0.5333333333333334\n",
            "F1: 0.6677931387608808\n",
            "Loss: 0.9333142399787903\n",
            "Exact: 0.39999999999999997\n",
            "F1: 0.5750839002267574\n",
            "Loss: 1.1183129668235778\n",
            "Exact: 0.5333333333333333\n",
            "F1: 0.7044444444444444\n",
            "Loss: 0.951835823059082\n",
            "Exact: 0.3333333333333333\n",
            "F1: 0.5931503267973854\n",
            "Loss: 1.2586904048919678\n",
            "Exact: 0.6666666666666666\n",
            "F1: 0.8134640522875817\n",
            "Loss: 0.6844988942146302\n",
            "Exact: 0.39999999999999997\n",
            "F1: 0.6646809835045129\n",
            "Loss: 0.7718438863754272\n",
            "Exact: 0.7333333333333333\n",
            "F1: 0.8029931972789116\n",
            "Loss: 0.43666966557502745\n",
            "Exact: 0.6666666666666666\n",
            "F1: 0.7497777777777779\n",
            "Loss: 0.4352148801088333\n"
          ]
        }
      ]
    }
  ]
}