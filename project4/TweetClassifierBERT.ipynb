{
  "metadata": {
    "kernelspec": {
      "language": "python",
      "display_name": "Python 3",
      "name": "python3"
    },
    "language_info": {
      "name": "python",
      "version": "3.7.12",
      "mimetype": "text/x-python",
      "codemirror_mode": {
        "name": "ipython",
        "version": 3
      },
      "pygments_lexer": "ipython3",
      "nbconvert_exporter": "python",
      "file_extension": ".py"
    },
    "colab": {
      "name": "TweetClassifierBERT.ipynb",
      "provenance": [],
      "collapsed_sections": []
    },
    "accelerator": "GPU"
  },
  "nbformat_minor": 0,
  "nbformat": 4,
  "cells": [
    {
      "cell_type": "markdown",
      "source": [
        "# Vaccine sentiment classification using fine-tuned BERT-based Model\n",
        "Pavlos Spanoudakis (sdi1800184)"
      ],
      "metadata": {
        "id": "_MI6fX9gG2SA"
      }
    },
    {
      "cell_type": "code",
      "source": [
        "#from google.colab import drive\n",
        "#drive.mount('/content/drive')\n",
        "\n",
        "#!cp ./drive/MyDrive/NLP/vaccine_train_set.csv ./\n",
        "#!cp ./drive/MyDrive/NLP/vaccine_validation_set.csv ./\n",
        "\n",
        "#!pip install transformers"
      ],
      "metadata": {
        "id": "b6Aq27RRE6qW"
      },
      "execution_count": null,
      "outputs": []
    },
    {
      "cell_type": "markdown",
      "source": [
        "### Select one of the models presented in the report:"
      ],
      "metadata": {
        "id": "NF0gSsMuG2SC"
      }
    },
    {
      "cell_type": "code",
      "source": [
        "MODEL_0 = 0\n",
        "MODEL_1 = 1\n",
        "MODEL_2 = 2\n",
        "MODEL_3 = 3\n",
        "MODEL_4 = 4\n",
        "\n",
        "MODEL = MODEL_0"
      ],
      "metadata": {
        "id": "cCbBNvzzG2SC",
        "execution": {
          "iopub.status.busy": "2022-02-27T12:04:18.674991Z",
          "iopub.execute_input": "2022-02-27T12:04:18.676069Z",
          "iopub.status.idle": "2022-02-27T12:04:18.705589Z",
          "shell.execute_reply.started": "2022-02-27T12:04:18.675805Z",
          "shell.execute_reply": "2022-02-27T12:04:18.704450Z"
        },
        "trusted": true
      },
      "execution_count": null,
      "outputs": []
    },
    {
      "cell_type": "markdown",
      "source": [
        "### Setting up Dataset paths & Class-Related information"
      ],
      "metadata": {
        "id": "dBG1xC34G2SD"
      }
    },
    {
      "cell_type": "code",
      "source": [
        "TRAIN_SET_PATH = \"./vaccine_train_set.csv\"\n",
        "VALIDATION_SET_PATH = \"./vaccine_validation_set.csv\"\n",
        "\n",
        "NUM_CLASSES = 3\n",
        "CLASS_NAMES = ['Neutral', 'Anti-Vaccine', 'Pro-Vaccine']"
      ],
      "metadata": {
        "id": "o4VGS3Dtbl4S",
        "execution": {
          "iopub.status.busy": "2022-02-27T12:04:18.707834Z",
          "iopub.execute_input": "2022-02-27T12:04:18.708257Z",
          "iopub.status.idle": "2022-02-27T12:04:18.713979Z",
          "shell.execute_reply.started": "2022-02-27T12:04:18.708211Z",
          "shell.execute_reply": "2022-02-27T12:04:18.712903Z"
        },
        "trusted": true
      },
      "execution_count": null,
      "outputs": []
    },
    {
      "cell_type": "markdown",
      "source": [
        "### Necessary Imports"
      ],
      "metadata": {
        "id": "-g_lMIZVG2SI"
      }
    },
    {
      "cell_type": "code",
      "source": [
        "# Built-in Python libraries\n",
        "from typing import Callable, Iterable, List, Dict\n",
        "from numbers import Number\n",
        "import re\n",
        "import random\n",
        "import os\n",
        "\n",
        "# 3rd party libraries\n",
        "from tqdm import tqdm\n",
        "import numpy as np\n",
        "import pandas as pd\n",
        "import matplotlib.pyplot as plt\n",
        "\n",
        "# PyTorch libraries\n",
        "import torch\n",
        "import torch.nn as nn\n",
        "from torch.utils.data import DataLoader\n",
        "\n",
        "# Transformers libraries\n",
        "from transformers import BertTokenizer, BertModel\n",
        "\n",
        "# scikit-learn metrics\n",
        "from sklearn.metrics import f1_score, recall_score, precision_score, \\\n",
        "                            roc_curve, auc, ConfusionMatrixDisplay"
      ],
      "metadata": {
        "id": "f2_ciNnNbl4P",
        "execution": {
          "iopub.status.busy": "2022-02-27T12:04:18.715576Z",
          "iopub.execute_input": "2022-02-27T12:04:18.716741Z",
          "iopub.status.idle": "2022-02-27T12:04:21.772519Z",
          "shell.execute_reply.started": "2022-02-27T12:04:18.716694Z",
          "shell.execute_reply": "2022-02-27T12:04:21.771526Z"
        },
        "trusted": true
      },
      "execution_count": null,
      "outputs": []
    },
    {
      "cell_type": "markdown",
      "source": [
        "### Setting up hyperparameters & NN structure"
      ],
      "metadata": {
        "id": "frDcjCkiG2SK"
      }
    },
    {
      "cell_type": "code",
      "source": [
        "BERT_CLS_SIZE = 768\n",
        "if MODEL == MODEL_0:\n",
        "    LEARNING_RATE = 0.00001\n",
        "    BATCH_SIZE = 64\n",
        "    EPOCHS = 3\n",
        "    MAX_LENGTH = 100\n",
        "\n",
        "    HIDDEN_SIZES = [32 for _ in range(4)]\n",
        "    DROPOUT = 0.25\n",
        "elif MODEL == MODEL_1:\n",
        "    LEARNING_RATE = 0.005\n",
        "    BATCH_SIZE = 256\n",
        "    EPOCHS = 5\n",
        "    MAX_LENGTH = 100\n",
        "\n",
        "    HIDDEN_SIZES = [32 for _ in range(4)]\n",
        "    DROPOUT = 0.5\n",
        "elif MODEL == MODEL_2:\n",
        "    LEARNING_RATE = 0.005\n",
        "    BATCH_SIZE = 128\n",
        "    EPOCHS = 4\n",
        "    MAX_LENGTH = 100\n",
        "\n",
        "    HIDDEN_SIZES = [32 for _ in range(4)]\n",
        "    DROPOUT = 0.5\n",
        "elif MODEL == MODEL_3:\n",
        "    LEARNING_RATE = 0.005\n",
        "    BATCH_SIZE = 128\n",
        "    EPOCHS = 5\n",
        "    MAX_LENGTH = 100\n",
        "\n",
        "    HIDDEN_SIZES = [64 for _ in range(6)]\n",
        "    DROPOUT = 0.5\n",
        "elif MODEL == MODEL_4:\n",
        "    LEARNING_RATE = 0.0055\n",
        "    BATCH_SIZE = 256\n",
        "    EPOCHS = 12\n",
        "    MAX_LENGTH = 100\n",
        "\n",
        "    HIDDEN_SIZES = [64 for _ in range(3)]\n",
        "    DROPOUT = 0.5"
      ],
      "metadata": {
        "id": "LCZMyFwLbl4S",
        "execution": {
          "iopub.status.busy": "2022-02-27T12:04:21.775176Z",
          "iopub.execute_input": "2022-02-27T12:04:21.775404Z",
          "iopub.status.idle": "2022-02-27T12:04:21.788518Z",
          "shell.execute_reply.started": "2022-02-27T12:04:21.775374Z",
          "shell.execute_reply": "2022-02-27T12:04:21.787428Z"
        },
        "trusted": true
      },
      "execution_count": null,
      "outputs": []
    },
    {
      "cell_type": "markdown",
      "source": [
        "### Enabling GPU acceleration"
      ],
      "metadata": {
        "id": "QyK3Dj0iW8nq"
      }
    },
    {
      "cell_type": "code",
      "source": [
        "CPU_DEVICE = 'cpu'\n",
        "CUDA_DEVICE = 'cuda'\n",
        "DEVICE = CUDA_DEVICE if torch.cuda.is_available() else CPU_DEVICE"
      ],
      "metadata": {
        "id": "nSmoYVhjW5nY",
        "execution": {
          "iopub.status.busy": "2022-02-27T12:04:21.790592Z",
          "iopub.execute_input": "2022-02-27T12:04:21.791241Z",
          "iopub.status.idle": "2022-02-27T12:04:21.849701Z",
          "shell.execute_reply.started": "2022-02-27T12:04:21.791195Z",
          "shell.execute_reply": "2022-02-27T12:04:21.848323Z"
        },
        "trusted": true
      },
      "execution_count": null,
      "outputs": []
    },
    {
      "cell_type": "markdown",
      "source": [
        "### Setting custom seeds in pseudo-random generators for reproducability"
      ],
      "metadata": {
        "id": "_qMpmyxAG2SJ"
      }
    },
    {
      "cell_type": "code",
      "source": [
        "# The GPU-accelerated results cannot be reproduced, but this is the preferred seed.\n",
        "SEED = 256\n",
        "random.seed(SEED)\n",
        "np.random.seed(SEED)\n",
        "torch.manual_seed(SEED)\n",
        "\n",
        "torch.cuda.manual_seed(SEED)\n",
        "torch.backends.cudnn.deterministic = True\n",
        "os.environ['PYTHONHASHSEED'] = str(SEED)"
      ],
      "metadata": {
        "id": "f0FlIb_BiLd9",
        "execution": {
          "iopub.status.busy": "2022-02-27T12:04:21.854636Z",
          "iopub.execute_input": "2022-02-27T12:04:21.854895Z",
          "iopub.status.idle": "2022-02-27T12:04:21.864448Z",
          "shell.execute_reply.started": "2022-02-27T12:04:21.854855Z",
          "shell.execute_reply": "2022-02-27T12:04:21.863498Z"
        },
        "trusted": true
      },
      "execution_count": null,
      "outputs": []
    },
    {
      "cell_type": "markdown",
      "source": [
        "### Checking the CSV's for empty/null cells"
      ],
      "metadata": {
        "id": "niGs9FDGS7ua"
      }
    },
    {
      "cell_type": "code",
      "source": [
        "trainDF = pd.read_csv(TRAIN_SET_PATH)\n",
        "trainDF.isnull().sum()"
      ],
      "metadata": {
        "id": "T3svwaenBZsK",
        "outputId": "3822ea44-d619-45eb-8967-8f188b01dac7",
        "execution": {
          "iopub.status.busy": "2022-02-27T12:04:21.866269Z",
          "iopub.execute_input": "2022-02-27T12:04:21.867142Z",
          "iopub.status.idle": "2022-02-27T12:04:21.953781Z",
          "shell.execute_reply.started": "2022-02-27T12:04:21.867095Z",
          "shell.execute_reply": "2022-02-27T12:04:21.952755Z"
        },
        "trusted": true,
        "colab": {
          "base_uri": "https://localhost:8080/"
        }
      },
      "execution_count": null,
      "outputs": [
        {
          "output_type": "execute_result",
          "data": {
            "text/plain": [
              "Unnamed: 0    0\n",
              "tweet         0\n",
              "label         0\n",
              "dtype: int64"
            ]
          },
          "metadata": {},
          "execution_count": 8
        }
      ]
    },
    {
      "cell_type": "code",
      "source": [
        "validDF = pd.read_csv(VALIDATION_SET_PATH)\n",
        "validDF.isnull().sum()"
      ],
      "metadata": {
        "id": "sg6GNXGzBZsL",
        "outputId": "aa0a45a9-8beb-476e-cd8c-966969d14f5f",
        "execution": {
          "iopub.status.busy": "2022-02-27T12:04:21.955703Z",
          "iopub.execute_input": "2022-02-27T12:04:21.956342Z",
          "iopub.status.idle": "2022-02-27T12:04:21.981808Z",
          "shell.execute_reply.started": "2022-02-27T12:04:21.956292Z",
          "shell.execute_reply": "2022-02-27T12:04:21.980841Z"
        },
        "trusted": true,
        "colab": {
          "base_uri": "https://localhost:8080/"
        }
      },
      "execution_count": null,
      "outputs": [
        {
          "output_type": "execute_result",
          "data": {
            "text/plain": [
              "Unnamed: 0    0\n",
              "tweet         0\n",
              "label         0\n",
              "dtype: int64"
            ]
          },
          "metadata": {},
          "execution_count": 9
        }
      ]
    },
    {
      "cell_type": "markdown",
      "source": [
        "### Trimming the created data frames and extracting only the required data"
      ],
      "metadata": {
        "id": "TQhiG0FR31iI"
      }
    },
    {
      "cell_type": "code",
      "source": [
        "features = trainDF.drop(['label', 'Unnamed: 0'], axis=1)\n",
        "X_train = np.array([ar[0] for ar in features.values])\n",
        "trainLabels = trainDF['label'].values\n",
        "\n",
        "features = validDF.drop(['label', 'Unnamed: 0'], axis=1)\n",
        "X_valid = np.array([ar[0] for ar in features.values])\n",
        "validLabels = validDF['label'].values"
      ],
      "metadata": {
        "id": "qBPz2uZW3hui",
        "execution": {
          "iopub.status.busy": "2022-02-27T12:04:21.983665Z",
          "iopub.execute_input": "2022-02-27T12:04:21.984312Z",
          "iopub.status.idle": "2022-02-27T12:04:22.051862Z",
          "shell.execute_reply.started": "2022-02-27T12:04:21.984264Z",
          "shell.execute_reply": "2022-02-27T12:04:22.050702Z"
        },
        "trusted": true
      },
      "execution_count": null,
      "outputs": []
    },
    {
      "cell_type": "markdown",
      "source": [
        "### Creating a Dataset class"
      ],
      "metadata": {
        "id": "4flf5IQkEu2J"
      }
    },
    {
      "cell_type": "code",
      "source": [
        "bertTokenizer = BertTokenizer.from_pretrained('bert-base-uncased')\n",
        "def tokenizer(text: str):\n",
        "    return bertTokenizer(text, padding='max_length', max_length=MAX_LENGTH, truncation=True, return_tensors=\"pt\")\n",
        "\n",
        "class TweetDataset(torch.utils.data.Dataset):\n",
        "    def __init__(self, tweets, labels) -> None:\n",
        "        super().__init__()\n",
        "\n",
        "        self.labels = labels\n",
        "        self.tweets = [tokenizer(tweet) for tweet in tweets]\n",
        "\n",
        "    def __len__(self):\n",
        "        return len(self.tweets)\n",
        "\n",
        "    def __getitem__(self, index):\n",
        "        return self.tweets[index], self.labels[index]"
      ],
      "metadata": {
        "execution": {
          "iopub.status.busy": "2022-02-27T12:04:22.057598Z",
          "iopub.execute_input": "2022-02-27T12:04:22.057840Z",
          "iopub.status.idle": "2022-02-27T12:04:28.264530Z",
          "shell.execute_reply.started": "2022-02-27T12:04:22.057810Z",
          "shell.execute_reply": "2022-02-27T12:04:28.263581Z"
        },
        "trusted": true,
        "id": "TvZqs9vgEu2J"
      },
      "execution_count": null,
      "outputs": []
    },
    {
      "cell_type": "markdown",
      "source": [
        "### Creating the BERT Classifier"
      ],
      "metadata": {
        "id": "oXaZ4RDiG2SP"
      }
    },
    {
      "cell_type": "code",
      "source": [
        "class BertTweetClassifier(nn.Module):\n",
        "    def __init__(self) -> None:\n",
        "        super().__init__()\n",
        "        \n",
        "        self.bert = BertModel.from_pretrained('bert-base-uncased')\n",
        "        self.dropout = nn.Dropout(p=DROPOUT)\n",
        "        self.linear = nn.Linear(BERT_CLS_SIZE, NUM_CLASSES)\n",
        "        self.relu = nn.ReLU()\n",
        "\n",
        "    def forward(self, input, mask):\n",
        "        _, bertOut = self.bert(input_ids=input, attention_mask=mask, return_dict=False)\n",
        "        ffOut = self.linear(self.dropout(bertOut))\n",
        "\n",
        "        return self.relu(ffOut)"
      ],
      "metadata": {
        "id": "AHZkMUTgG2SP",
        "execution": {
          "iopub.status.busy": "2022-02-27T12:04:28.266077Z",
          "iopub.execute_input": "2022-02-27T12:04:28.266501Z",
          "iopub.status.idle": "2022-02-27T12:04:28.275591Z",
          "shell.execute_reply.started": "2022-02-27T12:04:28.266436Z",
          "shell.execute_reply": "2022-02-27T12:04:28.274570Z"
        },
        "trusted": true
      },
      "execution_count": null,
      "outputs": []
    },
    {
      "cell_type": "markdown",
      "source": [
        "### Training the Model"
      ],
      "metadata": {
        "id": "KafPfNY_G2SP"
      }
    },
    {
      "cell_type": "code",
      "source": [
        "def trainModel(model, optimizer, trainSetLoader, validSetLoader):\n",
        "    # Loss, F1 Score & Total Predictions after every epoch are stored here\n",
        "    lastEpochValidOutput = []\n",
        "    epochValidPredictions: List[int]\n",
        "    validF1: np.ndarray = np.empty(EPOCHS, dtype=float)\n",
        "    validErrors: np.ndarray = np.empty(EPOCHS, dtype=float)\n",
        "\n",
        "    trainF1: np.ndarray = np.empty(EPOCHS, dtype=float)\n",
        "    trainErrors: np.ndarray = np.empty(EPOCHS, dtype=float)\n",
        "    epochTrainPredictions: List[int]\n",
        "\n",
        "    # Epochs loop\n",
        "    for epoch in range(EPOCHS):\n",
        "        # Set model to train mode\n",
        "        trainEpochLabels = []\n",
        "        epochTrainPredictions = []\n",
        "        trainBatchLosses = []\n",
        "        trainBatchAccs = []\n",
        "\n",
        "        validEpochLabels = []\n",
        "        epochValidPredictions = []\n",
        "        validBatchLosses = []\n",
        "        validBatchAccs = []\n",
        "\n",
        "        model.train()\n",
        "\n",
        "        # Batch loop\n",
        "        for tweets, labels in trainSetLoader:\n",
        "            labels = labels.to(DEVICE)\n",
        "            inputIds = tweets['input_ids'].squeeze(1).to(DEVICE)\n",
        "            masks = tweets['attention_mask'].to(DEVICE)\n",
        "            # Make predictions for batch samples\n",
        "            predictions = model(inputIds, masks)\n",
        "\n",
        "            # Extract & store predicted labels and calculate accuracy\n",
        "            predictedLabels = getPredictedLabels(predictions)\n",
        "            epochTrainPredictions.extend(predictedLabels)\n",
        "            trainBatchAccs.append(calculateAccuracy(predictedLabels, labels))\n",
        "\n",
        "            # Run loss function, store loss & backpropagate\n",
        "            batchLoss = lossFunction(predictions, labels.long())\n",
        "            trainBatchLosses.append(batchLoss.item())\n",
        "\n",
        "            optimizer.zero_grad()\n",
        "\n",
        "            batchLoss.backward()\n",
        "\n",
        "            optimizer.step()\n",
        "            trainEpochLabels.extend(labels.cpu())\n",
        "            # Set model to evaluation mode\n",
        "\n",
        "        model.eval()\n",
        "        with torch.no_grad():\n",
        "            \n",
        "            for tweets, labels in validSetLoader:\n",
        "                labels = labels.to(DEVICE)\n",
        "                inputIds = tweets['input_ids'].squeeze(1).to(DEVICE)\n",
        "                masks = tweets['attention_mask'].to(DEVICE)\n",
        "                # Make predictions for batch samples\n",
        "                predictions = model(inputIds, masks)\n",
        "\n",
        "                # Extract & store predicted labels and calculate accuracy\n",
        "                predictedLabels = getPredictedLabels(predictions)\n",
        "                epochValidPredictions.extend(predictedLabels)\n",
        "                validBatchAccs.append(calculateAccuracy(predictedLabels, labels))\n",
        "\n",
        "                # Run loss function & store loss\n",
        "                batchLoss = lossFunction(predictions, labels.long())\n",
        "                validBatchLosses.append(batchLoss.item())\n",
        "\n",
        "                validEpochLabels.extend(labels.cpu())\n",
        "\n",
        "                if epoch == EPOCHS - 1:\n",
        "                    lastEpochValidOutput.extend(predictions.cpu())\n",
        "\n",
        "        # Find the total epoch loss & F1 Score for both sets\n",
        "        trainErrors[epoch] = sum(trainBatchLosses)/len(trainBatchLosses)\n",
        "        trainF1[epoch] = f1_score(trainEpochLabels, epochTrainPredictions, average=\"micro\")\n",
        "        \n",
        "        validErrors[epoch] = sum(validBatchLosses)/len(validBatchLosses)\n",
        "        validF1[epoch] = f1_score(validEpochLabels, epochValidPredictions, average=\"micro\")\n",
        "        \n",
        "        print(f\"Epoch {epoch:2} Train Acc = {sum(trainBatchAccs)/len(trainBatchAccs):.5f} Valid Acc = {sum(validBatchAccs)/len(validBatchAccs):.5f}\\r\")\n",
        "\n",
        "    return (validEpochLabels, epochValidPredictions, validF1, validErrors, lastEpochValidOutput,\n",
        "            trainEpochLabels, trainF1, trainErrors, epochTrainPredictions)"
      ],
      "metadata": {
        "id": "lnDp2G_nG2SP",
        "execution": {
          "iopub.status.busy": "2022-02-27T12:04:28.277632Z",
          "iopub.execute_input": "2022-02-27T12:04:28.278314Z",
          "iopub.status.idle": "2022-02-27T12:04:28.300956Z",
          "shell.execute_reply.started": "2022-02-27T12:04:28.278268Z",
          "shell.execute_reply": "2022-02-27T12:04:28.299750Z"
        },
        "trusted": true
      },
      "execution_count": null,
      "outputs": []
    },
    {
      "cell_type": "markdown",
      "source": [
        "### Converting the NN output to predictions\n",
        "We apply `log_softmax` to the output vector and map each vector to the index of the maximum element of the vector."
      ],
      "metadata": {
        "id": "MnqCBEZkXcjU"
      }
    },
    {
      "cell_type": "code",
      "source": [
        "def getPredictedLabels(predictions: torch.Tensor) -> np.ndarray:\n",
        "    softmaxLayerOut = torch.log_softmax(predictions, dim = 1)\n",
        "    _, labels = torch.max(softmaxLayerOut, dim = 1)\n",
        "    return labels.cpu().detach().numpy()"
      ],
      "metadata": {
        "id": "6VguOx9Lbl4X",
        "execution": {
          "iopub.status.busy": "2022-02-27T12:04:28.302690Z",
          "iopub.execute_input": "2022-02-27T12:04:28.303407Z",
          "iopub.status.idle": "2022-02-27T12:04:28.317491Z",
          "shell.execute_reply.started": "2022-02-27T12:04:28.303359Z",
          "shell.execute_reply": "2022-02-27T12:04:28.316521Z"
        },
        "trusted": true
      },
      "execution_count": null,
      "outputs": []
    },
    {
      "cell_type": "markdown",
      "source": [
        "### Calculating macro accuracy"
      ],
      "metadata": {
        "id": "jFdbXz97S7um"
      }
    },
    {
      "cell_type": "code",
      "source": [
        "def calculateAccuracy(predictedLabels: Iterable[Number], trueLabels: Iterable[Number]) -> float:    \n",
        "    correct = 0\n",
        "    for pred, true in zip(predictedLabels, trueLabels):\n",
        "        correct += int(pred == true)\n",
        "    \n",
        "    return correct/len(trueLabels)*100"
      ],
      "metadata": {
        "id": "9u1OkBcKbl4W",
        "execution": {
          "iopub.status.busy": "2022-02-27T12:04:28.319098Z",
          "iopub.execute_input": "2022-02-27T12:04:28.319527Z",
          "iopub.status.idle": "2022-02-27T12:04:28.329324Z",
          "shell.execute_reply.started": "2022-02-27T12:04:28.319449Z",
          "shell.execute_reply": "2022-02-27T12:04:28.328295Z"
        },
        "trusted": true
      },
      "execution_count": null,
      "outputs": []
    },
    {
      "cell_type": "markdown",
      "source": [
        "### Plotting a confusion matrix\n",
        "We can change the displayed labels (`0` -> `Neutral`, `1` -> `Anti-Vaccine`, `2` -> `Pro-Vaccine`) if desired."
      ],
      "metadata": {
        "id": "r_aRDUT_S7um"
      }
    },
    {
      "cell_type": "code",
      "source": [
        "def plotConfusionMatrix(trueLabels: Iterable[int], predictions:Iterable[int], title: str, displayLabels: Iterable[str]=None, axes: plt.Axes=None):\n",
        "    if axes is None:\n",
        "        _, axes = plt.subplots(1, 1, figsize=(6,5))\n",
        "    disp = ConfusionMatrixDisplay.from_predictions(trueLabels, predictions, cmap=plt.cm.Reds, ax=axes, colorbar=False)\n",
        "    if displayLabels is not None:\n",
        "        disp.ax_.set_xticklabels(displayLabels)\n",
        "        disp.ax_.set_yticklabels(displayLabels)\n",
        "    axes.set_xlabel('Classifier predicted labels', fontsize=11)\n",
        "    axes.set_ylabel('True labels', fontsize=11)\n",
        "    axes.set_title(title, fontsize=14)"
      ],
      "metadata": {
        "id": "81ZBEyMaL3BA",
        "execution": {
          "iopub.status.busy": "2022-02-27T12:04:28.332801Z",
          "iopub.execute_input": "2022-02-27T12:04:28.333043Z",
          "iopub.status.idle": "2022-02-27T12:04:28.341439Z",
          "shell.execute_reply.started": "2022-02-27T12:04:28.333014Z",
          "shell.execute_reply": "2022-02-27T12:04:28.340497Z"
        },
        "trusted": true
      },
      "execution_count": null,
      "outputs": []
    },
    {
      "cell_type": "markdown",
      "source": [
        "### Plotting F1 learning curves\n",
        "We calculate the F1 score on the Train and Validation sets after every epoch, to create the corresponding F1 learning curves."
      ],
      "metadata": {
        "id": "PmIfHN5HS7un"
      }
    },
    {
      "cell_type": "code",
      "source": [
        "def displayF1Curves(epochs: int, tScores: Iterable[Number], vScores: Iterable[Number]):\n",
        "\n",
        "    epochValues = [i for i in range(epochs)]\n",
        "\n",
        "    _, axes = plt.subplots(1, 1, figsize=(7, 6))\n",
        "    axes.grid()\n",
        "    axes.set_title('F1 Scores')\n",
        "    axes.plot(epochValues, tScores, \"-\", color=\"r\", label=\"Training Set score\")\n",
        "    axes.plot(epochValues, vScores, \"-\", color=\"g\", label=\"Validation Set score\")\n",
        "\n",
        "    yValues = np.concatenate((tScores, vScores))\n",
        "    axes.set_xlim((epochValues[0], epochValues[-1]))\n",
        "    axes.set_ylim(( round(min(yValues) - 0.05, 1), round(max(yValues) + 0.05, 1) ))\n",
        "    axes.legend(loc=\"best\")\n",
        "\n",
        "    plt.show()"
      ],
      "metadata": {
        "id": "ECwOGJcWMJx9",
        "execution": {
          "iopub.status.busy": "2022-02-27T12:04:28.343393Z",
          "iopub.execute_input": "2022-02-27T12:04:28.344029Z",
          "iopub.status.idle": "2022-02-27T12:04:28.358376Z",
          "shell.execute_reply.started": "2022-02-27T12:04:28.343970Z",
          "shell.execute_reply": "2022-02-27T12:04:28.357329Z"
        },
        "trusted": true
      },
      "execution_count": null,
      "outputs": []
    },
    {
      "cell_type": "markdown",
      "source": [
        "### Calculating metric scores on the trained model predictions\n",
        "- For each different training set size, we calculate the **F1**, **Precision** and **Recall** scores\n",
        "of the predictions made by the classifier after the end of the train phase, on the training & validation sets.\n",
        "- We store these scores in two `dict` objects which we return."
      ],
      "metadata": {
        "id": "6Xb7hc0jS7un"
      }
    },
    {
      "cell_type": "code",
      "source": [
        "F1_KEY = \"F1\"\n",
        "PREC_KEY = \"Precision\"\n",
        "REC_KEY = \"Recall\"\n",
        "\n",
        "def metricScores(trainPredictions: Iterable[int], validPredictions: Iterable[int], trainLabels: Iterable[int], validLabels: Iterable[int]):\n",
        "    tScores = {}\n",
        "    vScores = {}\n",
        "    tScores[F1_KEY] = round(f1_score(trainLabels, trainPredictions, average=\"micro\"), 4)\n",
        "    tScores[PREC_KEY] = round(precision_score(trainLabels, trainPredictions, average=\"macro\"), 4)\n",
        "    tScores[REC_KEY] = round(recall_score(trainLabels, trainPredictions, average=\"macro\"), 4)\n",
        "\n",
        "    vScores[F1_KEY] = round(f1_score(validLabels, validPredictions, average=\"micro\"), 4)\n",
        "    vScores[PREC_KEY] = round(precision_score(validLabels, validPredictions, average=\"macro\"), 4)\n",
        "    vScores[REC_KEY] = round(recall_score(validLabels, validPredictions, average=\"macro\"), 4)\n",
        "    \n",
        "    return tScores, vScores"
      ],
      "metadata": {
        "id": "jiZFFV4YMWqD",
        "execution": {
          "iopub.status.busy": "2022-02-27T12:04:28.359935Z",
          "iopub.execute_input": "2022-02-27T12:04:28.360428Z",
          "iopub.status.idle": "2022-02-27T12:04:28.372376Z",
          "shell.execute_reply.started": "2022-02-27T12:04:28.360382Z",
          "shell.execute_reply": "2022-02-27T12:04:28.371315Z"
        },
        "trusted": true
      },
      "execution_count": null,
      "outputs": []
    },
    {
      "cell_type": "markdown",
      "source": [
        "### Getting the final scores in a data frame\n",
        "We place the scores of the predictions made after the end of training in a data frame for better readability."
      ],
      "metadata": {
        "id": "jG2XAn41S7uo"
      }
    },
    {
      "cell_type": "code",
      "source": [
        "def metricStatsDF(tScores: Dict[str, Number], vScores: Dict[str, Number]):\n",
        "    metricStats: Dict[str, List[Number]] = {}\n",
        "    for metric in tScores:\n",
        "        metricStats[metric] = [tScores[metric], vScores[metric]]\n",
        "    \n",
        "    return pd.DataFrame(metricStats, index=['Train', 'Validation'])"
      ],
      "metadata": {
        "id": "kYqeBKkyMXQp",
        "execution": {
          "iopub.status.busy": "2022-02-27T12:04:28.374564Z",
          "iopub.execute_input": "2022-02-27T12:04:28.374901Z",
          "iopub.status.idle": "2022-02-27T12:04:28.386608Z",
          "shell.execute_reply.started": "2022-02-27T12:04:28.374856Z",
          "shell.execute_reply": "2022-02-27T12:04:28.385673Z"
        },
        "trusted": true
      },
      "execution_count": null,
      "outputs": []
    },
    {
      "cell_type": "markdown",
      "source": [
        "### Plotting Loss curves for the after-training predictions on the Training & Validation sets"
      ],
      "metadata": {
        "id": "4Io36_pZS7up"
      }
    },
    {
      "cell_type": "code",
      "source": [
        "def plotLossCurves(trainLosses: Iterable[Number], validationLosses: Iterable[Number], axes: plt.Axes = None):\n",
        "    if axes is None:\n",
        "        _, axes = plt.subplots(1, 1, figsize=(6,5))\n",
        "    \n",
        "    axes.grid()\n",
        "    axes.set_title(\"Loss Curves\", fontsize=14)\n",
        "    axes.set_xlabel('Epochs', fontsize=12)\n",
        "    axes.set_ylabel('Loss', fontsize=12)\n",
        "    \n",
        "    epochs = [i for i in range(len(validationLosses))]\n",
        "\n",
        "    axes.plot(epochs, trainLosses, label='Train Set')\n",
        "    axes.plot(epochs, validationLosses, label='Validation Set')\n",
        "\n",
        "    axes.legend(loc=\"best\")\n",
        "    plt.show()"
      ],
      "metadata": {
        "id": "jELCfu9tMm8W",
        "execution": {
          "iopub.status.busy": "2022-02-27T12:04:28.388535Z",
          "iopub.execute_input": "2022-02-27T12:04:28.388891Z",
          "iopub.status.idle": "2022-02-27T12:04:28.400235Z",
          "shell.execute_reply.started": "2022-02-27T12:04:28.388845Z",
          "shell.execute_reply": "2022-02-27T12:04:28.399137Z"
        },
        "trusted": true
      },
      "execution_count": null,
      "outputs": []
    },
    {
      "cell_type": "markdown",
      "source": [
        "### Creating & Plotting ROC Curves for the Validation Set predictions\n",
        "We mirror the usage of `roc_curve` from scikit-learn for multiple classes, as demonstrated [here](https://scikit-learn.org/stable/auto_examples/model_selection/plot_roc.html#plot-roc-curves-for-the-multiclass-problem)."
      ],
      "metadata": {
        "id": "oDgEiYn0S7up"
      }
    },
    {
      "cell_type": "code",
      "source": [
        "def createRocCurves(trueLabels: Iterable[int] , predictions: torch.Tensor):\n",
        "    labels = np.zeros((len(trueLabels), NUM_CLASSES), dtype=int)\n",
        "    for index, label in enumerate(trueLabels):\n",
        "        labels[index][label] = 1\n",
        "    scores = torch.softmax(predictions, dim = 1).detach().numpy()\n",
        "\n",
        "    fpr: Dict[int, np.ndarray] = {}\n",
        "    tpr: Dict[int, np.ndarray] = {}\n",
        "    roc_auc: Dict[int, np.ndarray] = {}\n",
        "    for i in range(NUM_CLASSES):\n",
        "        fpr[i], tpr[i], _ = roc_curve(labels[:, i], scores[:, i], drop_intermediate=True)\n",
        "        roc_auc[i] = auc(fpr[i], tpr[i])\n",
        "    \n",
        "    return fpr, tpr, roc_auc\n",
        "\n",
        "def plotRocCurves(fpRates: Dict[int, np.ndarray], tpRates: Dict[int, np.ndarray], aucScores: Dict[int, np.ndarray]):\n",
        "    plt.figure(figsize=(7,7))\n",
        "    plt.grid()\n",
        "\n",
        "    for i in range(NUM_CLASSES):\n",
        "        plt.plot(\n",
        "            fpRates[i],\n",
        "            tpRates[i],\n",
        "            label=f\"{CLASS_NAMES[i]} (area = {aucScores[i]:0.2f})\"\n",
        "        )\n",
        "\n",
        "    plt.plot([0, 1], [0, 1], \"k--\")\n",
        "    plt.xlim([0.0, 1.0])\n",
        "    plt.ylim([0.0, 1.05])\n",
        "    plt.xlabel(\"False Positive Rate\")\n",
        "    plt.ylabel(\"True Positive Rate\")\n",
        "    plt.title(\"ROC Curves\")\n",
        "    plt.legend(loc=\"lower right\")\n",
        "    plt.show()\n",
        "    pass"
      ],
      "metadata": {
        "id": "ZMswk57OMs0N",
        "execution": {
          "iopub.status.busy": "2022-02-27T12:04:28.402004Z",
          "iopub.execute_input": "2022-02-27T12:04:28.402578Z",
          "iopub.status.idle": "2022-02-27T12:04:28.417770Z",
          "shell.execute_reply.started": "2022-02-27T12:04:28.402534Z",
          "shell.execute_reply": "2022-02-27T12:04:28.416624Z"
        },
        "trusted": true
      },
      "execution_count": null,
      "outputs": []
    },
    {
      "cell_type": "markdown",
      "source": [
        "## Execution Flow"
      ],
      "metadata": {
        "id": "eyWugm8_I5tS"
      }
    },
    {
      "cell_type": "code",
      "source": [
        "trainDataset = TweetDataset(X_train, trainLabels)\n",
        "trainSetLoader = DataLoader(trainDataset, batch_size=BATCH_SIZE, shuffle=False)\n",
        "\n",
        "validDataset = TweetDataset(X_valid, validLabels)\n",
        "validSetLoader = DataLoader(validDataset, batch_size=BATCH_SIZE, shuffle=False)\n",
        "\n",
        "model = BertTweetClassifier().to(DEVICE)\n",
        "lossFunction = nn.CrossEntropyLoss()\n",
        "optimizer = torch.optim.Adam(model.parameters(), lr=LEARNING_RATE)"
      ],
      "metadata": {
        "id": "yhLCJyYC5mJn",
        "outputId": "ea9ea38c-b144-4458-fa17-7154c7c724d6",
        "execution": {
          "iopub.status.busy": "2022-02-27T12:04:28.419544Z",
          "iopub.execute_input": "2022-02-27T12:04:28.420615Z",
          "iopub.status.idle": "2022-02-27T12:05:13.046607Z",
          "shell.execute_reply.started": "2022-02-27T12:04:28.420485Z",
          "shell.execute_reply": "2022-02-27T12:05:13.045308Z"
        },
        "trusted": true,
        "colab": {
          "base_uri": "https://localhost:8080/"
        }
      },
      "execution_count": null,
      "outputs": [
        {
          "output_type": "stream",
          "name": "stderr",
          "text": [
            "Some weights of the model checkpoint at bert-base-uncased were not used when initializing BertModel: ['cls.predictions.transform.LayerNorm.bias', 'cls.predictions.transform.dense.weight', 'cls.seq_relationship.weight', 'cls.predictions.decoder.weight', 'cls.seq_relationship.bias', 'cls.predictions.bias', 'cls.predictions.transform.dense.bias', 'cls.predictions.transform.LayerNorm.weight']\n",
            "- This IS expected if you are initializing BertModel from the checkpoint of a model trained on another task or with another architecture (e.g. initializing a BertForSequenceClassification model from a BertForPreTraining model).\n",
            "- This IS NOT expected if you are initializing BertModel from the checkpoint of a model that you expect to be exactly identical (initializing a BertForSequenceClassification model from a BertForSequenceClassification model).\n"
          ]
        }
      ]
    },
    {
      "cell_type": "code",
      "source": [
        "(validItrlabels,\n",
        " validPredictions,\n",
        " validF1,\n",
        " validErrors,\n",
        " validOutput,\n",
        " trainLabels,\n",
        " trainF1,\n",
        " trainErrors,\n",
        " epochTrainPredictions) = trainModel(model, optimizer, trainSetLoader, validSetLoader)"
      ],
      "metadata": {
        "id": "MqI5uI7Ebl4Y",
        "outputId": "1aaf6544-3c84-4bf2-ec37-1ebc7d6fc4be",
        "execution": {
          "iopub.status.busy": "2022-02-27T12:05:13.048210Z",
          "iopub.execute_input": "2022-02-27T12:05:13.048588Z"
        },
        "trusted": true,
        "colab": {
          "base_uri": "https://localhost:8080/"
        }
      },
      "execution_count": null,
      "outputs": [
        {
          "output_type": "stream",
          "name": "stdout",
          "text": [
            "Epoch  0 Train Acc = 65.24125 Valid Acc = 71.97214\n",
            "Epoch  1 Train Acc = 74.00000 Valid Acc = 75.53530\n",
            "Epoch  2 Train Acc = 79.41125 Valid Acc = 76.34135\n"
          ]
        }
      ]
    },
    {
      "cell_type": "code",
      "source": [
        "_, ax = plt.subplots(1, 2, figsize=(13,5))\n",
        "plotConfusionMatrix(validItrlabels, validPredictions, 'Validation Set', CLASS_NAMES, ax[0])\n",
        "plotConfusionMatrix(trainLabels, epochTrainPredictions, 'Train Set', CLASS_NAMES, ax[1])\n",
        "plt.show()"
      ],
      "metadata": {
        "id": "A8Tj6JydLWrb",
        "trusted": true,
        "colab": {
          "base_uri": "https://localhost:8080/",
          "height": 292
        },
        "outputId": "0251a5d9-4add-46b0-90c2-3a079dcc83a6"
      },
      "execution_count": null,
      "outputs": [
        {
          "output_type": "display_data",
          "data": {
            "image/png": "[encoded data removed]",
            "text/plain": [
              "<Figure size 936x360 with 2 Axes>"
            ]
          },
          "metadata": {
            "needs_background": "light"
          }
        }
      ]
    },
    {
      "cell_type": "code",
      "source": [
        "#displayF1Curves(EPOCHS, trainF1, validF1)"
      ],
      "metadata": {
        "id": "ebOZdOGJMF-h",
        "trusted": true
      },
      "execution_count": null,
      "outputs": []
    },
    {
      "cell_type": "code",
      "source": [
        "scores = metricScores(epochTrainPredictions, validPredictions, trainLabels, validItrlabels)\n",
        "metricStatsDF(*scores)"
      ],
      "metadata": {
        "id": "7v42C7FlMUNo",
        "trusted": true,
        "colab": {
          "base_uri": "https://localhost:8080/",
          "height": 112
        },
        "outputId": "45c8b857-7c7d-4db5-eed3-802f836255d0"
      },
      "execution_count": null,
      "outputs": [
        {
          "output_type": "execute_result",
          "data": {
            "text/html": [
              "\n",
              "  <div id=\"df-65a8b14f-7ca0-4f41-9d8f-459c4d16ef7a\">\n",
              "    <div class=\"colab-df-container\">\n",
              "      <div>\n",
              "<style scoped>\n",
              "    .dataframe tbody tr th:only-of-type {\n",
              "        vertical-align: middle;\n",
              "    }\n",
              "\n",
              "    .dataframe tbody tr th {\n",
              "        vertical-align: top;\n",
              "    }\n",
              "\n",
              "    .dataframe thead th {\n",
              "        text-align: right;\n",
              "    }\n",
              "</style>\n",
              "<table border=\"1\" class=\"dataframe\">\n",
              "  <thead>\n",
              "    <tr style=\"text-align: right;\">\n",
              "      <th></th>\n",
              "      <th>F1</th>\n",
              "      <th>Precision</th>\n",
              "      <th>Recall</th>\n",
              "    </tr>\n",
              "  </thead>\n",
              "  <tbody>\n",
              "    <tr>\n",
              "      <th>Train</th>\n",
              "      <td>0.7941</td>\n",
              "      <td>0.7586</td>\n",
              "      <td>0.7304</td>\n",
              "    </tr>\n",
              "    <tr>\n",
              "      <th>Validation</th>\n",
              "      <td>0.7621</td>\n",
              "      <td>0.7201</td>\n",
              "      <td>0.7438</td>\n",
              "    </tr>\n",
              "  </tbody>\n",
              "</table>\n",
              "</div>\n",
              "      <button class=\"colab-df-convert\" onclick=\"convertToInteractive('df-65a8b14f-7ca0-4f41-9d8f-459c4d16ef7a')\"\n",
              "              title=\"Convert this dataframe to an interactive table.\"\n",
              "              style=\"display:none;\">\n",
              "        \n",
              "  <svg xmlns=\"http://www.w3.org/2000/svg\" height=\"24px\"viewBox=\"0 0 24 24\"\n",
              "       width=\"24px\">\n",
              "    <path d=\"M0 0h24v24H0V0z\" fill=\"none\"/>\n",
              "    <path d=\"M18.56 5.44l.94 2.06.94-2.06 2.06-.94-2.06-.94-.94-2.06-.94 2.06-2.06.94zm-11 1L8.5 8.5l.94-2.06 2.06-.94-2.06-.94L8.5 2.5l-.94 2.06-2.06.94zm10 10l.94 2.06.94-2.06 2.06-.94-2.06-.94-.94-2.06-.94 2.06-2.06.94z\"/><path d=\"M17.41 7.96l-1.37-1.37c-.4-.4-.92-.59-1.43-.59-.52 0-1.04.2-1.43.59L10.3 9.45l-7.72 7.72c-.78.78-.78 2.05 0 2.83L4 21.41c.39.39.9.59 1.41.59.51 0 1.02-.2 1.41-.59l7.78-7.78 2.81-2.81c.8-.78.8-2.07 0-2.86zM5.41 20L4 18.59l7.72-7.72 1.47 1.35L5.41 20z\"/>\n",
              "  </svg>\n",
              "      </button>\n",
              "      \n",
              "  <style>\n",
              "    .colab-df-container {\n",
              "      display:flex;\n",
              "      flex-wrap:wrap;\n",
              "      gap: 12px;\n",
              "    }\n",
              "\n",
              "    .colab-df-convert {\n",
              "      background-color: #E8F0FE;\n",
              "      border: none;\n",
              "      border-radius: 50%;\n",
              "      cursor: pointer;\n",
              "      display: none;\n",
              "      fill: #1967D2;\n",
              "      height: 32px;\n",
              "      padding: 0 0 0 0;\n",
              "      width: 32px;\n",
              "    }\n",
              "\n",
              "    .colab-df-convert:hover {\n",
              "      background-color: #E2EBFA;\n",
              "      box-shadow: 0px 1px 2px rgba(60, 64, 67, 0.3), 0px 1px 3px 1px rgba(60, 64, 67, 0.15);\n",
              "      fill: #174EA6;\n",
              "    }\n",
              "\n",
              "    [theme=dark] .colab-df-convert {\n",
              "      background-color: #3B4455;\n",
              "      fill: #D2E3FC;\n",
              "    }\n",
              "\n",
              "    [theme=dark] .colab-df-convert:hover {\n",
              "      background-color: #434B5C;\n",
              "      box-shadow: 0px 1px 3px 1px rgba(0, 0, 0, 0.15);\n",
              "      filter: drop-shadow(0px 1px 2px rgba(0, 0, 0, 0.3));\n",
              "      fill: #FFFFFF;\n",
              "    }\n",
              "  </style>\n",
              "\n",
              "      <script>\n",
              "        const buttonEl =\n",
              "          document.querySelector('#df-65a8b14f-7ca0-4f41-9d8f-459c4d16ef7a button.colab-df-convert');\n",
              "        buttonEl.style.display =\n",
              "          google.colab.kernel.accessAllowed ? 'block' : 'none';\n",
              "\n",
              "        async function convertToInteractive(key) {\n",
              "          const element = document.querySelector('#df-65a8b14f-7ca0-4f41-9d8f-459c4d16ef7a');\n",
              "          const dataTable =\n",
              "            await google.colab.kernel.invokeFunction('convertToInteractive',\n",
              "                                                     [key], {});\n",
              "          if (!dataTable) return;\n",
              "\n",
              "          const docLinkHtml = 'Like what you see? Visit the ' +\n",
              "            '<a target=\"_blank\" href=https://colab.research.google.com/notebooks/data_table.ipynb>data table notebook</a>'\n",
              "            + ' to learn more about interactive tables.';\n",
              "          element.innerHTML = '';\n",
              "          dataTable['output_type'] = 'display_data';\n",
              "          await google.colab.output.renderOutput(dataTable, element);\n",
              "          const docLink = document.createElement('div');\n",
              "          docLink.innerHTML = docLinkHtml;\n",
              "          element.appendChild(docLink);\n",
              "        }\n",
              "      </script>\n",
              "    </div>\n",
              "  </div>\n",
              "  "
            ],
            "text/plain": [
              "                F1  Precision  Recall\n",
              "Train       0.7941     0.7586  0.7304\n",
              "Validation  0.7621     0.7201  0.7438"
            ]
          },
          "metadata": {},
          "execution_count": 26
        }
      ]
    },
    {
      "cell_type": "code",
      "source": [
        "#plotLossCurves(trainErrors, validErrors)"
      ],
      "metadata": {
        "id": "FBm1_QAFMlAd",
        "trusted": true
      },
      "execution_count": null,
      "outputs": []
    },
    {
      "cell_type": "code",
      "source": [
        "validOutputTensor = torch.empty(size=(len(validOutput), NUM_CLASSES))\n",
        "for i, output in enumerate(validOutput):\n",
        "    validOutputTensor[i] = output\n",
        "rocScores = createRocCurves(torch.tensor(validItrlabels).int(), validOutputTensor)\n",
        "plotRocCurves(*rocScores)"
      ],
      "metadata": {
        "id": "FvcK45lCMvoW",
        "trusted": true,
        "colab": {
          "base_uri": "https://localhost:8080/",
          "height": 458
        },
        "outputId": "4e0ad67b-c5fe-41d8-9a1b-ae6b2421ec73"
      },
      "execution_count": null,
      "outputs": [
        {
          "output_type": "display_data",
          "data": {
            "image/png": "[encoded data removed]",
            "text/plain": [
              "<Figure size 504x504 with 1 Axes>"
            ]
          },
          "metadata": {
            "needs_background": "light"
          }
        }
      ]
    }
  ]
}