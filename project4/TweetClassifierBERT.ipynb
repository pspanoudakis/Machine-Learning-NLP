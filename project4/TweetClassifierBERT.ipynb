{
  "metadata": {
    "kernelspec": {
      "language": "python",
      "display_name": "Python 3",
      "name": "python3"
    },
    "language_info": {
      "name": "python",
      "version": "3.7.12",
      "mimetype": "text/x-python",
      "codemirror_mode": {
        "name": "ipython",
        "version": 3
      },
      "pygments_lexer": "ipython3",
      "nbconvert_exporter": "python",
      "file_extension": ".py"
    },
    "colab": {
      "name": "bert_test.ipynb",
      "provenance": [],
      "collapsed_sections": []
    },
    "accelerator": "GPU",
    "widgets": {
      "application/vnd.jupyter.widget-state+json": {
        "d73bf64ca38147628aed366d73faf8c2": {
          "model_module": "@jupyter-widgets/controls",
          "model_name": "HBoxModel",
          "model_module_version": "1.5.0",
          "state": {
            "_view_name": "HBoxView",
            "_dom_classes": [],
            "_model_name": "HBoxModel",
            "_view_module": "@jupyter-widgets/controls",
            "_model_module_version": "1.5.0",
            "_view_count": null,
            "_view_module_version": "1.5.0",
            "box_style": "",
            "layout": "IPY_MODEL_68cd6b0629344642befea7be0025b341",
            "_model_module": "@jupyter-widgets/controls",
            "children": [
              "IPY_MODEL_f8a4976b1d834750b662ee26aefe9bc4",
              "IPY_MODEL_d3a15ecd61124116874fa50bb06c719c",
              "IPY_MODEL_f77217d906414ed694b960c72377c574"
            ]
          }
        },
        "68cd6b0629344642befea7be0025b341": {
          "model_module": "@jupyter-widgets/base",
          "model_name": "LayoutModel",
          "model_module_version": "1.2.0",
          "state": {
            "_view_name": "LayoutView",
            "grid_template_rows": null,
            "right": null,
            "justify_content": null,
            "_view_module": "@jupyter-widgets/base",
            "overflow": null,
            "_model_module_version": "1.2.0",
            "_view_count": null,
            "flex_flow": null,
            "width": null,
            "min_width": null,
            "border": null,
            "align_items": null,
            "bottom": null,
            "_model_module": "@jupyter-widgets/base",
            "top": null,
            "grid_column": null,
            "overflow_y": null,
            "overflow_x": null,
            "grid_auto_flow": null,
            "grid_area": null,
            "grid_template_columns": null,
            "flex": null,
            "_model_name": "LayoutModel",
            "justify_items": null,
            "grid_row": null,
            "max_height": null,
            "align_content": null,
            "visibility": null,
            "align_self": null,
            "height": null,
            "min_height": null,
            "padding": null,
            "grid_auto_rows": null,
            "grid_gap": null,
            "max_width": null,
            "order": null,
            "_view_module_version": "1.2.0",
            "grid_template_areas": null,
            "object_position": null,
            "object_fit": null,
            "grid_auto_columns": null,
            "margin": null,
            "display": null,
            "left": null
          }
        },
        "f8a4976b1d834750b662ee26aefe9bc4": {
          "model_module": "@jupyter-widgets/controls",
          "model_name": "HTMLModel",
          "model_module_version": "1.5.0",
          "state": {
            "_view_name": "HTMLView",
            "style": "IPY_MODEL_446b22c17835406cb6c8963700c9c7d9",
            "_dom_classes": [],
            "description": "",
            "_model_name": "HTMLModel",
            "placeholder": "​",
            "_view_module": "@jupyter-widgets/controls",
            "_model_module_version": "1.5.0",
            "value": "Downloading: 100%",
            "_view_count": null,
            "_view_module_version": "1.5.0",
            "description_tooltip": null,
            "_model_module": "@jupyter-widgets/controls",
            "layout": "IPY_MODEL_22ec7a32be394cd5bd9ee4386a64c5b8"
          }
        },
        "d3a15ecd61124116874fa50bb06c719c": {
          "model_module": "@jupyter-widgets/controls",
          "model_name": "FloatProgressModel",
          "model_module_version": "1.5.0",
          "state": {
            "_view_name": "ProgressView",
            "style": "IPY_MODEL_776508312454457f89fb3400dc12b33d",
            "_dom_classes": [],
            "description": "",
            "_model_name": "FloatProgressModel",
            "bar_style": "success",
            "max": 28,
            "_view_module": "@jupyter-widgets/controls",
            "_model_module_version": "1.5.0",
            "value": 28,
            "_view_count": null,
            "_view_module_version": "1.5.0",
            "orientation": "horizontal",
            "min": 0,
            "description_tooltip": null,
            "_model_module": "@jupyter-widgets/controls",
            "layout": "IPY_MODEL_d016761433874c8eb95726945e5657fb"
          }
        },
        "f77217d906414ed694b960c72377c574": {
          "model_module": "@jupyter-widgets/controls",
          "model_name": "HTMLModel",
          "model_module_version": "1.5.0",
          "state": {
            "_view_name": "HTMLView",
            "style": "IPY_MODEL_ed1d7ba6030e44ec93ee3112455f39da",
            "_dom_classes": [],
            "description": "",
            "_model_name": "HTMLModel",
            "placeholder": "​",
            "_view_module": "@jupyter-widgets/controls",
            "_model_module_version": "1.5.0",
            "value": " 28.0/28.0 [00:00&lt;00:00, 896B/s]",
            "_view_count": null,
            "_view_module_version": "1.5.0",
            "description_tooltip": null,
            "_model_module": "@jupyter-widgets/controls",
            "layout": "IPY_MODEL_f7202e4be3cf43e9888d964fa8a7dd50"
          }
        },
        "446b22c17835406cb6c8963700c9c7d9": {
          "model_module": "@jupyter-widgets/controls",
          "model_name": "DescriptionStyleModel",
          "model_module_version": "1.5.0",
          "state": {
            "_view_name": "StyleView",
            "_model_name": "DescriptionStyleModel",
            "description_width": "",
            "_view_module": "@jupyter-widgets/base",
            "_model_module_version": "1.5.0",
            "_view_count": null,
            "_view_module_version": "1.2.0",
            "_model_module": "@jupyter-widgets/controls"
          }
        },
        "22ec7a32be394cd5bd9ee4386a64c5b8": {
          "model_module": "@jupyter-widgets/base",
          "model_name": "LayoutModel",
          "model_module_version": "1.2.0",
          "state": {
            "_view_name": "LayoutView",
            "grid_template_rows": null,
            "right": null,
            "justify_content": null,
            "_view_module": "@jupyter-widgets/base",
            "overflow": null,
            "_model_module_version": "1.2.0",
            "_view_count": null,
            "flex_flow": null,
            "width": null,
            "min_width": null,
            "border": null,
            "align_items": null,
            "bottom": null,
            "_model_module": "@jupyter-widgets/base",
            "top": null,
            "grid_column": null,
            "overflow_y": null,
            "overflow_x": null,
            "grid_auto_flow": null,
            "grid_area": null,
            "grid_template_columns": null,
            "flex": null,
            "_model_name": "LayoutModel",
            "justify_items": null,
            "grid_row": null,
            "max_height": null,
            "align_content": null,
            "visibility": null,
            "align_self": null,
            "height": null,
            "min_height": null,
            "padding": null,
            "grid_auto_rows": null,
            "grid_gap": null,
            "max_width": null,
            "order": null,
            "_view_module_version": "1.2.0",
            "grid_template_areas": null,
            "object_position": null,
            "object_fit": null,
            "grid_auto_columns": null,
            "margin": null,
            "display": null,
            "left": null
          }
        },
        "776508312454457f89fb3400dc12b33d": {
          "model_module": "@jupyter-widgets/controls",
          "model_name": "ProgressStyleModel",
          "model_module_version": "1.5.0",
          "state": {
            "_view_name": "StyleView",
            "_model_name": "ProgressStyleModel",
            "description_width": "",
            "_view_module": "@jupyter-widgets/base",
            "_model_module_version": "1.5.0",
            "_view_count": null,
            "_view_module_version": "1.2.0",
            "bar_color": null,
            "_model_module": "@jupyter-widgets/controls"
          }
        },
        "d016761433874c8eb95726945e5657fb": {
          "model_module": "@jupyter-widgets/base",
          "model_name": "LayoutModel",
          "model_module_version": "1.2.0",
          "state": {
            "_view_name": "LayoutView",
            "grid_template_rows": null,
            "right": null,
            "justify_content": null,
            "_view_module": "@jupyter-widgets/base",
            "overflow": null,
            "_model_module_version": "1.2.0",
            "_view_count": null,
            "flex_flow": null,
            "width": null,
            "min_width": null,
            "border": null,
            "align_items": null,
            "bottom": null,
            "_model_module": "@jupyter-widgets/base",
            "top": null,
            "grid_column": null,
            "overflow_y": null,
            "overflow_x": null,
            "grid_auto_flow": null,
            "grid_area": null,
            "grid_template_columns": null,
            "flex": null,
            "_model_name": "LayoutModel",
            "justify_items": null,
            "grid_row": null,
            "max_height": null,
            "align_content": null,
            "visibility": null,
            "align_self": null,
            "height": null,
            "min_height": null,
            "padding": null,
            "grid_auto_rows": null,
            "grid_gap": null,
            "max_width": null,
            "order": null,
            "_view_module_version": "1.2.0",
            "grid_template_areas": null,
            "object_position": null,
            "object_fit": null,
            "grid_auto_columns": null,
            "margin": null,
            "display": null,
            "left": null
          }
        },
        "ed1d7ba6030e44ec93ee3112455f39da": {
          "model_module": "@jupyter-widgets/controls",
          "model_name": "DescriptionStyleModel",
          "model_module_version": "1.5.0",
          "state": {
            "_view_name": "StyleView",
            "_model_name": "DescriptionStyleModel",
            "description_width": "",
            "_view_module": "@jupyter-widgets/base",
            "_model_module_version": "1.5.0",
            "_view_count": null,
            "_view_module_version": "1.2.0",
            "_model_module": "@jupyter-widgets/controls"
          }
        },
        "f7202e4be3cf43e9888d964fa8a7dd50": {
          "model_module": "@jupyter-widgets/base",
          "model_name": "LayoutModel",
          "model_module_version": "1.2.0",
          "state": {
            "_view_name": "LayoutView",
            "grid_template_rows": null,
            "right": null,
            "justify_content": null,
            "_view_module": "@jupyter-widgets/base",
            "overflow": null,
            "_model_module_version": "1.2.0",
            "_view_count": null,
            "flex_flow": null,
            "width": null,
            "min_width": null,
            "border": null,
            "align_items": null,
            "bottom": null,
            "_model_module": "@jupyter-widgets/base",
            "top": null,
            "grid_column": null,
            "overflow_y": null,
            "overflow_x": null,
            "grid_auto_flow": null,
            "grid_area": null,
            "grid_template_columns": null,
            "flex": null,
            "_model_name": "LayoutModel",
            "justify_items": null,
            "grid_row": null,
            "max_height": null,
            "align_content": null,
            "visibility": null,
            "align_self": null,
            "height": null,
            "min_height": null,
            "padding": null,
            "grid_auto_rows": null,
            "grid_gap": null,
            "max_width": null,
            "order": null,
            "_view_module_version": "1.2.0",
            "grid_template_areas": null,
            "object_position": null,
            "object_fit": null,
            "grid_auto_columns": null,
            "margin": null,
            "display": null,
            "left": null
          }
        },
        "53dac853c2f24071a715a9e2a250582f": {
          "model_module": "@jupyter-widgets/controls",
          "model_name": "HBoxModel",
          "model_module_version": "1.5.0",
          "state": {
            "_view_name": "HBoxView",
            "_dom_classes": [],
            "_model_name": "HBoxModel",
            "_view_module": "@jupyter-widgets/controls",
            "_model_module_version": "1.5.0",
            "_view_count": null,
            "_view_module_version": "1.5.0",
            "box_style": "",
            "layout": "IPY_MODEL_bea3e69410d84616b0e56ce9e91af012",
            "_model_module": "@jupyter-widgets/controls",
            "children": [
              "IPY_MODEL_f1b2123eeb43428cbed16b095dad01d3",
              "IPY_MODEL_af0ca0efc63b4eabb09c51d12327d63b",
              "IPY_MODEL_03e1e7c180cd45b5b4f4fda308fe8ddd"
            ]
          }
        },
        "bea3e69410d84616b0e56ce9e91af012": {
          "model_module": "@jupyter-widgets/base",
          "model_name": "LayoutModel",
          "model_module_version": "1.2.0",
          "state": {
            "_view_name": "LayoutView",
            "grid_template_rows": null,
            "right": null,
            "justify_content": null,
            "_view_module": "@jupyter-widgets/base",
            "overflow": null,
            "_model_module_version": "1.2.0",
            "_view_count": null,
            "flex_flow": null,
            "width": null,
            "min_width": null,
            "border": null,
            "align_items": null,
            "bottom": null,
            "_model_module": "@jupyter-widgets/base",
            "top": null,
            "grid_column": null,
            "overflow_y": null,
            "overflow_x": null,
            "grid_auto_flow": null,
            "grid_area": null,
            "grid_template_columns": null,
            "flex": null,
            "_model_name": "LayoutModel",
            "justify_items": null,
            "grid_row": null,
            "max_height": null,
            "align_content": null,
            "visibility": null,
            "align_self": null,
            "height": null,
            "min_height": null,
            "padding": null,
            "grid_auto_rows": null,
            "grid_gap": null,
            "max_width": null,
            "order": null,
            "_view_module_version": "1.2.0",
            "grid_template_areas": null,
            "object_position": null,
            "object_fit": null,
            "grid_auto_columns": null,
            "margin": null,
            "display": null,
            "left": null
          }
        },
        "f1b2123eeb43428cbed16b095dad01d3": {
          "model_module": "@jupyter-widgets/controls",
          "model_name": "HTMLModel",
          "model_module_version": "1.5.0",
          "state": {
            "_view_name": "HTMLView",
            "style": "IPY_MODEL_d52692e2755d4306841f27536ee6b056",
            "_dom_classes": [],
            "description": "",
            "_model_name": "HTMLModel",
            "placeholder": "​",
            "_view_module": "@jupyter-widgets/controls",
            "_model_module_version": "1.5.0",
            "value": "Downloading: 100%",
            "_view_count": null,
            "_view_module_version": "1.5.0",
            "description_tooltip": null,
            "_model_module": "@jupyter-widgets/controls",
            "layout": "IPY_MODEL_0a9209976f564fa9a107bc420203eeb0"
          }
        },
        "af0ca0efc63b4eabb09c51d12327d63b": {
          "model_module": "@jupyter-widgets/controls",
          "model_name": "FloatProgressModel",
          "model_module_version": "1.5.0",
          "state": {
            "_view_name": "ProgressView",
            "style": "IPY_MODEL_a445e344255945be98baa38e5aef99f0",
            "_dom_classes": [],
            "description": "",
            "_model_name": "FloatProgressModel",
            "bar_style": "success",
            "max": 231508,
            "_view_module": "@jupyter-widgets/controls",
            "_model_module_version": "1.5.0",
            "value": 231508,
            "_view_count": null,
            "_view_module_version": "1.5.0",
            "orientation": "horizontal",
            "min": 0,
            "description_tooltip": null,
            "_model_module": "@jupyter-widgets/controls",
            "layout": "IPY_MODEL_4b55be06001b4be1973c4da6e82200ab"
          }
        },
        "03e1e7c180cd45b5b4f4fda308fe8ddd": {
          "model_module": "@jupyter-widgets/controls",
          "model_name": "HTMLModel",
          "model_module_version": "1.5.0",
          "state": {
            "_view_name": "HTMLView",
            "style": "IPY_MODEL_0288a61a9bad4f4eac8d7660d451651f",
            "_dom_classes": [],
            "description": "",
            "_model_name": "HTMLModel",
            "placeholder": "​",
            "_view_module": "@jupyter-widgets/controls",
            "_model_module_version": "1.5.0",
            "value": " 226k/226k [00:00&lt;00:00, 5.23MB/s]",
            "_view_count": null,
            "_view_module_version": "1.5.0",
            "description_tooltip": null,
            "_model_module": "@jupyter-widgets/controls",
            "layout": "IPY_MODEL_ec789641a67d482da900639b28a6263b"
          }
        },
        "d52692e2755d4306841f27536ee6b056": {
          "model_module": "@jupyter-widgets/controls",
          "model_name": "DescriptionStyleModel",
          "model_module_version": "1.5.0",
          "state": {
            "_view_name": "StyleView",
            "_model_name": "DescriptionStyleModel",
            "description_width": "",
            "_view_module": "@jupyter-widgets/base",
            "_model_module_version": "1.5.0",
            "_view_count": null,
            "_view_module_version": "1.2.0",
            "_model_module": "@jupyter-widgets/controls"
          }
        },
        "0a9209976f564fa9a107bc420203eeb0": {
          "model_module": "@jupyter-widgets/base",
          "model_name": "LayoutModel",
          "model_module_version": "1.2.0",
          "state": {
            "_view_name": "LayoutView",
            "grid_template_rows": null,
            "right": null,
            "justify_content": null,
            "_view_module": "@jupyter-widgets/base",
            "overflow": null,
            "_model_module_version": "1.2.0",
            "_view_count": null,
            "flex_flow": null,
            "width": null,
            "min_width": null,
            "border": null,
            "align_items": null,
            "bottom": null,
            "_model_module": "@jupyter-widgets/base",
            "top": null,
            "grid_column": null,
            "overflow_y": null,
            "overflow_x": null,
            "grid_auto_flow": null,
            "grid_area": null,
            "grid_template_columns": null,
            "flex": null,
            "_model_name": "LayoutModel",
            "justify_items": null,
            "grid_row": null,
            "max_height": null,
            "align_content": null,
            "visibility": null,
            "align_self": null,
            "height": null,
            "min_height": null,
            "padding": null,
            "grid_auto_rows": null,
            "grid_gap": null,
            "max_width": null,
            "order": null,
            "_view_module_version": "1.2.0",
            "grid_template_areas": null,
            "object_position": null,
            "object_fit": null,
            "grid_auto_columns": null,
            "margin": null,
            "display": null,
            "left": null
          }
        },
        "a445e344255945be98baa38e5aef99f0": {
          "model_module": "@jupyter-widgets/controls",
          "model_name": "ProgressStyleModel",
          "model_module_version": "1.5.0",
          "state": {
            "_view_name": "StyleView",
            "_model_name": "ProgressStyleModel",
            "description_width": "",
            "_view_module": "@jupyter-widgets/base",
            "_model_module_version": "1.5.0",
            "_view_count": null,
            "_view_module_version": "1.2.0",
            "bar_color": null,
            "_model_module": "@jupyter-widgets/controls"
          }
        },
        "4b55be06001b4be1973c4da6e82200ab": {
          "model_module": "@jupyter-widgets/base",
          "model_name": "LayoutModel",
          "model_module_version": "1.2.0",
          "state": {
            "_view_name": "LayoutView",
            "grid_template_rows": null,
            "right": null,
            "justify_content": null,
            "_view_module": "@jupyter-widgets/base",
            "overflow": null,
            "_model_module_version": "1.2.0",
            "_view_count": null,
            "flex_flow": null,
            "width": null,
            "min_width": null,
            "border": null,
            "align_items": null,
            "bottom": null,
            "_model_module": "@jupyter-widgets/base",
            "top": null,
            "grid_column": null,
            "overflow_y": null,
            "overflow_x": null,
            "grid_auto_flow": null,
            "grid_area": null,
            "grid_template_columns": null,
            "flex": null,
            "_model_name": "LayoutModel",
            "justify_items": null,
            "grid_row": null,
            "max_height": null,
            "align_content": null,
            "visibility": null,
            "align_self": null,
            "height": null,
            "min_height": null,
            "padding": null,
            "grid_auto_rows": null,
            "grid_gap": null,
            "max_width": null,
            "order": null,
            "_view_module_version": "1.2.0",
            "grid_template_areas": null,
            "object_position": null,
            "object_fit": null,
            "grid_auto_columns": null,
            "margin": null,
            "display": null,
            "left": null
          }
        },
        "0288a61a9bad4f4eac8d7660d451651f": {
          "model_module": "@jupyter-widgets/controls",
          "model_name": "DescriptionStyleModel",
          "model_module_version": "1.5.0",
          "state": {
            "_view_name": "StyleView",
            "_model_name": "DescriptionStyleModel",
            "description_width": "",
            "_view_module": "@jupyter-widgets/base",
            "_model_module_version": "1.5.0",
            "_view_count": null,
            "_view_module_version": "1.2.0",
            "_model_module": "@jupyter-widgets/controls"
          }
        },
        "ec789641a67d482da900639b28a6263b": {
          "model_module": "@jupyter-widgets/base",
          "model_name": "LayoutModel",
          "model_module_version": "1.2.0",
          "state": {
            "_view_name": "LayoutView",
            "grid_template_rows": null,
            "right": null,
            "justify_content": null,
            "_view_module": "@jupyter-widgets/base",
            "overflow": null,
            "_model_module_version": "1.2.0",
            "_view_count": null,
            "flex_flow": null,
            "width": null,
            "min_width": null,
            "border": null,
            "align_items": null,
            "bottom": null,
            "_model_module": "@jupyter-widgets/base",
            "top": null,
            "grid_column": null,
            "overflow_y": null,
            "overflow_x": null,
            "grid_auto_flow": null,
            "grid_area": null,
            "grid_template_columns": null,
            "flex": null,
            "_model_name": "LayoutModel",
            "justify_items": null,
            "grid_row": null,
            "max_height": null,
            "align_content": null,
            "visibility": null,
            "align_self": null,
            "height": null,
            "min_height": null,
            "padding": null,
            "grid_auto_rows": null,
            "grid_gap": null,
            "max_width": null,
            "order": null,
            "_view_module_version": "1.2.0",
            "grid_template_areas": null,
            "object_position": null,
            "object_fit": null,
            "grid_auto_columns": null,
            "margin": null,
            "display": null,
            "left": null
          }
        },
        "daf4f5eba76f4a63aa1814a4aac804e9": {
          "model_module": "@jupyter-widgets/controls",
          "model_name": "HBoxModel",
          "model_module_version": "1.5.0",
          "state": {
            "_view_name": "HBoxView",
            "_dom_classes": [],
            "_model_name": "HBoxModel",
            "_view_module": "@jupyter-widgets/controls",
            "_model_module_version": "1.5.0",
            "_view_count": null,
            "_view_module_version": "1.5.0",
            "box_style": "",
            "layout": "IPY_MODEL_422d8119a2b74d3792783d3aa7c616bc",
            "_model_module": "@jupyter-widgets/controls",
            "children": [
              "IPY_MODEL_89158b43a85646d8a3afdc822543debd",
              "IPY_MODEL_056460c76ab74aee9ec0d63667e09bc9",
              "IPY_MODEL_22aa70118b414ac99c4f4b498e33a748"
            ]
          }
        },
        "422d8119a2b74d3792783d3aa7c616bc": {
          "model_module": "@jupyter-widgets/base",
          "model_name": "LayoutModel",
          "model_module_version": "1.2.0",
          "state": {
            "_view_name": "LayoutView",
            "grid_template_rows": null,
            "right": null,
            "justify_content": null,
            "_view_module": "@jupyter-widgets/base",
            "overflow": null,
            "_model_module_version": "1.2.0",
            "_view_count": null,
            "flex_flow": null,
            "width": null,
            "min_width": null,
            "border": null,
            "align_items": null,
            "bottom": null,
            "_model_module": "@jupyter-widgets/base",
            "top": null,
            "grid_column": null,
            "overflow_y": null,
            "overflow_x": null,
            "grid_auto_flow": null,
            "grid_area": null,
            "grid_template_columns": null,
            "flex": null,
            "_model_name": "LayoutModel",
            "justify_items": null,
            "grid_row": null,
            "max_height": null,
            "align_content": null,
            "visibility": null,
            "align_self": null,
            "height": null,
            "min_height": null,
            "padding": null,
            "grid_auto_rows": null,
            "grid_gap": null,
            "max_width": null,
            "order": null,
            "_view_module_version": "1.2.0",
            "grid_template_areas": null,
            "object_position": null,
            "object_fit": null,
            "grid_auto_columns": null,
            "margin": null,
            "display": null,
            "left": null
          }
        },
        "89158b43a85646d8a3afdc822543debd": {
          "model_module": "@jupyter-widgets/controls",
          "model_name": "HTMLModel",
          "model_module_version": "1.5.0",
          "state": {
            "_view_name": "HTMLView",
            "style": "IPY_MODEL_d4ae6845788a49e28f7594f52e5cf4cc",
            "_dom_classes": [],
            "description": "",
            "_model_name": "HTMLModel",
            "placeholder": "​",
            "_view_module": "@jupyter-widgets/controls",
            "_model_module_version": "1.5.0",
            "value": "Downloading: 100%",
            "_view_count": null,
            "_view_module_version": "1.5.0",
            "description_tooltip": null,
            "_model_module": "@jupyter-widgets/controls",
            "layout": "IPY_MODEL_afe7c663ebee4e9c9d5d10d80c519d6b"
          }
        },
        "056460c76ab74aee9ec0d63667e09bc9": {
          "model_module": "@jupyter-widgets/controls",
          "model_name": "FloatProgressModel",
          "model_module_version": "1.5.0",
          "state": {
            "_view_name": "ProgressView",
            "style": "IPY_MODEL_a3b87c099a144f2888190f40f3deb641",
            "_dom_classes": [],
            "description": "",
            "_model_name": "FloatProgressModel",
            "bar_style": "success",
            "max": 466062,
            "_view_module": "@jupyter-widgets/controls",
            "_model_module_version": "1.5.0",
            "value": 466062,
            "_view_count": null,
            "_view_module_version": "1.5.0",
            "orientation": "horizontal",
            "min": 0,
            "description_tooltip": null,
            "_model_module": "@jupyter-widgets/controls",
            "layout": "IPY_MODEL_557372a3ba8f4efb8f283bb58ef7eb7a"
          }
        },
        "22aa70118b414ac99c4f4b498e33a748": {
          "model_module": "@jupyter-widgets/controls",
          "model_name": "HTMLModel",
          "model_module_version": "1.5.0",
          "state": {
            "_view_name": "HTMLView",
            "style": "IPY_MODEL_41762d0ad85b4d67ae58c9b58b45c2f8",
            "_dom_classes": [],
            "description": "",
            "_model_name": "HTMLModel",
            "placeholder": "​",
            "_view_module": "@jupyter-widgets/controls",
            "_model_module_version": "1.5.0",
            "value": " 455k/455k [00:00&lt;00:00, 7.98MB/s]",
            "_view_count": null,
            "_view_module_version": "1.5.0",
            "description_tooltip": null,
            "_model_module": "@jupyter-widgets/controls",
            "layout": "IPY_MODEL_c728783e260c4bcd9c24bd19a9a576fa"
          }
        },
        "d4ae6845788a49e28f7594f52e5cf4cc": {
          "model_module": "@jupyter-widgets/controls",
          "model_name": "DescriptionStyleModel",
          "model_module_version": "1.5.0",
          "state": {
            "_view_name": "StyleView",
            "_model_name": "DescriptionStyleModel",
            "description_width": "",
            "_view_module": "@jupyter-widgets/base",
            "_model_module_version": "1.5.0",
            "_view_count": null,
            "_view_module_version": "1.2.0",
            "_model_module": "@jupyter-widgets/controls"
          }
        },
        "afe7c663ebee4e9c9d5d10d80c519d6b": {
          "model_module": "@jupyter-widgets/base",
          "model_name": "LayoutModel",
          "model_module_version": "1.2.0",
          "state": {
            "_view_name": "LayoutView",
            "grid_template_rows": null,
            "right": null,
            "justify_content": null,
            "_view_module": "@jupyter-widgets/base",
            "overflow": null,
            "_model_module_version": "1.2.0",
            "_view_count": null,
            "flex_flow": null,
            "width": null,
            "min_width": null,
            "border": null,
            "align_items": null,
            "bottom": null,
            "_model_module": "@jupyter-widgets/base",
            "top": null,
            "grid_column": null,
            "overflow_y": null,
            "overflow_x": null,
            "grid_auto_flow": null,
            "grid_area": null,
            "grid_template_columns": null,
            "flex": null,
            "_model_name": "LayoutModel",
            "justify_items": null,
            "grid_row": null,
            "max_height": null,
            "align_content": null,
            "visibility": null,
            "align_self": null,
            "height": null,
            "min_height": null,
            "padding": null,
            "grid_auto_rows": null,
            "grid_gap": null,
            "max_width": null,
            "order": null,
            "_view_module_version": "1.2.0",
            "grid_template_areas": null,
            "object_position": null,
            "object_fit": null,
            "grid_auto_columns": null,
            "margin": null,
            "display": null,
            "left": null
          }
        },
        "a3b87c099a144f2888190f40f3deb641": {
          "model_module": "@jupyter-widgets/controls",
          "model_name": "ProgressStyleModel",
          "model_module_version": "1.5.0",
          "state": {
            "_view_name": "StyleView",
            "_model_name": "ProgressStyleModel",
            "description_width": "",
            "_view_module": "@jupyter-widgets/base",
            "_model_module_version": "1.5.0",
            "_view_count": null,
            "_view_module_version": "1.2.0",
            "bar_color": null,
            "_model_module": "@jupyter-widgets/controls"
          }
        },
        "557372a3ba8f4efb8f283bb58ef7eb7a": {
          "model_module": "@jupyter-widgets/base",
          "model_name": "LayoutModel",
          "model_module_version": "1.2.0",
          "state": {
            "_view_name": "LayoutView",
            "grid_template_rows": null,
            "right": null,
            "justify_content": null,
            "_view_module": "@jupyter-widgets/base",
            "overflow": null,
            "_model_module_version": "1.2.0",
            "_view_count": null,
            "flex_flow": null,
            "width": null,
            "min_width": null,
            "border": null,
            "align_items": null,
            "bottom": null,
            "_model_module": "@jupyter-widgets/base",
            "top": null,
            "grid_column": null,
            "overflow_y": null,
            "overflow_x": null,
            "grid_auto_flow": null,
            "grid_area": null,
            "grid_template_columns": null,
            "flex": null,
            "_model_name": "LayoutModel",
            "justify_items": null,
            "grid_row": null,
            "max_height": null,
            "align_content": null,
            "visibility": null,
            "align_self": null,
            "height": null,
            "min_height": null,
            "padding": null,
            "grid_auto_rows": null,
            "grid_gap": null,
            "max_width": null,
            "order": null,
            "_view_module_version": "1.2.0",
            "grid_template_areas": null,
            "object_position": null,
            "object_fit": null,
            "grid_auto_columns": null,
            "margin": null,
            "display": null,
            "left": null
          }
        },
        "41762d0ad85b4d67ae58c9b58b45c2f8": {
          "model_module": "@jupyter-widgets/controls",
          "model_name": "DescriptionStyleModel",
          "model_module_version": "1.5.0",
          "state": {
            "_view_name": "StyleView",
            "_model_name": "DescriptionStyleModel",
            "description_width": "",
            "_view_module": "@jupyter-widgets/base",
            "_model_module_version": "1.5.0",
            "_view_count": null,
            "_view_module_version": "1.2.0",
            "_model_module": "@jupyter-widgets/controls"
          }
        },
        "c728783e260c4bcd9c24bd19a9a576fa": {
          "model_module": "@jupyter-widgets/base",
          "model_name": "LayoutModel",
          "model_module_version": "1.2.0",
          "state": {
            "_view_name": "LayoutView",
            "grid_template_rows": null,
            "right": null,
            "justify_content": null,
            "_view_module": "@jupyter-widgets/base",
            "overflow": null,
            "_model_module_version": "1.2.0",
            "_view_count": null,
            "flex_flow": null,
            "width": null,
            "min_width": null,
            "border": null,
            "align_items": null,
            "bottom": null,
            "_model_module": "@jupyter-widgets/base",
            "top": null,
            "grid_column": null,
            "overflow_y": null,
            "overflow_x": null,
            "grid_auto_flow": null,
            "grid_area": null,
            "grid_template_columns": null,
            "flex": null,
            "_model_name": "LayoutModel",
            "justify_items": null,
            "grid_row": null,
            "max_height": null,
            "align_content": null,
            "visibility": null,
            "align_self": null,
            "height": null,
            "min_height": null,
            "padding": null,
            "grid_auto_rows": null,
            "grid_gap": null,
            "max_width": null,
            "order": null,
            "_view_module_version": "1.2.0",
            "grid_template_areas": null,
            "object_position": null,
            "object_fit": null,
            "grid_auto_columns": null,
            "margin": null,
            "display": null,
            "left": null
          }
        },
        "9b86020ac11e49b3bc09a5b4fb6042d7": {
          "model_module": "@jupyter-widgets/controls",
          "model_name": "HBoxModel",
          "model_module_version": "1.5.0",
          "state": {
            "_view_name": "HBoxView",
            "_dom_classes": [],
            "_model_name": "HBoxModel",
            "_view_module": "@jupyter-widgets/controls",
            "_model_module_version": "1.5.0",
            "_view_count": null,
            "_view_module_version": "1.5.0",
            "box_style": "",
            "layout": "IPY_MODEL_57e473734ef1490b84ba484fa6e07e32",
            "_model_module": "@jupyter-widgets/controls",
            "children": [
              "IPY_MODEL_15e6442d227946649825de29c156f394",
              "IPY_MODEL_a269e197fa1d43a6a248eff5aa9ed3ac",
              "IPY_MODEL_8ac1acc9ee264b2ba89e6abdc0bce574"
            ]
          }
        },
        "57e473734ef1490b84ba484fa6e07e32": {
          "model_module": "@jupyter-widgets/base",
          "model_name": "LayoutModel",
          "model_module_version": "1.2.0",
          "state": {
            "_view_name": "LayoutView",
            "grid_template_rows": null,
            "right": null,
            "justify_content": null,
            "_view_module": "@jupyter-widgets/base",
            "overflow": null,
            "_model_module_version": "1.2.0",
            "_view_count": null,
            "flex_flow": null,
            "width": null,
            "min_width": null,
            "border": null,
            "align_items": null,
            "bottom": null,
            "_model_module": "@jupyter-widgets/base",
            "top": null,
            "grid_column": null,
            "overflow_y": null,
            "overflow_x": null,
            "grid_auto_flow": null,
            "grid_area": null,
            "grid_template_columns": null,
            "flex": null,
            "_model_name": "LayoutModel",
            "justify_items": null,
            "grid_row": null,
            "max_height": null,
            "align_content": null,
            "visibility": null,
            "align_self": null,
            "height": null,
            "min_height": null,
            "padding": null,
            "grid_auto_rows": null,
            "grid_gap": null,
            "max_width": null,
            "order": null,
            "_view_module_version": "1.2.0",
            "grid_template_areas": null,
            "object_position": null,
            "object_fit": null,
            "grid_auto_columns": null,
            "margin": null,
            "display": null,
            "left": null
          }
        },
        "15e6442d227946649825de29c156f394": {
          "model_module": "@jupyter-widgets/controls",
          "model_name": "HTMLModel",
          "model_module_version": "1.5.0",
          "state": {
            "_view_name": "HTMLView",
            "style": "IPY_MODEL_420d3bdc642a4aebb2ffee27759ab50c",
            "_dom_classes": [],
            "description": "",
            "_model_name": "HTMLModel",
            "placeholder": "​",
            "_view_module": "@jupyter-widgets/controls",
            "_model_module_version": "1.5.0",
            "value": "Downloading: 100%",
            "_view_count": null,
            "_view_module_version": "1.5.0",
            "description_tooltip": null,
            "_model_module": "@jupyter-widgets/controls",
            "layout": "IPY_MODEL_ca5db1c55dbc4aeea0461a502d79ec99"
          }
        },
        "a269e197fa1d43a6a248eff5aa9ed3ac": {
          "model_module": "@jupyter-widgets/controls",
          "model_name": "FloatProgressModel",
          "model_module_version": "1.5.0",
          "state": {
            "_view_name": "ProgressView",
            "style": "IPY_MODEL_5143fad2df0f41b292182f63b9ad484e",
            "_dom_classes": [],
            "description": "",
            "_model_name": "FloatProgressModel",
            "bar_style": "success",
            "max": 570,
            "_view_module": "@jupyter-widgets/controls",
            "_model_module_version": "1.5.0",
            "value": 570,
            "_view_count": null,
            "_view_module_version": "1.5.0",
            "orientation": "horizontal",
            "min": 0,
            "description_tooltip": null,
            "_model_module": "@jupyter-widgets/controls",
            "layout": "IPY_MODEL_e67a48793dab4fef8852450f76b8a0f4"
          }
        },
        "8ac1acc9ee264b2ba89e6abdc0bce574": {
          "model_module": "@jupyter-widgets/controls",
          "model_name": "HTMLModel",
          "model_module_version": "1.5.0",
          "state": {
            "_view_name": "HTMLView",
            "style": "IPY_MODEL_5ef093e78f7640c2b4df5f9a33de1a4d",
            "_dom_classes": [],
            "description": "",
            "_model_name": "HTMLModel",
            "placeholder": "​",
            "_view_module": "@jupyter-widgets/controls",
            "_model_module_version": "1.5.0",
            "value": " 570/570 [00:00&lt;00:00, 13.2kB/s]",
            "_view_count": null,
            "_view_module_version": "1.5.0",
            "description_tooltip": null,
            "_model_module": "@jupyter-widgets/controls",
            "layout": "IPY_MODEL_65a4841245cc454484ba3af359b3cf5b"
          }
        },
        "420d3bdc642a4aebb2ffee27759ab50c": {
          "model_module": "@jupyter-widgets/controls",
          "model_name": "DescriptionStyleModel",
          "model_module_version": "1.5.0",
          "state": {
            "_view_name": "StyleView",
            "_model_name": "DescriptionStyleModel",
            "description_width": "",
            "_view_module": "@jupyter-widgets/base",
            "_model_module_version": "1.5.0",
            "_view_count": null,
            "_view_module_version": "1.2.0",
            "_model_module": "@jupyter-widgets/controls"
          }
        },
        "ca5db1c55dbc4aeea0461a502d79ec99": {
          "model_module": "@jupyter-widgets/base",
          "model_name": "LayoutModel",
          "model_module_version": "1.2.0",
          "state": {
            "_view_name": "LayoutView",
            "grid_template_rows": null,
            "right": null,
            "justify_content": null,
            "_view_module": "@jupyter-widgets/base",
            "overflow": null,
            "_model_module_version": "1.2.0",
            "_view_count": null,
            "flex_flow": null,
            "width": null,
            "min_width": null,
            "border": null,
            "align_items": null,
            "bottom": null,
            "_model_module": "@jupyter-widgets/base",
            "top": null,
            "grid_column": null,
            "overflow_y": null,
            "overflow_x": null,
            "grid_auto_flow": null,
            "grid_area": null,
            "grid_template_columns": null,
            "flex": null,
            "_model_name": "LayoutModel",
            "justify_items": null,
            "grid_row": null,
            "max_height": null,
            "align_content": null,
            "visibility": null,
            "align_self": null,
            "height": null,
            "min_height": null,
            "padding": null,
            "grid_auto_rows": null,
            "grid_gap": null,
            "max_width": null,
            "order": null,
            "_view_module_version": "1.2.0",
            "grid_template_areas": null,
            "object_position": null,
            "object_fit": null,
            "grid_auto_columns": null,
            "margin": null,
            "display": null,
            "left": null
          }
        },
        "5143fad2df0f41b292182f63b9ad484e": {
          "model_module": "@jupyter-widgets/controls",
          "model_name": "ProgressStyleModel",
          "model_module_version": "1.5.0",
          "state": {
            "_view_name": "StyleView",
            "_model_name": "ProgressStyleModel",
            "description_width": "",
            "_view_module": "@jupyter-widgets/base",
            "_model_module_version": "1.5.0",
            "_view_count": null,
            "_view_module_version": "1.2.0",
            "bar_color": null,
            "_model_module": "@jupyter-widgets/controls"
          }
        },
        "e67a48793dab4fef8852450f76b8a0f4": {
          "model_module": "@jupyter-widgets/base",
          "model_name": "LayoutModel",
          "model_module_version": "1.2.0",
          "state": {
            "_view_name": "LayoutView",
            "grid_template_rows": null,
            "right": null,
            "justify_content": null,
            "_view_module": "@jupyter-widgets/base",
            "overflow": null,
            "_model_module_version": "1.2.0",
            "_view_count": null,
            "flex_flow": null,
            "width": null,
            "min_width": null,
            "border": null,
            "align_items": null,
            "bottom": null,
            "_model_module": "@jupyter-widgets/base",
            "top": null,
            "grid_column": null,
            "overflow_y": null,
            "overflow_x": null,
            "grid_auto_flow": null,
            "grid_area": null,
            "grid_template_columns": null,
            "flex": null,
            "_model_name": "LayoutModel",
            "justify_items": null,
            "grid_row": null,
            "max_height": null,
            "align_content": null,
            "visibility": null,
            "align_self": null,
            "height": null,
            "min_height": null,
            "padding": null,
            "grid_auto_rows": null,
            "grid_gap": null,
            "max_width": null,
            "order": null,
            "_view_module_version": "1.2.0",
            "grid_template_areas": null,
            "object_position": null,
            "object_fit": null,
            "grid_auto_columns": null,
            "margin": null,
            "display": null,
            "left": null
          }
        },
        "5ef093e78f7640c2b4df5f9a33de1a4d": {
          "model_module": "@jupyter-widgets/controls",
          "model_name": "DescriptionStyleModel",
          "model_module_version": "1.5.0",
          "state": {
            "_view_name": "StyleView",
            "_model_name": "DescriptionStyleModel",
            "description_width": "",
            "_view_module": "@jupyter-widgets/base",
            "_model_module_version": "1.5.0",
            "_view_count": null,
            "_view_module_version": "1.2.0",
            "_model_module": "@jupyter-widgets/controls"
          }
        },
        "65a4841245cc454484ba3af359b3cf5b": {
          "model_module": "@jupyter-widgets/base",
          "model_name": "LayoutModel",
          "model_module_version": "1.2.0",
          "state": {
            "_view_name": "LayoutView",
            "grid_template_rows": null,
            "right": null,
            "justify_content": null,
            "_view_module": "@jupyter-widgets/base",
            "overflow": null,
            "_model_module_version": "1.2.0",
            "_view_count": null,
            "flex_flow": null,
            "width": null,
            "min_width": null,
            "border": null,
            "align_items": null,
            "bottom": null,
            "_model_module": "@jupyter-widgets/base",
            "top": null,
            "grid_column": null,
            "overflow_y": null,
            "overflow_x": null,
            "grid_auto_flow": null,
            "grid_area": null,
            "grid_template_columns": null,
            "flex": null,
            "_model_name": "LayoutModel",
            "justify_items": null,
            "grid_row": null,
            "max_height": null,
            "align_content": null,
            "visibility": null,
            "align_self": null,
            "height": null,
            "min_height": null,
            "padding": null,
            "grid_auto_rows": null,
            "grid_gap": null,
            "max_width": null,
            "order": null,
            "_view_module_version": "1.2.0",
            "grid_template_areas": null,
            "object_position": null,
            "object_fit": null,
            "grid_auto_columns": null,
            "margin": null,
            "display": null,
            "left": null
          }
        },
        "04b5dde052a0442280e0487c4480fa1f": {
          "model_module": "@jupyter-widgets/controls",
          "model_name": "HBoxModel",
          "model_module_version": "1.5.0",
          "state": {
            "_view_name": "HBoxView",
            "_dom_classes": [],
            "_model_name": "HBoxModel",
            "_view_module": "@jupyter-widgets/controls",
            "_model_module_version": "1.5.0",
            "_view_count": null,
            "_view_module_version": "1.5.0",
            "box_style": "",
            "layout": "IPY_MODEL_17b8d3af2e184d0d96b3df6511442e1b",
            "_model_module": "@jupyter-widgets/controls",
            "children": [
              "IPY_MODEL_451a448b8e6b48ad9e5b77ec7aba02ab",
              "IPY_MODEL_0e3dbddd2d6742ce890d121cc90556f4",
              "IPY_MODEL_a768acad63f743b09693b82a6519efb7"
            ]
          }
        },
        "17b8d3af2e184d0d96b3df6511442e1b": {
          "model_module": "@jupyter-widgets/base",
          "model_name": "LayoutModel",
          "model_module_version": "1.2.0",
          "state": {
            "_view_name": "LayoutView",
            "grid_template_rows": null,
            "right": null,
            "justify_content": null,
            "_view_module": "@jupyter-widgets/base",
            "overflow": null,
            "_model_module_version": "1.2.0",
            "_view_count": null,
            "flex_flow": null,
            "width": null,
            "min_width": null,
            "border": null,
            "align_items": null,
            "bottom": null,
            "_model_module": "@jupyter-widgets/base",
            "top": null,
            "grid_column": null,
            "overflow_y": null,
            "overflow_x": null,
            "grid_auto_flow": null,
            "grid_area": null,
            "grid_template_columns": null,
            "flex": null,
            "_model_name": "LayoutModel",
            "justify_items": null,
            "grid_row": null,
            "max_height": null,
            "align_content": null,
            "visibility": null,
            "align_self": null,
            "height": null,
            "min_height": null,
            "padding": null,
            "grid_auto_rows": null,
            "grid_gap": null,
            "max_width": null,
            "order": null,
            "_view_module_version": "1.2.0",
            "grid_template_areas": null,
            "object_position": null,
            "object_fit": null,
            "grid_auto_columns": null,
            "margin": null,
            "display": null,
            "left": null
          }
        },
        "451a448b8e6b48ad9e5b77ec7aba02ab": {
          "model_module": "@jupyter-widgets/controls",
          "model_name": "HTMLModel",
          "model_module_version": "1.5.0",
          "state": {
            "_view_name": "HTMLView",
            "style": "IPY_MODEL_2934f918c27a491481759b09a6de4294",
            "_dom_classes": [],
            "description": "",
            "_model_name": "HTMLModel",
            "placeholder": "​",
            "_view_module": "@jupyter-widgets/controls",
            "_model_module_version": "1.5.0",
            "value": "Downloading: 100%",
            "_view_count": null,
            "_view_module_version": "1.5.0",
            "description_tooltip": null,
            "_model_module": "@jupyter-widgets/controls",
            "layout": "IPY_MODEL_eb90cb92157a43d1881d394a2bd77ebf"
          }
        },
        "0e3dbddd2d6742ce890d121cc90556f4": {
          "model_module": "@jupyter-widgets/controls",
          "model_name": "FloatProgressModel",
          "model_module_version": "1.5.0",
          "state": {
            "_view_name": "ProgressView",
            "style": "IPY_MODEL_a4e7d236fd8e4f98afa59349ef6a59d3",
            "_dom_classes": [],
            "description": "",
            "_model_name": "FloatProgressModel",
            "bar_style": "success",
            "max": 440473133,
            "_view_module": "@jupyter-widgets/controls",
            "_model_module_version": "1.5.0",
            "value": 440473133,
            "_view_count": null,
            "_view_module_version": "1.5.0",
            "orientation": "horizontal",
            "min": 0,
            "description_tooltip": null,
            "_model_module": "@jupyter-widgets/controls",
            "layout": "IPY_MODEL_3393ceb44afb46f98da5f7d474684cef"
          }
        },
        "a768acad63f743b09693b82a6519efb7": {
          "model_module": "@jupyter-widgets/controls",
          "model_name": "HTMLModel",
          "model_module_version": "1.5.0",
          "state": {
            "_view_name": "HTMLView",
            "style": "IPY_MODEL_4e35cd9955e04ba6858fc7c58bb1eb33",
            "_dom_classes": [],
            "description": "",
            "_model_name": "HTMLModel",
            "placeholder": "​",
            "_view_module": "@jupyter-widgets/controls",
            "_model_module_version": "1.5.0",
            "value": " 420M/420M [00:20&lt;00:00, 54.3MB/s]",
            "_view_count": null,
            "_view_module_version": "1.5.0",
            "description_tooltip": null,
            "_model_module": "@jupyter-widgets/controls",
            "layout": "IPY_MODEL_6eaaeb6561194726b2b07957ae3a3060"
          }
        },
        "2934f918c27a491481759b09a6de4294": {
          "model_module": "@jupyter-widgets/controls",
          "model_name": "DescriptionStyleModel",
          "model_module_version": "1.5.0",
          "state": {
            "_view_name": "StyleView",
            "_model_name": "DescriptionStyleModel",
            "description_width": "",
            "_view_module": "@jupyter-widgets/base",
            "_model_module_version": "1.5.0",
            "_view_count": null,
            "_view_module_version": "1.2.0",
            "_model_module": "@jupyter-widgets/controls"
          }
        },
        "eb90cb92157a43d1881d394a2bd77ebf": {
          "model_module": "@jupyter-widgets/base",
          "model_name": "LayoutModel",
          "model_module_version": "1.2.0",
          "state": {
            "_view_name": "LayoutView",
            "grid_template_rows": null,
            "right": null,
            "justify_content": null,
            "_view_module": "@jupyter-widgets/base",
            "overflow": null,
            "_model_module_version": "1.2.0",
            "_view_count": null,
            "flex_flow": null,
            "width": null,
            "min_width": null,
            "border": null,
            "align_items": null,
            "bottom": null,
            "_model_module": "@jupyter-widgets/base",
            "top": null,
            "grid_column": null,
            "overflow_y": null,
            "overflow_x": null,
            "grid_auto_flow": null,
            "grid_area": null,
            "grid_template_columns": null,
            "flex": null,
            "_model_name": "LayoutModel",
            "justify_items": null,
            "grid_row": null,
            "max_height": null,
            "align_content": null,
            "visibility": null,
            "align_self": null,
            "height": null,
            "min_height": null,
            "padding": null,
            "grid_auto_rows": null,
            "grid_gap": null,
            "max_width": null,
            "order": null,
            "_view_module_version": "1.2.0",
            "grid_template_areas": null,
            "object_position": null,
            "object_fit": null,
            "grid_auto_columns": null,
            "margin": null,
            "display": null,
            "left": null
          }
        },
        "a4e7d236fd8e4f98afa59349ef6a59d3": {
          "model_module": "@jupyter-widgets/controls",
          "model_name": "ProgressStyleModel",
          "model_module_version": "1.5.0",
          "state": {
            "_view_name": "StyleView",
            "_model_name": "ProgressStyleModel",
            "description_width": "",
            "_view_module": "@jupyter-widgets/base",
            "_model_module_version": "1.5.0",
            "_view_count": null,
            "_view_module_version": "1.2.0",
            "bar_color": null,
            "_model_module": "@jupyter-widgets/controls"
          }
        },
        "3393ceb44afb46f98da5f7d474684cef": {
          "model_module": "@jupyter-widgets/base",
          "model_name": "LayoutModel",
          "model_module_version": "1.2.0",
          "state": {
            "_view_name": "LayoutView",
            "grid_template_rows": null,
            "right": null,
            "justify_content": null,
            "_view_module": "@jupyter-widgets/base",
            "overflow": null,
            "_model_module_version": "1.2.0",
            "_view_count": null,
            "flex_flow": null,
            "width": null,
            "min_width": null,
            "border": null,
            "align_items": null,
            "bottom": null,
            "_model_module": "@jupyter-widgets/base",
            "top": null,
            "grid_column": null,
            "overflow_y": null,
            "overflow_x": null,
            "grid_auto_flow": null,
            "grid_area": null,
            "grid_template_columns": null,
            "flex": null,
            "_model_name": "LayoutModel",
            "justify_items": null,
            "grid_row": null,
            "max_height": null,
            "align_content": null,
            "visibility": null,
            "align_self": null,
            "height": null,
            "min_height": null,
            "padding": null,
            "grid_auto_rows": null,
            "grid_gap": null,
            "max_width": null,
            "order": null,
            "_view_module_version": "1.2.0",
            "grid_template_areas": null,
            "object_position": null,
            "object_fit": null,
            "grid_auto_columns": null,
            "margin": null,
            "display": null,
            "left": null
          }
        },
        "4e35cd9955e04ba6858fc7c58bb1eb33": {
          "model_module": "@jupyter-widgets/controls",
          "model_name": "DescriptionStyleModel",
          "model_module_version": "1.5.0",
          "state": {
            "_view_name": "StyleView",
            "_model_name": "DescriptionStyleModel",
            "description_width": "",
            "_view_module": "@jupyter-widgets/base",
            "_model_module_version": "1.5.0",
            "_view_count": null,
            "_view_module_version": "1.2.0",
            "_model_module": "@jupyter-widgets/controls"
          }
        },
        "6eaaeb6561194726b2b07957ae3a3060": {
          "model_module": "@jupyter-widgets/base",
          "model_name": "LayoutModel",
          "model_module_version": "1.2.0",
          "state": {
            "_view_name": "LayoutView",
            "grid_template_rows": null,
            "right": null,
            "justify_content": null,
            "_view_module": "@jupyter-widgets/base",
            "overflow": null,
            "_model_module_version": "1.2.0",
            "_view_count": null,
            "flex_flow": null,
            "width": null,
            "min_width": null,
            "border": null,
            "align_items": null,
            "bottom": null,
            "_model_module": "@jupyter-widgets/base",
            "top": null,
            "grid_column": null,
            "overflow_y": null,
            "overflow_x": null,
            "grid_auto_flow": null,
            "grid_area": null,
            "grid_template_columns": null,
            "flex": null,
            "_model_name": "LayoutModel",
            "justify_items": null,
            "grid_row": null,
            "max_height": null,
            "align_content": null,
            "visibility": null,
            "align_self": null,
            "height": null,
            "min_height": null,
            "padding": null,
            "grid_auto_rows": null,
            "grid_gap": null,
            "max_width": null,
            "order": null,
            "_view_module_version": "1.2.0",
            "grid_template_areas": null,
            "object_position": null,
            "object_fit": null,
            "grid_auto_columns": null,
            "margin": null,
            "display": null,
            "left": null
          }
        }
      }
    }
  },
  "nbformat_minor": 0,
  "nbformat": 4,
  "cells": [
    {
      "cell_type": "markdown",
      "source": [
        "# Vaccine sentiment classification using fine-tuned BERT-based Model\n",
        "Pavlos Spanoudakis (sdi1800184)"
      ],
      "metadata": {
        "id": "_MI6fX9gG2SA"
      }
    },
    {
      "cell_type": "code",
      "source": [
        "#from google.colab import drive\n",
        "#drive.mount('/content/drive')\n",
        "\n",
        "#!cp ./drive/MyDrive/NLP/vaccine_train_set.csv ./\n",
        "#!cp ./drive/MyDrive/NLP/vaccine_validation_set.csv ./\n",
        "\n",
        "#!pip install transformers"
      ],
      "metadata": {
        "id": "b6Aq27RRE6qW"
      },
      "execution_count": null,
      "outputs": []
    },
    {
      "cell_type": "markdown",
      "source": [
        "### Select one of the models presented in the report:"
      ],
      "metadata": {
        "id": "NF0gSsMuG2SC"
      }
    },
    {
      "cell_type": "code",
      "source": [
        "MODEL_0 = 0\n",
        "MODEL_1 = 1\n",
        "MODEL_2 = 2\n",
        "MODEL_3 = 3\n",
        "MODEL_4 = 4\n",
        "\n",
        "MODEL = MODEL_0"
      ],
      "metadata": {
        "id": "cCbBNvzzG2SC",
        "execution": {
          "iopub.status.busy": "2022-02-27T12:04:18.674991Z",
          "iopub.execute_input": "2022-02-27T12:04:18.676069Z",
          "iopub.status.idle": "2022-02-27T12:04:18.705589Z",
          "shell.execute_reply.started": "2022-02-27T12:04:18.675805Z",
          "shell.execute_reply": "2022-02-27T12:04:18.704450Z"
        },
        "trusted": true
      },
      "execution_count": 14,
      "outputs": []
    },
    {
      "cell_type": "markdown",
      "source": [
        "### Setting up Dataset paths & Class-Related information"
      ],
      "metadata": {
        "id": "dBG1xC34G2SD"
      }
    },
    {
      "cell_type": "code",
      "source": [
        "TRAIN_SET_PATH = \"./vaccine_train_set.csv\"\n",
        "VALIDATION_SET_PATH = \"./vaccine_validation_set.csv\"\n",
        "\n",
        "NUM_CLASSES = 3\n",
        "CLASS_NAMES = ['Neutral', 'Anti-Vaccine', 'Pro-Vaccine']"
      ],
      "metadata": {
        "id": "o4VGS3Dtbl4S",
        "execution": {
          "iopub.status.busy": "2022-02-27T12:04:18.707834Z",
          "iopub.execute_input": "2022-02-27T12:04:18.708257Z",
          "iopub.status.idle": "2022-02-27T12:04:18.713979Z",
          "shell.execute_reply.started": "2022-02-27T12:04:18.708211Z",
          "shell.execute_reply": "2022-02-27T12:04:18.712903Z"
        },
        "trusted": true
      },
      "execution_count": 15,
      "outputs": []
    },
    {
      "cell_type": "markdown",
      "source": [
        "### Necessary Imports"
      ],
      "metadata": {
        "id": "-g_lMIZVG2SI"
      }
    },
    {
      "cell_type": "code",
      "source": [
        "# Built-in Python libraries\n",
        "from typing import Callable, Iterable, List, Dict\n",
        "from numbers import Number\n",
        "import re\n",
        "import random\n",
        "import os\n",
        "\n",
        "# 3rd party libraries\n",
        "from tqdm import tqdm\n",
        "import numpy as np\n",
        "import pandas as pd\n",
        "import matplotlib.pyplot as plt\n",
        "\n",
        "# PyTorch libraries\n",
        "import torch\n",
        "import torch.nn as nn\n",
        "from torch.utils.data import DataLoader\n",
        "\n",
        "# Transformers libraries\n",
        "from transformers import BertTokenizer, BertModel\n",
        "\n",
        "# scikit-learn metrics\n",
        "from sklearn.metrics import f1_score, recall_score, precision_score, \\\n",
        "                            roc_curve, auc, ConfusionMatrixDisplay"
      ],
      "metadata": {
        "id": "f2_ciNnNbl4P",
        "execution": {
          "iopub.status.busy": "2022-02-27T12:04:18.715576Z",
          "iopub.execute_input": "2022-02-27T12:04:18.716741Z",
          "iopub.status.idle": "2022-02-27T12:04:21.772519Z",
          "shell.execute_reply.started": "2022-02-27T12:04:18.716694Z",
          "shell.execute_reply": "2022-02-27T12:04:21.771526Z"
        },
        "trusted": true
      },
      "execution_count": 16,
      "outputs": []
    },
    {
      "cell_type": "markdown",
      "source": [
        "### Setting up hyperparameters & NN structure"
      ],
      "metadata": {
        "id": "frDcjCkiG2SK"
      }
    },
    {
      "cell_type": "code",
      "source": [
        "BERT_CLS_SIZE = 768\n",
        "if MODEL == MODEL_0:\n",
        "    LEARNING_RATE = 0.00003\n",
        "    BATCH_SIZE = 64\n",
        "    EPOCHS = 3\n",
        "    MAX_LENGTH = 100\n",
        "\n",
        "    HIDDEN_SIZES = [32 for _ in range(4)]\n",
        "    DROPOUT = 0.25\n",
        "elif MODEL == MODEL_1:\n",
        "    LEARNING_RATE = 0.005\n",
        "    BATCH_SIZE = 256\n",
        "    EPOCHS = 5\n",
        "    MAX_LENGTH = 100\n",
        "\n",
        "    HIDDEN_SIZES = [32 for _ in range(4)]\n",
        "    DROPOUT = 0.5\n",
        "elif MODEL == MODEL_2:\n",
        "    LEARNING_RATE = 0.005\n",
        "    BATCH_SIZE = 128\n",
        "    EPOCHS = 4\n",
        "    MAX_LENGTH = 100\n",
        "\n",
        "    HIDDEN_SIZES = [32 for _ in range(4)]\n",
        "    DROPOUT = 0.5\n",
        "elif MODEL == MODEL_3:\n",
        "    LEARNING_RATE = 0.005\n",
        "    BATCH_SIZE = 128\n",
        "    EPOCHS = 5\n",
        "    MAX_LENGTH = 100\n",
        "\n",
        "    HIDDEN_SIZES = [64 for _ in range(6)]\n",
        "    DROPOUT = 0.5\n",
        "elif MODEL == MODEL_4:\n",
        "    LEARNING_RATE = 0.0055\n",
        "    BATCH_SIZE = 256\n",
        "    EPOCHS = 12\n",
        "    MAX_LENGTH = 100\n",
        "\n",
        "    HIDDEN_SIZES = [64 for _ in range(3)]\n",
        "    DROPOUT = 0.5"
      ],
      "metadata": {
        "id": "LCZMyFwLbl4S",
        "execution": {
          "iopub.status.busy": "2022-02-27T12:04:21.775176Z",
          "iopub.execute_input": "2022-02-27T12:04:21.775404Z",
          "iopub.status.idle": "2022-02-27T12:04:21.788518Z",
          "shell.execute_reply.started": "2022-02-27T12:04:21.775374Z",
          "shell.execute_reply": "2022-02-27T12:04:21.787428Z"
        },
        "trusted": true
      },
      "execution_count": 17,
      "outputs": []
    },
    {
      "cell_type": "markdown",
      "source": [
        "### Enabling GPU acceleration"
      ],
      "metadata": {
        "id": "QyK3Dj0iW8nq"
      }
    },
    {
      "cell_type": "code",
      "source": [
        "CPU_DEVICE = 'cpu'\n",
        "CUDA_DEVICE = 'cuda'\n",
        "DEVICE = CUDA_DEVICE if torch.cuda.is_available() else CPU_DEVICE"
      ],
      "metadata": {
        "id": "nSmoYVhjW5nY",
        "execution": {
          "iopub.status.busy": "2022-02-27T12:04:21.790592Z",
          "iopub.execute_input": "2022-02-27T12:04:21.791241Z",
          "iopub.status.idle": "2022-02-27T12:04:21.849701Z",
          "shell.execute_reply.started": "2022-02-27T12:04:21.791195Z",
          "shell.execute_reply": "2022-02-27T12:04:21.848323Z"
        },
        "trusted": true
      },
      "execution_count": 18,
      "outputs": []
    },
    {
      "cell_type": "markdown",
      "source": [
        "### Setting custom seeds in pseudo-random generators for reproducability"
      ],
      "metadata": {
        "id": "_qMpmyxAG2SJ"
      }
    },
    {
      "cell_type": "code",
      "source": [
        "# The GPU-accelerated results cannot be reproduced, but this is the preferred seed.\n",
        "SEED = 256\n",
        "random.seed(SEED)\n",
        "np.random.seed(SEED)\n",
        "torch.manual_seed(SEED)\n",
        "\n",
        "torch.cuda.manual_seed(SEED)\n",
        "torch.backends.cudnn.deterministic = True\n",
        "os.environ['PYTHONHASHSEED'] = str(SEED)"
      ],
      "metadata": {
        "id": "f0FlIb_BiLd9",
        "execution": {
          "iopub.status.busy": "2022-02-27T12:04:21.854636Z",
          "iopub.execute_input": "2022-02-27T12:04:21.854895Z",
          "iopub.status.idle": "2022-02-27T12:04:21.864448Z",
          "shell.execute_reply.started": "2022-02-27T12:04:21.854855Z",
          "shell.execute_reply": "2022-02-27T12:04:21.863498Z"
        },
        "trusted": true
      },
      "execution_count": 19,
      "outputs": []
    },
    {
      "cell_type": "markdown",
      "source": [
        "### Checking the CSV's for empty/null cells"
      ],
      "metadata": {
        "id": "niGs9FDGS7ua"
      }
    },
    {
      "cell_type": "code",
      "source": [
        "trainDF = pd.read_csv(TRAIN_SET_PATH)\n",
        "trainDF.isnull().sum()"
      ],
      "metadata": {
        "id": "T3svwaenBZsK",
        "outputId": "2243e682-4757-4151-d4c3-a82ad5a511f4",
        "execution": {
          "iopub.status.busy": "2022-02-27T12:04:21.866269Z",
          "iopub.execute_input": "2022-02-27T12:04:21.867142Z",
          "iopub.status.idle": "2022-02-27T12:04:21.953781Z",
          "shell.execute_reply.started": "2022-02-27T12:04:21.867095Z",
          "shell.execute_reply": "2022-02-27T12:04:21.952755Z"
        },
        "trusted": true,
        "colab": {
          "base_uri": "https://localhost:8080/"
        }
      },
      "execution_count": 20,
      "outputs": [
        {
          "output_type": "execute_result",
          "data": {
            "text/plain": [
              "Unnamed: 0    0\n",
              "tweet         0\n",
              "label         0\n",
              "dtype: int64"
            ]
          },
          "metadata": {},
          "execution_count": 20
        }
      ]
    },
    {
      "cell_type": "code",
      "source": [
        "validDF = pd.read_csv(VALIDATION_SET_PATH)\n",
        "validDF.isnull().sum()"
      ],
      "metadata": {
        "id": "sg6GNXGzBZsL",
        "outputId": "89f4b1ae-2412-4d59-9903-b55a502aa331",
        "execution": {
          "iopub.status.busy": "2022-02-27T12:04:21.955703Z",
          "iopub.execute_input": "2022-02-27T12:04:21.956342Z",
          "iopub.status.idle": "2022-02-27T12:04:21.981808Z",
          "shell.execute_reply.started": "2022-02-27T12:04:21.956292Z",
          "shell.execute_reply": "2022-02-27T12:04:21.980841Z"
        },
        "trusted": true,
        "colab": {
          "base_uri": "https://localhost:8080/"
        }
      },
      "execution_count": 21,
      "outputs": [
        {
          "output_type": "execute_result",
          "data": {
            "text/plain": [
              "Unnamed: 0    0\n",
              "tweet         0\n",
              "label         0\n",
              "dtype: int64"
            ]
          },
          "metadata": {},
          "execution_count": 21
        }
      ]
    },
    {
      "cell_type": "markdown",
      "source": [
        "### Trimming the created data frames and extracting only the required data"
      ],
      "metadata": {
        "id": "TQhiG0FR31iI"
      }
    },
    {
      "cell_type": "code",
      "source": [
        "features = trainDF.drop(['label', 'Unnamed: 0'], axis=1)\n",
        "X_train = np.array([ar[0] for ar in features.values])\n",
        "trainLabels = trainDF['label'].values\n",
        "\n",
        "features = validDF.drop(['label', 'Unnamed: 0'], axis=1)\n",
        "X_valid = np.array([ar[0] for ar in features.values])\n",
        "validLabels = validDF['label'].values"
      ],
      "metadata": {
        "id": "qBPz2uZW3hui",
        "execution": {
          "iopub.status.busy": "2022-02-27T12:04:21.983665Z",
          "iopub.execute_input": "2022-02-27T12:04:21.984312Z",
          "iopub.status.idle": "2022-02-27T12:04:22.051862Z",
          "shell.execute_reply.started": "2022-02-27T12:04:21.984264Z",
          "shell.execute_reply": "2022-02-27T12:04:22.050702Z"
        },
        "trusted": true
      },
      "execution_count": 22,
      "outputs": []
    },
    {
      "cell_type": "markdown",
      "source": [
        "### Creating a Dataset class"
      ],
      "metadata": {
        "id": "4flf5IQkEu2J"
      }
    },
    {
      "cell_type": "code",
      "source": [
        "bertTokenizer = BertTokenizer.from_pretrained('bert-base-uncased')\n",
        "def tokenizer(text: str):\n",
        "    return bertTokenizer(text, padding='max_length', max_length=MAX_LENGTH, truncation=True, return_tensors=\"pt\")\n",
        "\n",
        "class TweetDataset(torch.utils.data.Dataset):\n",
        "    def __init__(self, tweets, labels) -> None:\n",
        "        super().__init__()\n",
        "\n",
        "        self.labels = labels\n",
        "        self.tweets = [tokenizer(tweet) for tweet in tweets]\n",
        "\n",
        "    def __len__(self):\n",
        "        return len(self.tweets)\n",
        "\n",
        "    def __getitem__(self, index):\n",
        "        return self.tweets[index], self.labels[index]"
      ],
      "metadata": {
        "execution": {
          "iopub.status.busy": "2022-02-27T12:04:22.057598Z",
          "iopub.execute_input": "2022-02-27T12:04:22.057840Z",
          "iopub.status.idle": "2022-02-27T12:04:28.264530Z",
          "shell.execute_reply.started": "2022-02-27T12:04:22.057810Z",
          "shell.execute_reply": "2022-02-27T12:04:28.263581Z"
        },
        "trusted": true,
        "colab": {
          "base_uri": "https://localhost:8080/",
          "height": 201,
          "referenced_widgets": [
            "d73bf64ca38147628aed366d73faf8c2",
            "68cd6b0629344642befea7be0025b341",
            "f8a4976b1d834750b662ee26aefe9bc4",
            "d3a15ecd61124116874fa50bb06c719c",
            "f77217d906414ed694b960c72377c574",
            "446b22c17835406cb6c8963700c9c7d9",
            "22ec7a32be394cd5bd9ee4386a64c5b8",
            "776508312454457f89fb3400dc12b33d",
            "d016761433874c8eb95726945e5657fb",
            "ed1d7ba6030e44ec93ee3112455f39da",
            "f7202e4be3cf43e9888d964fa8a7dd50",
            "53dac853c2f24071a715a9e2a250582f",
            "bea3e69410d84616b0e56ce9e91af012",
            "f1b2123eeb43428cbed16b095dad01d3",
            "af0ca0efc63b4eabb09c51d12327d63b",
            "03e1e7c180cd45b5b4f4fda308fe8ddd",
            "d52692e2755d4306841f27536ee6b056",
            "0a9209976f564fa9a107bc420203eeb0",
            "a445e344255945be98baa38e5aef99f0",
            "4b55be06001b4be1973c4da6e82200ab",
            "0288a61a9bad4f4eac8d7660d451651f",
            "ec789641a67d482da900639b28a6263b",
            "daf4f5eba76f4a63aa1814a4aac804e9",
            "422d8119a2b74d3792783d3aa7c616bc",
            "89158b43a85646d8a3afdc822543debd",
            "056460c76ab74aee9ec0d63667e09bc9",
            "22aa70118b414ac99c4f4b498e33a748",
            "d4ae6845788a49e28f7594f52e5cf4cc",
            "afe7c663ebee4e9c9d5d10d80c519d6b",
            "a3b87c099a144f2888190f40f3deb641",
            "557372a3ba8f4efb8f283bb58ef7eb7a",
            "41762d0ad85b4d67ae58c9b58b45c2f8",
            "c728783e260c4bcd9c24bd19a9a576fa",
            "9b86020ac11e49b3bc09a5b4fb6042d7",
            "57e473734ef1490b84ba484fa6e07e32",
            "15e6442d227946649825de29c156f394",
            "a269e197fa1d43a6a248eff5aa9ed3ac",
            "8ac1acc9ee264b2ba89e6abdc0bce574",
            "420d3bdc642a4aebb2ffee27759ab50c",
            "ca5db1c55dbc4aeea0461a502d79ec99",
            "5143fad2df0f41b292182f63b9ad484e",
            "e67a48793dab4fef8852450f76b8a0f4",
            "5ef093e78f7640c2b4df5f9a33de1a4d",
            "65a4841245cc454484ba3af359b3cf5b"
          ]
        },
        "id": "TvZqs9vgEu2J",
        "outputId": "d27419c5-791a-4f73-cd1d-5e63c9d78100"
      },
      "execution_count": 23,
      "outputs": [
        {
          "output_type": "display_data",
          "data": {
            "application/vnd.jupyter.widget-view+json": {
              "model_id": "d73bf64ca38147628aed366d73faf8c2",
              "version_minor": 0,
              "version_major": 2
            },
            "text/plain": [
              "Downloading:   0%|          | 0.00/28.0 [00:00<?, ?B/s]"
            ]
          },
          "metadata": {}
        },
        {
          "output_type": "display_data",
          "data": {
            "application/vnd.jupyter.widget-view+json": {
              "model_id": "53dac853c2f24071a715a9e2a250582f",
              "version_minor": 0,
              "version_major": 2
            },
            "text/plain": [
              "Downloading:   0%|          | 0.00/226k [00:00<?, ?B/s]"
            ]
          },
          "metadata": {}
        },
        {
          "output_type": "display_data",
          "data": {
            "application/vnd.jupyter.widget-view+json": {
              "model_id": "daf4f5eba76f4a63aa1814a4aac804e9",
              "version_minor": 0,
              "version_major": 2
            },
            "text/plain": [
              "Downloading:   0%|          | 0.00/455k [00:00<?, ?B/s]"
            ]
          },
          "metadata": {}
        },
        {
          "output_type": "display_data",
          "data": {
            "application/vnd.jupyter.widget-view+json": {
              "model_id": "9b86020ac11e49b3bc09a5b4fb6042d7",
              "version_minor": 0,
              "version_major": 2
            },
            "text/plain": [
              "Downloading:   0%|          | 0.00/570 [00:00<?, ?B/s]"
            ]
          },
          "metadata": {}
        }
      ]
    },
    {
      "cell_type": "markdown",
      "source": [
        "### Creating the BERT Classifier"
      ],
      "metadata": {
        "id": "oXaZ4RDiG2SP"
      }
    },
    {
      "cell_type": "code",
      "source": [
        "class BertTweetClassifier(nn.Module):\n",
        "    def __init__(self) -> None:\n",
        "        super().__init__()\n",
        "        \n",
        "        self.bert = BertModel.from_pretrained('bert-base-uncased')\n",
        "        self.dropout = nn.Dropout(p=DROPOUT)\n",
        "        self.linear = nn.Linear(BERT_CLS_SIZE, NUM_CLASSES)\n",
        "        self.relu = nn.ReLU()\n",
        "\n",
        "    def forward(self, input, mask):\n",
        "        _, bertOut = self.bert(input_ids=input, attention_mask=mask, return_dict=False)\n",
        "        ffOut = self.linear(self.dropout(bertOut))\n",
        "\n",
        "        return self.relu(ffOut)"
      ],
      "metadata": {
        "id": "AHZkMUTgG2SP",
        "execution": {
          "iopub.status.busy": "2022-02-27T12:04:28.266077Z",
          "iopub.execute_input": "2022-02-27T12:04:28.266501Z",
          "iopub.status.idle": "2022-02-27T12:04:28.275591Z",
          "shell.execute_reply.started": "2022-02-27T12:04:28.266436Z",
          "shell.execute_reply": "2022-02-27T12:04:28.274570Z"
        },
        "trusted": true
      },
      "execution_count": 24,
      "outputs": []
    },
    {
      "cell_type": "markdown",
      "source": [
        "### Training the Model"
      ],
      "metadata": {
        "id": "KafPfNY_G2SP"
      }
    },
    {
      "cell_type": "code",
      "source": [
        "def trainModel(model, optimizer, trainSetLoader, validSetLoader):\n",
        "    # Loss, F1 Score & Total Predictions after every epoch are stored here\n",
        "    lastEpochValidOutput = []\n",
        "    epochValidPredictions: List[int]\n",
        "    validF1: np.ndarray = np.empty(EPOCHS, dtype=float)\n",
        "    validErrors: np.ndarray = np.empty(EPOCHS, dtype=float)\n",
        "\n",
        "    trainF1: np.ndarray = np.empty(EPOCHS, dtype=float)\n",
        "    trainErrors: np.ndarray = np.empty(EPOCHS, dtype=float)\n",
        "    epochTrainPredictions: List[int]\n",
        "\n",
        "    # Epochs loop\n",
        "    for epoch in range(EPOCHS):\n",
        "        # Set model to train mode\n",
        "        trainEpochLabels = []\n",
        "        epochTrainPredictions = []\n",
        "        trainBatchLosses = []\n",
        "        trainBatchAccs = []\n",
        "\n",
        "        validEpochLabels = []\n",
        "        epochValidPredictions = []\n",
        "        validBatchLosses = []\n",
        "        validBatchAccs = []\n",
        "\n",
        "        model.train()\n",
        "\n",
        "        # Batch loop\n",
        "        for tweets, labels in trainSetLoader:\n",
        "            labels = labels.to(DEVICE)\n",
        "            inputIds = tweets['input_ids'].squeeze(1).to(DEVICE)\n",
        "            masks = tweets['attention_mask'].to(DEVICE)\n",
        "            # Make predictions for batch samples\n",
        "            predictions = model(inputIds, masks)\n",
        "\n",
        "            # Extract & store predicted labels and calculate accuracy\n",
        "            predictedLabels = getPredictedLabels(predictions)\n",
        "            epochTrainPredictions.extend(predictedLabels)\n",
        "            trainBatchAccs.append(calculateAccuracy(predictedLabels, labels))\n",
        "\n",
        "            # Run loss function, store loss & backpropagate\n",
        "            batchLoss = lossFunction(predictions, labels.long())\n",
        "            trainBatchLosses.append(batchLoss.item())\n",
        "\n",
        "            optimizer.zero_grad()\n",
        "\n",
        "            batchLoss.backward()\n",
        "\n",
        "            optimizer.step()\n",
        "            trainEpochLabels.extend(labels.cpu())\n",
        "            # Set model to evaluation mode\n",
        "\n",
        "        model.eval()\n",
        "        with torch.no_grad():\n",
        "            \n",
        "            for tweets, labels in validSetLoader:\n",
        "                labels = labels.to(DEVICE)\n",
        "                inputIds = tweets['input_ids'].squeeze(1).to(DEVICE)\n",
        "                masks = tweets['attention_mask'].to(DEVICE)\n",
        "                # Make predictions for batch samples\n",
        "                predictions = model(inputIds, masks)\n",
        "\n",
        "                # Extract & store predicted labels and calculate accuracy\n",
        "                predictedLabels = getPredictedLabels(predictions)\n",
        "                epochValidPredictions.extend(predictedLabels)\n",
        "                validBatchAccs.append(calculateAccuracy(predictedLabels, labels))\n",
        "\n",
        "                # Run loss function & store loss\n",
        "                batchLoss = lossFunction(predictions, labels.long())\n",
        "                validBatchLosses.append(batchLoss.item())\n",
        "\n",
        "                validEpochLabels.extend(labels.cpu())\n",
        "\n",
        "                if epoch == EPOCHS - 1:\n",
        "                    lastEpochValidOutput.extend(predictions.cpu())\n",
        "\n",
        "        # Find the total epoch loss & F1 Score for both sets\n",
        "        trainErrors[epoch] = sum(trainBatchLosses)/len(trainBatchLosses)\n",
        "        trainF1[epoch] = f1_score(trainEpochLabels, epochTrainPredictions, average=\"micro\")\n",
        "        \n",
        "        validErrors[epoch] = sum(validBatchLosses)/len(validBatchLosses)\n",
        "        validF1[epoch] = f1_score(validEpochLabels, epochValidPredictions, average=\"micro\")\n",
        "        \n",
        "        print(f\"Epoch {epoch:2} Train Acc = {sum(trainBatchAccs)/len(trainBatchAccs):.5f} Valid Acc = {sum(validBatchAccs)/len(validBatchAccs):.5f}\\r\")\n",
        "\n",
        "    return (validEpochLabels, epochValidPredictions, validF1, validErrors, lastEpochValidOutput,\n",
        "            trainEpochLabels, trainF1, trainErrors, epochTrainPredictions)"
      ],
      "metadata": {
        "id": "lnDp2G_nG2SP",
        "execution": {
          "iopub.status.busy": "2022-02-27T12:04:28.277632Z",
          "iopub.execute_input": "2022-02-27T12:04:28.278314Z",
          "iopub.status.idle": "2022-02-27T12:04:28.300956Z",
          "shell.execute_reply.started": "2022-02-27T12:04:28.278268Z",
          "shell.execute_reply": "2022-02-27T12:04:28.299750Z"
        },
        "trusted": true
      },
      "execution_count": 25,
      "outputs": []
    },
    {
      "cell_type": "markdown",
      "source": [
        "### Converting the NN output to predictions\n",
        "We apply `log_softmax` to the output vector and map each vector to the index of the maximum element of the vector."
      ],
      "metadata": {
        "id": "MnqCBEZkXcjU"
      }
    },
    {
      "cell_type": "code",
      "source": [
        "def getPredictedLabels(predictions: torch.Tensor) -> np.ndarray:\n",
        "    softmaxLayerOut = torch.log_softmax(predictions, dim = 1)\n",
        "    _, labels = torch.max(softmaxLayerOut, dim = 1)\n",
        "    return labels.cpu().detach().numpy()"
      ],
      "metadata": {
        "id": "6VguOx9Lbl4X",
        "execution": {
          "iopub.status.busy": "2022-02-27T12:04:28.302690Z",
          "iopub.execute_input": "2022-02-27T12:04:28.303407Z",
          "iopub.status.idle": "2022-02-27T12:04:28.317491Z",
          "shell.execute_reply.started": "2022-02-27T12:04:28.303359Z",
          "shell.execute_reply": "2022-02-27T12:04:28.316521Z"
        },
        "trusted": true
      },
      "execution_count": 26,
      "outputs": []
    },
    {
      "cell_type": "markdown",
      "source": [
        "### Calculating macro accuracy"
      ],
      "metadata": {
        "id": "jFdbXz97S7um"
      }
    },
    {
      "cell_type": "code",
      "source": [
        "def calculateAccuracy(predictedLabels: Iterable[Number], trueLabels: Iterable[Number]) -> float:    \n",
        "    correct = 0\n",
        "    for pred, true in zip(predictedLabels, trueLabels):\n",
        "        correct += int(pred == true)\n",
        "    \n",
        "    return correct/len(trueLabels)*100"
      ],
      "metadata": {
        "id": "9u1OkBcKbl4W",
        "execution": {
          "iopub.status.busy": "2022-02-27T12:04:28.319098Z",
          "iopub.execute_input": "2022-02-27T12:04:28.319527Z",
          "iopub.status.idle": "2022-02-27T12:04:28.329324Z",
          "shell.execute_reply.started": "2022-02-27T12:04:28.319449Z",
          "shell.execute_reply": "2022-02-27T12:04:28.328295Z"
        },
        "trusted": true
      },
      "execution_count": 27,
      "outputs": []
    },
    {
      "cell_type": "markdown",
      "source": [
        "### Plotting a confusion matrix\n",
        "We can change the displayed labels (`0` -> `Neutral`, `1` -> `Anti-Vaccine`, `2` -> `Pro-Vaccine`) if desired."
      ],
      "metadata": {
        "id": "r_aRDUT_S7um"
      }
    },
    {
      "cell_type": "code",
      "source": [
        "def plotConfusionMatrix(trueLabels: Iterable[int], predictions:Iterable[int], title: str, displayLabels: Iterable[str]=None, axes: plt.Axes=None):\n",
        "    if axes is None:\n",
        "        _, axes = plt.subplots(1, 1, figsize=(6,5))\n",
        "    disp = ConfusionMatrixDisplay.from_predictions(trueLabels, predictions, cmap=plt.cm.Reds, ax=axes, colorbar=False)\n",
        "    if displayLabels is not None:\n",
        "        disp.ax_.set_xticklabels(displayLabels)\n",
        "        disp.ax_.set_yticklabels(displayLabels)\n",
        "    axes.set_xlabel('Classifier predicted labels', fontsize=11)\n",
        "    axes.set_ylabel('True labels', fontsize=11)\n",
        "    axes.set_title(title, fontsize=14)"
      ],
      "metadata": {
        "id": "81ZBEyMaL3BA",
        "execution": {
          "iopub.status.busy": "2022-02-27T12:04:28.332801Z",
          "iopub.execute_input": "2022-02-27T12:04:28.333043Z",
          "iopub.status.idle": "2022-02-27T12:04:28.341439Z",
          "shell.execute_reply.started": "2022-02-27T12:04:28.333014Z",
          "shell.execute_reply": "2022-02-27T12:04:28.340497Z"
        },
        "trusted": true
      },
      "execution_count": 28,
      "outputs": []
    },
    {
      "cell_type": "markdown",
      "source": [
        "### Plotting F1 learning curves\n",
        "We calculate the F1 score on the Train and Validation sets after every epoch, to create the corresponding F1 learning curves."
      ],
      "metadata": {
        "id": "PmIfHN5HS7un"
      }
    },
    {
      "cell_type": "code",
      "source": [
        "def displayF1Curves(epochs: int, tScores: Iterable[Number], vScores: Iterable[Number]):\n",
        "\n",
        "    epochValues = [i for i in range(epochs)]\n",
        "\n",
        "    _, axes = plt.subplots(1, 1, figsize=(7, 6))\n",
        "    axes.grid()\n",
        "    axes.set_title('F1 Scores')\n",
        "    axes.plot(epochValues, tScores, \"-\", color=\"r\", label=\"Training Set score\")\n",
        "    axes.plot(epochValues, vScores, \"-\", color=\"g\", label=\"Validation Set score\")\n",
        "\n",
        "    yValues = np.concatenate((tScores, vScores))\n",
        "    axes.set_xlim((epochValues[0], epochValues[-1]))\n",
        "    axes.set_ylim(( round(min(yValues) - 0.05, 1), round(max(yValues) + 0.05, 1) ))\n",
        "    axes.legend(loc=\"best\")\n",
        "\n",
        "    plt.show()"
      ],
      "metadata": {
        "id": "ECwOGJcWMJx9",
        "execution": {
          "iopub.status.busy": "2022-02-27T12:04:28.343393Z",
          "iopub.execute_input": "2022-02-27T12:04:28.344029Z",
          "iopub.status.idle": "2022-02-27T12:04:28.358376Z",
          "shell.execute_reply.started": "2022-02-27T12:04:28.343970Z",
          "shell.execute_reply": "2022-02-27T12:04:28.357329Z"
        },
        "trusted": true
      },
      "execution_count": 29,
      "outputs": []
    },
    {
      "cell_type": "markdown",
      "source": [
        "### Calculating metric scores on the trained model predictions\n",
        "- For each different training set size, we calculate the **F1**, **Precision** and **Recall** scores\n",
        "of the predictions made by the classifier after the end of the train phase, on the training & validation sets.\n",
        "- We store these scores in two `dict` objects which we return."
      ],
      "metadata": {
        "id": "6Xb7hc0jS7un"
      }
    },
    {
      "cell_type": "code",
      "source": [
        "F1_KEY = \"F1\"\n",
        "PREC_KEY = \"Precision\"\n",
        "REC_KEY = \"Recall\"\n",
        "\n",
        "def metricScores(trainPredictions: Iterable[int], validPredictions: Iterable[int], trainLabels: Iterable[int], validLabels: Iterable[int]):\n",
        "    tScores = {}\n",
        "    vScores = {}\n",
        "    tScores[F1_KEY] = round(f1_score(trainLabels, trainPredictions, average=\"micro\"), 4)\n",
        "    tScores[PREC_KEY] = round(precision_score(trainLabels, trainPredictions, average=\"macro\"), 4)\n",
        "    tScores[REC_KEY] = round(recall_score(trainLabels, trainPredictions, average=\"macro\"), 4)\n",
        "\n",
        "    vScores[F1_KEY] = round(f1_score(validLabels, validPredictions, average=\"micro\"), 4)\n",
        "    vScores[PREC_KEY] = round(precision_score(validLabels, validPredictions, average=\"macro\"), 4)\n",
        "    vScores[REC_KEY] = round(recall_score(validLabels, validPredictions, average=\"macro\"), 4)\n",
        "    \n",
        "    return tScores, vScores"
      ],
      "metadata": {
        "id": "jiZFFV4YMWqD",
        "execution": {
          "iopub.status.busy": "2022-02-27T12:04:28.359935Z",
          "iopub.execute_input": "2022-02-27T12:04:28.360428Z",
          "iopub.status.idle": "2022-02-27T12:04:28.372376Z",
          "shell.execute_reply.started": "2022-02-27T12:04:28.360382Z",
          "shell.execute_reply": "2022-02-27T12:04:28.371315Z"
        },
        "trusted": true
      },
      "execution_count": 30,
      "outputs": []
    },
    {
      "cell_type": "markdown",
      "source": [
        "### Getting the final scores in a data frame\n",
        "We place the scores of the predictions made after the end of training in a data frame for better readability."
      ],
      "metadata": {
        "id": "jG2XAn41S7uo"
      }
    },
    {
      "cell_type": "code",
      "source": [
        "def metricStatsDF(tScores: Dict[str, Number], vScores: Dict[str, Number]):\n",
        "    metricStats: Dict[str, List[Number]] = {}\n",
        "    for metric in tScores:\n",
        "        metricStats[metric] = [tScores[metric], vScores[metric]]\n",
        "    \n",
        "    return pd.DataFrame(metricStats, index=['Train', 'Validation'])"
      ],
      "metadata": {
        "id": "kYqeBKkyMXQp",
        "execution": {
          "iopub.status.busy": "2022-02-27T12:04:28.374564Z",
          "iopub.execute_input": "2022-02-27T12:04:28.374901Z",
          "iopub.status.idle": "2022-02-27T12:04:28.386608Z",
          "shell.execute_reply.started": "2022-02-27T12:04:28.374856Z",
          "shell.execute_reply": "2022-02-27T12:04:28.385673Z"
        },
        "trusted": true
      },
      "execution_count": 31,
      "outputs": []
    },
    {
      "cell_type": "markdown",
      "source": [
        "### Plotting Loss curves for the after-training predictions on the Training & Validation sets"
      ],
      "metadata": {
        "id": "4Io36_pZS7up"
      }
    },
    {
      "cell_type": "code",
      "source": [
        "def plotLossCurves(trainLosses: Iterable[Number], validationLosses: Iterable[Number], axes: plt.Axes = None):\n",
        "    if axes is None:\n",
        "        _, axes = plt.subplots(1, 1, figsize=(6,5))\n",
        "    \n",
        "    axes.grid()\n",
        "    axes.set_title(\"Loss Curves\", fontsize=14)\n",
        "    axes.set_xlabel('Epochs', fontsize=12)\n",
        "    axes.set_ylabel('Loss', fontsize=12)\n",
        "    \n",
        "    epochs = [i for i in range(len(validationLosses))]\n",
        "\n",
        "    axes.plot(epochs, trainLosses, label='Train Set')\n",
        "    axes.plot(epochs, validationLosses, label='Validation Set')\n",
        "\n",
        "    axes.legend(loc=\"best\")\n",
        "    plt.show()"
      ],
      "metadata": {
        "id": "jELCfu9tMm8W",
        "execution": {
          "iopub.status.busy": "2022-02-27T12:04:28.388535Z",
          "iopub.execute_input": "2022-02-27T12:04:28.388891Z",
          "iopub.status.idle": "2022-02-27T12:04:28.400235Z",
          "shell.execute_reply.started": "2022-02-27T12:04:28.388845Z",
          "shell.execute_reply": "2022-02-27T12:04:28.399137Z"
        },
        "trusted": true
      },
      "execution_count": 32,
      "outputs": []
    },
    {
      "cell_type": "markdown",
      "source": [
        "### Creating & Plotting ROC Curves for the Validation Set predictions\n",
        "We mirror the usage of `roc_curve` from scikit-learn for multiple classes, as demonstrated [here](https://scikit-learn.org/stable/auto_examples/model_selection/plot_roc.html#plot-roc-curves-for-the-multiclass-problem)."
      ],
      "metadata": {
        "id": "oDgEiYn0S7up"
      }
    },
    {
      "cell_type": "code",
      "source": [
        "def createRocCurves(trueLabels: Iterable[int] , predictions: torch.Tensor):\n",
        "    labels = np.zeros((len(trueLabels), NUM_CLASSES), dtype=int)\n",
        "    for index, label in enumerate(trueLabels):\n",
        "        labels[index][label] = 1\n",
        "    scores = torch.softmax(predictions, dim = 1).detach().numpy()\n",
        "\n",
        "    fpr: Dict[int, np.ndarray] = {}\n",
        "    tpr: Dict[int, np.ndarray] = {}\n",
        "    roc_auc: Dict[int, np.ndarray] = {}\n",
        "    for i in range(NUM_CLASSES):\n",
        "        fpr[i], tpr[i], _ = roc_curve(labels[:, i], scores[:, i], drop_intermediate=True)\n",
        "        roc_auc[i] = auc(fpr[i], tpr[i])\n",
        "    \n",
        "    return fpr, tpr, roc_auc\n",
        "\n",
        "def plotRocCurves(fpRates: Dict[int, np.ndarray], tpRates: Dict[int, np.ndarray], aucScores: Dict[int, np.ndarray]):\n",
        "    plt.figure(figsize=(7,7))\n",
        "    plt.grid()\n",
        "\n",
        "    for i in range(NUM_CLASSES):\n",
        "        plt.plot(\n",
        "            fpRates[i],\n",
        "            tpRates[i],\n",
        "            label=f\"{CLASS_NAMES[i]} (area = {aucScores[i]:0.2f})\"\n",
        "        )\n",
        "\n",
        "    plt.plot([0, 1], [0, 1], \"k--\")\n",
        "    plt.xlim([0.0, 1.0])\n",
        "    plt.ylim([0.0, 1.05])\n",
        "    plt.xlabel(\"False Positive Rate\")\n",
        "    plt.ylabel(\"True Positive Rate\")\n",
        "    plt.title(\"ROC Curves\")\n",
        "    plt.legend(loc=\"lower right\")\n",
        "    plt.show()\n",
        "    pass"
      ],
      "metadata": {
        "id": "ZMswk57OMs0N",
        "execution": {
          "iopub.status.busy": "2022-02-27T12:04:28.402004Z",
          "iopub.execute_input": "2022-02-27T12:04:28.402578Z",
          "iopub.status.idle": "2022-02-27T12:04:28.417770Z",
          "shell.execute_reply.started": "2022-02-27T12:04:28.402534Z",
          "shell.execute_reply": "2022-02-27T12:04:28.416624Z"
        },
        "trusted": true
      },
      "execution_count": 33,
      "outputs": []
    },
    {
      "cell_type": "markdown",
      "source": [
        "## Execution Flow"
      ],
      "metadata": {
        "id": "eyWugm8_I5tS"
      }
    },
    {
      "cell_type": "code",
      "source": [
        "trainDataset = TweetDataset(X_train, trainLabels)\n",
        "trainSetLoader = DataLoader(trainDataset, batch_size=BATCH_SIZE, shuffle=False)\n",
        "\n",
        "validDataset = TweetDataset(X_valid, validLabels)\n",
        "validSetLoader = DataLoader(validDataset, batch_size=BATCH_SIZE, shuffle=False)\n",
        "\n",
        "model = BertTweetClassifier().to(DEVICE)\n",
        "lossFunction = nn.CrossEntropyLoss()\n",
        "optimizer = torch.optim.Adam(model.parameters(), lr=LEARNING_RATE)"
      ],
      "metadata": {
        "id": "yhLCJyYC5mJn",
        "outputId": "d1639ed4-f7ea-47cb-8c79-cfd3d5405b75",
        "execution": {
          "iopub.status.busy": "2022-02-27T12:04:28.419544Z",
          "iopub.execute_input": "2022-02-27T12:04:28.420615Z",
          "iopub.status.idle": "2022-02-27T12:05:13.046607Z",
          "shell.execute_reply.started": "2022-02-27T12:04:28.420485Z",
          "shell.execute_reply": "2022-02-27T12:05:13.045308Z"
        },
        "trusted": true,
        "colab": {
          "base_uri": "https://localhost:8080/",
          "height": 149,
          "referenced_widgets": [
            "04b5dde052a0442280e0487c4480fa1f",
            "17b8d3af2e184d0d96b3df6511442e1b",
            "451a448b8e6b48ad9e5b77ec7aba02ab",
            "0e3dbddd2d6742ce890d121cc90556f4",
            "a768acad63f743b09693b82a6519efb7",
            "2934f918c27a491481759b09a6de4294",
            "eb90cb92157a43d1881d394a2bd77ebf",
            "a4e7d236fd8e4f98afa59349ef6a59d3",
            "3393ceb44afb46f98da5f7d474684cef",
            "4e35cd9955e04ba6858fc7c58bb1eb33",
            "6eaaeb6561194726b2b07957ae3a3060"
          ]
        }
      },
      "execution_count": 34,
      "outputs": [
        {
          "output_type": "display_data",
          "data": {
            "application/vnd.jupyter.widget-view+json": {
              "model_id": "04b5dde052a0442280e0487c4480fa1f",
              "version_minor": 0,
              "version_major": 2
            },
            "text/plain": [
              "Downloading:   0%|          | 0.00/420M [00:00<?, ?B/s]"
            ]
          },
          "metadata": {}
        },
        {
          "output_type": "stream",
          "name": "stderr",
          "text": [
            "Some weights of the model checkpoint at bert-base-uncased were not used when initializing BertModel: ['cls.predictions.bias', 'cls.predictions.decoder.weight', 'cls.seq_relationship.bias', 'cls.seq_relationship.weight', 'cls.predictions.transform.dense.weight', 'cls.predictions.transform.LayerNorm.bias', 'cls.predictions.transform.dense.bias', 'cls.predictions.transform.LayerNorm.weight']\n",
            "- This IS expected if you are initializing BertModel from the checkpoint of a model trained on another task or with another architecture (e.g. initializing a BertForSequenceClassification model from a BertForPreTraining model).\n",
            "- This IS NOT expected if you are initializing BertModel from the checkpoint of a model that you expect to be exactly identical (initializing a BertForSequenceClassification model from a BertForSequenceClassification model).\n"
          ]
        }
      ]
    },
    {
      "cell_type": "code",
      "source": [
        "(validItrlabels,\n",
        " validPredictions,\n",
        " validF1,\n",
        " validErrors,\n",
        " validOutput,\n",
        " trainLabels,\n",
        " trainF1,\n",
        " trainErrors,\n",
        " epochTrainPredictions) = trainModel(model, optimizer, trainSetLoader, validSetLoader)"
      ],
      "metadata": {
        "id": "MqI5uI7Ebl4Y",
        "outputId": "b2283028-8ba1-458c-eb4a-45057142f215",
        "execution": {
          "iopub.status.busy": "2022-02-27T12:05:13.048210Z",
          "iopub.execute_input": "2022-02-27T12:05:13.048588Z"
        },
        "trusted": true,
        "colab": {
          "base_uri": "https://localhost:8080/"
        }
      },
      "execution_count": 35,
      "outputs": [
        {
          "output_type": "stream",
          "name": "stdout",
          "text": [
            "Epoch  0 Train Acc = 67.81000 Valid Acc = 74.49570\n",
            "Epoch  1 Train Acc = 78.52625 Valid Acc = 77.38302\n",
            "Epoch  2 Train Acc = 86.89500 Valid Acc = 75.20875\n"
          ]
        }
      ]
    },
    {
      "cell_type": "code",
      "source": [
        "_, ax = plt.subplots(1, 2, figsize=(13,5))\n",
        "plotConfusionMatrix(validItrlabels, validPredictions, 'Validation Set', CLASS_NAMES, ax[0])\n",
        "plotConfusionMatrix(trainLabels, epochTrainPredictions, 'Train Set', CLASS_NAMES, ax[1])\n",
        "plt.show()"
      ],
      "metadata": {
        "id": "A8Tj6JydLWrb",
        "trusted": true,
        "colab": {
          "base_uri": "https://localhost:8080/",
          "height": 292
        },
        "outputId": "41dcebb1-14cf-4d9c-acb2-75631ddc21ea"
      },
      "execution_count": 42,
      "outputs": [
        {
          "output_type": "display_data",
          "data": {
            "image/png": "[encoded data removed]",
            "text/plain": [
              "<Figure size 936x360 with 2 Axes>"
            ]
          },
          "metadata": {
            "needs_background": "light"
          }
        }
      ]
    },
    {
      "cell_type": "code",
      "source": [
        "#displayF1Curves(EPOCHS, trainF1, validF1)"
      ],
      "metadata": {
        "id": "ebOZdOGJMF-h",
        "trusted": true
      },
      "execution_count": 43,
      "outputs": []
    },
    {
      "cell_type": "code",
      "source": [
        "scores = metricScores(epochTrainPredictions, validPredictions, trainLabels, validItrlabels)\n",
        "metricStatsDF(*scores)"
      ],
      "metadata": {
        "id": "7v42C7FlMUNo",
        "trusted": true,
        "colab": {
          "base_uri": "https://localhost:8080/",
          "height": 112
        },
        "outputId": "b6a51108-1578-4065-8a46-3a7046d3907e"
      },
      "execution_count": 38,
      "outputs": [
        {
          "output_type": "execute_result",
          "data": {
            "text/html": [
              "\n",
              "  <div id=\"df-50b552a1-e9c4-4051-89f4-305d51874181\">\n",
              "    <div class=\"colab-df-container\">\n",
              "      <div>\n",
              "<style scoped>\n",
              "    .dataframe tbody tr th:only-of-type {\n",
              "        vertical-align: middle;\n",
              "    }\n",
              "\n",
              "    .dataframe tbody tr th {\n",
              "        vertical-align: top;\n",
              "    }\n",
              "\n",
              "    .dataframe thead th {\n",
              "        text-align: right;\n",
              "    }\n",
              "</style>\n",
              "<table border=\"1\" class=\"dataframe\">\n",
              "  <thead>\n",
              "    <tr style=\"text-align: right;\">\n",
              "      <th></th>\n",
              "      <th>F1</th>\n",
              "      <th>Precision</th>\n",
              "      <th>Recall</th>\n",
              "    </tr>\n",
              "  </thead>\n",
              "  <tbody>\n",
              "    <tr>\n",
              "      <th>Train</th>\n",
              "      <td>0.8689</td>\n",
              "      <td>0.8434</td>\n",
              "      <td>0.8357</td>\n",
              "    </tr>\n",
              "    <tr>\n",
              "      <th>Validation</th>\n",
              "      <td>0.7515</td>\n",
              "      <td>0.7116</td>\n",
              "      <td>0.7319</td>\n",
              "    </tr>\n",
              "  </tbody>\n",
              "</table>\n",
              "</div>\n",
              "      <button class=\"colab-df-convert\" onclick=\"convertToInteractive('df-50b552a1-e9c4-4051-89f4-305d51874181')\"\n",
              "              title=\"Convert this dataframe to an interactive table.\"\n",
              "              style=\"display:none;\">\n",
              "        \n",
              "  <svg xmlns=\"http://www.w3.org/2000/svg\" height=\"24px\"viewBox=\"0 0 24 24\"\n",
              "       width=\"24px\">\n",
              "    <path d=\"M0 0h24v24H0V0z\" fill=\"none\"/>\n",
              "    <path d=\"M18.56 5.44l.94 2.06.94-2.06 2.06-.94-2.06-.94-.94-2.06-.94 2.06-2.06.94zm-11 1L8.5 8.5l.94-2.06 2.06-.94-2.06-.94L8.5 2.5l-.94 2.06-2.06.94zm10 10l.94 2.06.94-2.06 2.06-.94-2.06-.94-.94-2.06-.94 2.06-2.06.94z\"/><path d=\"M17.41 7.96l-1.37-1.37c-.4-.4-.92-.59-1.43-.59-.52 0-1.04.2-1.43.59L10.3 9.45l-7.72 7.72c-.78.78-.78 2.05 0 2.83L4 21.41c.39.39.9.59 1.41.59.51 0 1.02-.2 1.41-.59l7.78-7.78 2.81-2.81c.8-.78.8-2.07 0-2.86zM5.41 20L4 18.59l7.72-7.72 1.47 1.35L5.41 20z\"/>\n",
              "  </svg>\n",
              "      </button>\n",
              "      \n",
              "  <style>\n",
              "    .colab-df-container {\n",
              "      display:flex;\n",
              "      flex-wrap:wrap;\n",
              "      gap: 12px;\n",
              "    }\n",
              "\n",
              "    .colab-df-convert {\n",
              "      background-color: #E8F0FE;\n",
              "      border: none;\n",
              "      border-radius: 50%;\n",
              "      cursor: pointer;\n",
              "      display: none;\n",
              "      fill: #1967D2;\n",
              "      height: 32px;\n",
              "      padding: 0 0 0 0;\n",
              "      width: 32px;\n",
              "    }\n",
              "\n",
              "    .colab-df-convert:hover {\n",
              "      background-color: #E2EBFA;\n",
              "      box-shadow: 0px 1px 2px rgba(60, 64, 67, 0.3), 0px 1px 3px 1px rgba(60, 64, 67, 0.15);\n",
              "      fill: #174EA6;\n",
              "    }\n",
              "\n",
              "    [theme=dark] .colab-df-convert {\n",
              "      background-color: #3B4455;\n",
              "      fill: #D2E3FC;\n",
              "    }\n",
              "\n",
              "    [theme=dark] .colab-df-convert:hover {\n",
              "      background-color: #434B5C;\n",
              "      box-shadow: 0px 1px 3px 1px rgba(0, 0, 0, 0.15);\n",
              "      filter: drop-shadow(0px 1px 2px rgba(0, 0, 0, 0.3));\n",
              "      fill: #FFFFFF;\n",
              "    }\n",
              "  </style>\n",
              "\n",
              "      <script>\n",
              "        const buttonEl =\n",
              "          document.querySelector('#df-50b552a1-e9c4-4051-89f4-305d51874181 button.colab-df-convert');\n",
              "        buttonEl.style.display =\n",
              "          google.colab.kernel.accessAllowed ? 'block' : 'none';\n",
              "\n",
              "        async function convertToInteractive(key) {\n",
              "          const element = document.querySelector('#df-50b552a1-e9c4-4051-89f4-305d51874181');\n",
              "          const dataTable =\n",
              "            await google.colab.kernel.invokeFunction('convertToInteractive',\n",
              "                                                     [key], {});\n",
              "          if (!dataTable) return;\n",
              "\n",
              "          const docLinkHtml = 'Like what you see? Visit the ' +\n",
              "            '<a target=\"_blank\" href=https://colab.research.google.com/notebooks/data_table.ipynb>data table notebook</a>'\n",
              "            + ' to learn more about interactive tables.';\n",
              "          element.innerHTML = '';\n",
              "          dataTable['output_type'] = 'display_data';\n",
              "          await google.colab.output.renderOutput(dataTable, element);\n",
              "          const docLink = document.createElement('div');\n",
              "          docLink.innerHTML = docLinkHtml;\n",
              "          element.appendChild(docLink);\n",
              "        }\n",
              "      </script>\n",
              "    </div>\n",
              "  </div>\n",
              "  "
            ],
            "text/plain": [
              "                F1  Precision  Recall\n",
              "Train       0.8689     0.8434  0.8357\n",
              "Validation  0.7515     0.7116  0.7319"
            ]
          },
          "metadata": {},
          "execution_count": 38
        }
      ]
    },
    {
      "cell_type": "code",
      "source": [
        "#plotLossCurves(trainErrors, validErrors)"
      ],
      "metadata": {
        "id": "FBm1_QAFMlAd",
        "trusted": true
      },
      "execution_count": 44,
      "outputs": []
    },
    {
      "cell_type": "code",
      "source": [
        "validOutputTensor = torch.empty(size=(len(validOutput), NUM_CLASSES))\n",
        "for i, output in enumerate(validOutput):\n",
        "    validOutputTensor[i] = output\n",
        "rocScores = createRocCurves(torch.tensor(validItrlabels).int(), validOutputTensor)\n",
        "plotRocCurves(*rocScores)"
      ],
      "metadata": {
        "id": "FvcK45lCMvoW",
        "trusted": true,
        "colab": {
          "base_uri": "https://localhost:8080/",
          "height": 458
        },
        "outputId": "8908d278-07f2-4c10-adf9-c08e2908d175"
      },
      "execution_count": 40,
      "outputs": [
        {
          "output_type": "display_data",
          "data": {
            "image/png": "[encoded data removed]",
            "text/plain": [
              "<Figure size 504x504 with 1 Axes>"
            ]
          },
          "metadata": {
            "needs_background": "light"
          }
        }
      ]
    }
  ]
}